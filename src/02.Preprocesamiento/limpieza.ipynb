{
 "cells": [
  {
   "cell_type": "code",
   "execution_count": 17,
   "id": "645e8b52-e604-4853-9e6c-7845bf56d175",
   "metadata": {},
   "outputs": [],
   "source": [
    "import pandas as pd\n",
    "import matplotlib.pyplot as plt\n",
    "import numpy as np\n",
    "import pickle\n",
    "import glob\n",
    "import os\n",
    "\n",
    "import sys\n",
    "sys.path.append(\"../src\")\n",
    "from utils import text_processing\n",
    "from text_processing import asignar_provincia_comunidad, categorize_news\n",
    "\n",
    "from sklearn.model_selection import GridSearchCV\n",
    "from sklearn.ensemble import RandomForestClassifier\n",
    "from collections import Counter\n",
    "from sklearn.model_selection import train_test_split\n",
    "from sklearn.feature_extraction.text import TfidfVectorizer\n",
    "from sklearn.preprocessing import LabelEncoder\n",
    "from sklearn.metrics import classification_report, accuracy_score\n",
    "from imblearn.under_sampling import RandomUnderSampler\n",
    "from imblearn.over_sampling import SMOTE\n",
    "import nltk\n",
    "from nltk.corpus import stopwords\n",
    "from sklearn.ensemble import RandomForestClassifier\n",
    "\n",
    "pd.set_option(\"display.max_colwidth\", None)\n"
   ]
  },
  {
   "cell_type": "code",
   "execution_count": 11,
   "id": "b1dfcd42",
   "metadata": {},
   "outputs": [],
   "source": [
    "folder_path = \"../00.data/scraped\"\n",
    "\n",
    "csv_files = sorted(glob.glob(os.path.join(folder_path, \"*.csv\")), key=os.path.getmtime)\n",
    "\n",
    "df_list = [pd.read_csv(file) for file in csv_files]\n",
    "df = pd.concat(df_list, ignore_index=True)\n"
   ]
  },
  {
   "cell_type": "code",
   "execution_count": 12,
   "id": "d28291eb-59a1-4462-870e-0f9278c3f0fd",
   "metadata": {},
   "outputs": [],
   "source": [
    "df = df.drop_duplicates(subset=[\"news_id\"])"
   ]
  },
  {
   "cell_type": "markdown",
   "id": "dcc1a383-98ac-4015-be6a-543b7d36230f",
   "metadata": {},
   "source": [
    "## Procesamiento de 'comunidad' y 'provincia'"
   ]
  },
  {
   "cell_type": "code",
   "execution_count": 13,
   "id": "6bb6d126",
   "metadata": {},
   "outputs": [],
   "source": [
    "asignar_provincia_comunidad(df)"
   ]
  },
  {
   "cell_type": "markdown",
   "id": "1cf3873a-bfcf-41d8-8d7e-046343dbf17d",
   "metadata": {},
   "source": [
    "# Procesamiento de Categorias\n"
   ]
  },
  {
   "cell_type": "code",
   "execution_count": 14,
   "id": "7d1c683b",
   "metadata": {},
   "outputs": [],
   "source": [
    "categorize_news(df)"
   ]
  },
  {
   "cell_type": "code",
   "execution_count": 79,
   "id": "c57878be",
   "metadata": {},
   "outputs": [],
   "source": [
    "# buscando mas instancias de noticias de las categorias subrepresentadas\n",
    "\n",
    "df.loc[(df['category']=='Otros') & (df['content'].str.contains('fútbol', case=False, na=False)), 'category'] = 'Deportes'\n",
    "df.loc[(df['category']=='Otros') & (df['content'].str.contains('crim', case=False, na=False)) & (df['content'].str.contains('polic', case=False, na=False)), 'category'] = 'Crimen'\n",
    "df.loc[(df['category']=='Otros') & (df['content'].str.contains('econom', case=False, na=False)) & (df['content'].str.contains('financ', case=False, na=False)), 'category'] = 'Negocios y Economía'\n",
    "df.loc[(df['category']=='Otros') & (df['content'].str.contains('escuela', case=False, na=False)) & (df['content'].str.contains('currícu', case=False, na=False)), 'category'] = 'Educación'"
   ]
  },
  {
   "cell_type": "markdown",
   "id": "d274e009",
   "metadata": {},
   "source": [
    "### categorisando \"otros\" usando ML"
   ]
  },
  {
   "cell_type": "code",
   "execution_count": 81,
   "id": "96978645",
   "metadata": {},
   "outputs": [
    {
     "name": "stderr",
     "output_type": "stream",
     "text": [
      "[nltk_data] Downloading package stopwords to\n",
      "[nltk_data]     /Users/lucija/nltk_data...\n",
      "[nltk_data]   Package stopwords is already up-to-date!\n",
      "/var/folders/x1/dfk_lr0j0pg5th31583lwbxc0000gn/T/ipykernel_81017/2146132223.py:10: SettingWithCopyWarning: \n",
      "A value is trying to be set on a copy of a slice from a DataFrame.\n",
      "Try using .loc[row_indexer,col_indexer] = value instead\n",
      "\n",
      "See the caveats in the documentation: https://pandas.pydata.org/pandas-docs/stable/user_guide/indexing.html#returning-a-view-versus-a-copy\n",
      "  df_labeled[\"category_encoded\"] = label_encoder.fit_transform(df_labeled[\"category\"])\n"
     ]
    },
    {
     "name": "stdout",
     "output_type": "stream",
     "text": [
      "Before Sampling: Counter({9: 95400, 4: 40217, 11: 14522, 2: 632, 5: 294, 0: 254, 8: 246, 6: 240, 12: 221, 7: 200, 10: 137, 1: 69, 3: 27})\n",
      "After Sampling: Counter({4: 3000, 9: 3000, 11: 3000, 0: 1000, 2: 1000, 5: 1000, 6: 1000, 7: 1000, 8: 1000, 12: 1000, 1: 800, 3: 800, 10: 800})\n",
      "Model Accuracy: 0.8318\n",
      "              precision    recall  f1-score   support\n",
      "\n",
      "           0       1.00      0.94      0.97       200\n",
      "           1       1.00      0.98      0.99       160\n",
      "           2       0.98      0.84      0.91       200\n",
      "           3       1.00      1.00      1.00       160\n",
      "           4       0.63      0.62      0.63       600\n",
      "           5       0.99      0.92      0.96       200\n",
      "           6       0.86      0.94      0.90       200\n",
      "           7       1.00      0.99      0.99       200\n",
      "           8       0.99      0.98      0.98       200\n",
      "           9       0.71      0.76      0.74       600\n",
      "          10       0.99      0.97      0.98       160\n",
      "          11       0.71      0.74      0.72       600\n",
      "          12       0.99      0.98      0.98       200\n",
      "\n",
      "    accuracy                           0.83      3680\n",
      "   macro avg       0.91      0.90      0.90      3680\n",
      "weighted avg       0.84      0.83      0.83      3680\n",
      "\n"
     ]
    }
   ],
   "source": [
    "nltk.download(\"stopwords\")\n",
    "spanish_stopwords = stopwords.words(\"spanish\")\n",
    "\n",
    "df = df.dropna(subset=[\"content\"])\n",
    "\n",
    "df_unlabeled = df[df['category'] == \"Otros\"]\n",
    "df_labeled = df[df['category'] != \"Otros\"]\n",
    "\n",
    "label_encoder = LabelEncoder()\n",
    "df_labeled[\"category_encoded\"] = label_encoder.fit_transform(df_labeled[\"category\"])\n",
    "\n",
    "X = df_labeled[\"content\"] \n",
    "y = df_labeled[\"category_encoded\"]\n",
    "\n",
    "vectorizer = TfidfVectorizer(stop_words=spanish_stopwords, max_features=50000)\n",
    "X_tfidf = vectorizer.fit_transform(X)\n",
    "\n",
    "print(\"Before Sampling:\", Counter(y))\n",
    "\n",
    "# combinacion de under y oversampling\n",
    "undersampling_strategy = {9: 3000, 4: 3000, 11: 3000}\n",
    "oversampling_strategy = {5: 1000, 6: 1000, 12: 1000, 7: 1000, 10: 800, \n",
    "                         0: 1000, 1: 800, 8: 1000, 3: 800, 2: 1000}  \n",
    "\n",
    "undersampler = RandomUnderSampler(sampling_strategy=undersampling_strategy, random_state=42)\n",
    "X_resampled, y_resampled = undersampler.fit_resample(X_tfidf, y)\n",
    "\n",
    "oversampler = SMOTE(sampling_strategy=oversampling_strategy, random_state=42)\n",
    "X_resampled, y_resampled = oversampler.fit_resample(X_resampled, y_resampled)\n",
    "\n",
    "print(\"After Sampling:\", Counter(y_resampled))\n",
    "\n",
    "df_balanced = pd.DataFrame({\"category\": label_encoder.inverse_transform(y_resampled)})\n",
    "\n",
    "X_train, X_test, y_train, y_test = train_test_split(X_resampled, y_resampled, test_size=0.2, random_state=42, stratify=y_resampled)\n",
    "\n",
    "# usamos Random Forest classifier para entrenar el modelo\n",
    "model = RandomForestClassifier(\n",
    "    bootstrap=False, \n",
    "    max_depth=None, \n",
    "    max_features='log2', \n",
    "    min_samples_leaf=1, \n",
    "    min_samples_split=5, \n",
    "    n_estimators=300, \n",
    "    random_state=42  \n",
    ")\n",
    "\n",
    "model.fit(X_train, y_train)\n",
    "\n",
    "y_pred = model.predict(X_test)\n",
    "\n",
    "accuracy = accuracy_score(y_test, y_pred)\n",
    "print(f\"Model Accuracy: {accuracy:.4f}\")\n",
    "print(classification_report(y_test, y_pred))\n"
   ]
  },
  {
   "cell_type": "code",
   "execution_count": 82,
   "id": "56625700",
   "metadata": {},
   "outputs": [
    {
     "name": "stderr",
     "output_type": "stream",
     "text": [
      "/var/folders/x1/dfk_lr0j0pg5th31583lwbxc0000gn/T/ipykernel_81017/2067863714.py:14: SettingWithCopyWarning: \n",
      "A value is trying to be set on a copy of a slice from a DataFrame.\n",
      "Try using .loc[row_indexer,col_indexer] = value instead\n",
      "\n",
      "See the caveats in the documentation: https://pandas.pydata.org/pandas-docs/stable/user_guide/indexing.html#returning-a-view-versus-a-copy\n",
      "  df_unlabeled[\"category\"] = final_categories\n"
     ]
    }
   ],
   "source": [
    "X_unlabeled = vectorizer.transform(df_unlabeled[\"content\"])\n",
    "\n",
    "y_proba = model.predict_proba(X_unlabeled)\n",
    "\n",
    "max_probs = np.max(y_proba, axis=1)\n",
    "\n",
    "y_pred_indices = np.argmax(y_proba, axis=1)\n",
    "\n",
    "y_pred_labels = label_encoder.inverse_transform(y_pred_indices)\n",
    "\n",
    "#si modelo esta <30% cierto sobre la categorisacion, lo clasifica como \"otros\"\n",
    "final_categories = np.where(max_probs >= 0.30, y_pred_labels, \"Otros\")\n",
    "\n",
    "df_unlabeled[\"category\"] = final_categories\n"
   ]
  },
  {
   "cell_type": "code",
   "execution_count": 83,
   "id": "2d08aa0c",
   "metadata": {},
   "outputs": [],
   "source": [
    "df_final = pd.concat([df_labeled, df_unlabeled], ignore_index=True)"
   ]
  },
  {
   "cell_type": "code",
   "execution_count": 84,
   "id": "65df5266",
   "metadata": {},
   "outputs": [
    {
     "data": {
      "text/plain": [
       "category\n",
       "Política y Sociedad          143466\n",
       "Entretenimiento y Cultura     65832\n",
       "Tecnología y Ciencia          40355\n",
       "Otros                         32472\n",
       "Humor y Memes                  3023\n",
       "Deportes                        890\n",
       "Negocios y Economía             306\n",
       "Historia y Humanidades          306\n",
       "Crimen                          256\n",
       "Transporte                      222\n",
       "Medioambiente y Energía         200\n",
       "Salud y Medicina                139\n",
       "Cuestiones Sociales              69\n",
       "Educación                        27\n",
       "Name: count, dtype: int64"
      ]
     },
     "execution_count": 84,
     "metadata": {},
     "output_type": "execute_result"
    }
   ],
   "source": [
    "df_final['category'].value_counts()"
   ]
  },
  {
   "cell_type": "code",
   "execution_count": null,
   "id": "f84ba41b-326f-4568-9b3b-fadbcbb32e1c",
   "metadata": {},
   "outputs": [],
   "source": [
    "def change_type(df):\n",
    "    df = df.astype({\n",
    "        \"meneos\": \"uint16\",\n",
    "        \"karma\": \"uint16\",\n",
    "        \"positive_votes\": \"uint16\",\n",
    "        \"negative_votes\": \"uint16\",\n",
    "        \"anonymous_votes\": \"uint16\",\n",
    "        \"comments\": \"uint16\",\n",
    "        \"clicks\": \"int32\",\n",
    "        \"category\": \"category\",\n",
    "        \"provincia\": \"category\",\n",
    "        \"comunidad\": \"category\"\n",
    "    })\n",
    "\n",
    "    df[\"published_date\"] = pd.to_datetime(df[\"published_date\"], errors=\"coerce\")\n",
    "    df[\"scraped_date\"] = pd.to_datetime(df[\"scraped_date\"], errors=\"coerce\")\n",
    "\n",
    "    return df\n"
   ]
  },
  {
   "cell_type": "code",
   "execution_count": null,
   "id": "08d58159",
   "metadata": {},
   "outputs": [],
   "source": [
    "chunk_size = 100000\n",
    "num_chunks = (len(df_final) // chunk_size) + 1\n",
    "\n",
    "for i in range(num_chunks):\n",
    "    start_row = i * chunk_size\n",
    "    end_row = start_row + chunk_size\n",
    "    df_chunk = df_final.iloc[start_row:end_row]\n",
    "\n",
    "    file_name = f\"../00.data/preprocesado/meneame_procesado_{i+1}.pkl\"\n",
    "    with open(file_name, \"wb\") as f:\n",
    "        pickle.dump(df_chunk, f, protocol=pickle.HIGHEST_PROTOCOL)\n",
    "\n",
    "    print(f\"Guardado: {file_name} con {len(df_chunk)} filas\")"
   ]
  },
  {
   "cell_type": "code",
   "execution_count": null,
   "id": "ba80da22",
   "metadata": {},
   "outputs": [],
   "source": [
    "#with gzip.open(\"../00.data/preprocesado/meneame_procesado.pkl.gz\", \"wb\") as f:\n",
    "#    pickle.dump(df_final, f, protocol=pickle.HIGHEST_PROTOCOL)\n"
   ]
  },
  {
   "cell_type": "code",
   "execution_count": null,
   "id": "a3f0e31d",
   "metadata": {},
   "outputs": [],
   "source": []
  }
 ],
 "metadata": {
  "kernelspec": {
   "display_name": "venv",
   "language": "python",
   "name": "python3"
  },
  "language_info": {
   "codemirror_mode": {
    "name": "ipython",
    "version": 3
   },
   "file_extension": ".py",
   "mimetype": "text/x-python",
   "name": "python",
   "nbconvert_exporter": "python",
   "pygments_lexer": "ipython3",
   "version": "3.12.2"
  }
 },
 "nbformat": 4,
 "nbformat_minor": 5
}
