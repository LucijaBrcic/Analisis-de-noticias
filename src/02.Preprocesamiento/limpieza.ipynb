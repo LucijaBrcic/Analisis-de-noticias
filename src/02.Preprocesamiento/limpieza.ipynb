{
 "cells": [
  {
   "cell_type": "code",
   "execution_count": 52,
   "id": "645e8b52-e604-4853-9e6c-7845bf56d175",
   "metadata": {},
   "outputs": [],
   "source": [
    "import pandas as pd\n",
    "import matplotlib.pyplot as plt\n",
    "import numpy as np\n",
    "import pickle\n",
    "import glob\n",
    "import os\n",
    "import joblib\n",
    "\n",
    "import sys\n",
    "sys.path.append(\"/Users/lucija/Projects/Analisis-de-noticias/src\")  # Ensure Python finds \"utils\"\n",
    "\n",
    "# Import the class from text_processing.py\n",
    "from utils.text_processing import NewsProcessor\n",
    "\n",
    "\n",
    "from sklearn.model_selection import GridSearchCV\n",
    "from sklearn.ensemble import RandomForestClassifier\n",
    "from collections import Counter\n",
    "from sklearn.model_selection import train_test_split\n",
    "from sklearn.feature_extraction.text import TfidfVectorizer\n",
    "from sklearn.preprocessing import LabelEncoder\n",
    "from sklearn.metrics import classification_report, accuracy_score\n",
    "from imblearn.under_sampling import RandomUnderSampler\n",
    "from imblearn.over_sampling import SMOTE\n",
    "import nltk\n",
    "from nltk.corpus import stopwords\n",
    "from sklearn.ensemble import RandomForestClassifier\n",
    "\n",
    "pd.set_option(\"display.max_colwidth\", None)\n"
   ]
  },
  {
   "cell_type": "code",
   "execution_count": 53,
   "id": "b1dfcd42",
   "metadata": {},
   "outputs": [],
   "source": [
    "folder_path = \"../00.data/scraped\"\n",
    "\n",
    "csv_files = sorted(glob.glob(os.path.join(folder_path, \"*.csv\")), key=os.path.getmtime)\n",
    "\n",
    "df_list = [pd.read_csv(file) for file in csv_files]\n",
    "meneame = pd.concat(df_list, ignore_index=True)\n"
   ]
  },
  {
   "cell_type": "code",
   "execution_count": 54,
   "id": "d28291eb-59a1-4462-870e-0f9278c3f0fd",
   "metadata": {},
   "outputs": [],
   "source": [
    "meneame = meneame.drop_duplicates(subset=[\"news_id\"])"
   ]
  },
  {
   "cell_type": "code",
   "execution_count": 55,
   "id": "bacaa8c3",
   "metadata": {},
   "outputs": [],
   "source": [
    "processor = NewsProcessor()"
   ]
  },
  {
   "cell_type": "markdown",
   "id": "9eb86367",
   "metadata": {},
   "source": [
    "## Procesamiento de 'clicks'"
   ]
  },
  {
   "cell_type": "code",
   "execution_count": 56,
   "id": "d8baad7e",
   "metadata": {},
   "outputs": [],
   "source": [
    "meneame['clicks'] = meneame['clicks'].replace(0, np.nan)"
   ]
  },
  {
   "cell_type": "markdown",
   "id": "dcc1a383-98ac-4015-be6a-543b7d36230f",
   "metadata": {},
   "source": [
    "## Procesamiento de 'comunidad' y 'provincia'"
   ]
  },
  {
   "cell_type": "code",
   "execution_count": 57,
   "id": "6bb6d126",
   "metadata": {},
   "outputs": [],
   "source": [
    "meneame_prov = processor.assign_province_and_community(meneame)\n"
   ]
  },
  {
   "cell_type": "markdown",
   "id": "1cf3873a-bfcf-41d8-8d7e-046343dbf17d",
   "metadata": {},
   "source": [
    "# Procesamiento de Categorias\n"
   ]
  },
  {
   "cell_type": "code",
   "execution_count": 58,
   "id": "7d1c683b",
   "metadata": {},
   "outputs": [],
   "source": [
    "meneame_prov_categ = processor.categorize_news(meneame_prov)"
   ]
  },
  {
   "cell_type": "code",
   "execution_count": 59,
   "id": "c57878be",
   "metadata": {},
   "outputs": [],
   "source": [
    "# buscando mas instancias de noticias de las categorias subrepresentadas\n",
    "\n",
    "df.loc[(df['category']=='Otros') & (df['content'].str.contains('fútbol', case=False, na=False)), 'category'] = 'Deportes'\n",
    "df.loc[(df['category']=='Otros') & (df['content'].str.contains('crim', case=False, na=False)) & (df['content'].str.contains('polic', case=False, na=False)), 'category'] = 'Crimen'\n",
    "df.loc[(df['category']=='Otros') & (df['content'].str.contains('econom', case=False, na=False)) & (df['content'].str.contains('financ', case=False, na=False)), 'category'] = 'Negocios y Economía'\n",
    "df.loc[(df['category']=='Otros') & (df['content'].str.contains('escuela', case=False, na=False)) & (df['content'].str.contains('currícu', case=False, na=False)), 'category'] = 'Educación'"
   ]
  },
  {
   "cell_type": "markdown",
   "id": "d274e009",
   "metadata": {},
   "source": [
    "### Usando modelo de ../03_01/RFC_categorias para predecir categorias"
   ]
  },
  {
   "cell_type": "code",
   "execution_count": 60,
   "id": "c3ab8568",
   "metadata": {},
   "outputs": [],
   "source": [
    "meneame = meneame.dropna(subset=[\"content\"])\n",
    "\n",
    "meneame_unlabeled = meneame[meneame['category'] == \"Otros\"]\n",
    "meneame_labeled = meneame[meneame['category'] != \"Otros\"]\n",
    "\n",
    "model = joblib.load(\"../03_01.ML/random_forest_model.pkl\")\n",
    "vectorizer = joblib.load(\"../03_01.ML/tfidf_vectorizer.pkl\")\n",
    "label_encoder = joblib.load(\"../03_01.ML/label_encoder.pkl\")"
   ]
  },
  {
   "cell_type": "code",
   "execution_count": 61,
   "id": "56625700",
   "metadata": {},
   "outputs": [
    {
     "name": "stderr",
     "output_type": "stream",
     "text": [
      "/var/folders/x1/dfk_lr0j0pg5th31583lwbxc0000gn/T/ipykernel_4499/3948460178.py:14: SettingWithCopyWarning: \n",
      "A value is trying to be set on a copy of a slice from a DataFrame.\n",
      "Try using .loc[row_indexer,col_indexer] = value instead\n",
      "\n",
      "See the caveats in the documentation: https://pandas.pydata.org/pandas-docs/stable/user_guide/indexing.html#returning-a-view-versus-a-copy\n",
      "  meneame_unlabeled[\"category\"] = final_categories\n"
     ]
    }
   ],
   "source": [
    "X_unlabeled = vectorizer.transform(meneame_unlabeled[\"content\"])\n",
    "\n",
    "y_proba = model.predict_proba(X_unlabeled)\n",
    "\n",
    "max_probs = np.max(y_proba, axis=1)\n",
    "\n",
    "y_pred_indices = np.argmax(y_proba, axis=1)\n",
    "\n",
    "y_pred_labels = label_encoder.inverse_transform(y_pred_indices)\n",
    "\n",
    "#si modelo esta <30% cierto sobre la categorisacion, lo clasifica como \"otros\"\n",
    "final_categories = np.where(max_probs >= 0.30, y_pred_labels, \"Otros\")\n",
    "\n",
    "meneame_unlabeled[\"category\"] = final_categories\n"
   ]
  },
  {
   "cell_type": "code",
   "execution_count": 45,
   "id": "2d08aa0c",
   "metadata": {},
   "outputs": [],
   "source": [
    "meneame_final = pd.concat([meneame_labeled, meneame_unlabeled], ignore_index=True)"
   ]
  },
  {
   "cell_type": "code",
   "execution_count": 47,
   "id": "f84ba41b-326f-4568-9b3b-fadbcbb32e1c",
   "metadata": {},
   "outputs": [
    {
     "name": "stdout",
     "output_type": "stream",
     "text": [
      "<class 'pandas.core.frame.DataFrame'>\n",
      "RangeIndex: 287588 entries, 0 to 287587\n",
      "Data columns (total 19 columns):\n",
      " #   Column           Non-Null Count   Dtype         \n",
      "---  ------           --------------   -----         \n",
      " 0   news_id          287588 non-null  int64         \n",
      " 1   title            287588 non-null  object        \n",
      " 2   content          287588 non-null  object        \n",
      " 3   full_story_link  287588 non-null  object        \n",
      " 4   meneos           287588 non-null  uint16        \n",
      " 5   clicks           206923 non-null  float32       \n",
      " 6   karma            287588 non-null  uint16        \n",
      " 7   positive_votes   287588 non-null  uint16        \n",
      " 8   anonymous_votes  287588 non-null  uint16        \n",
      " 9   negative_votes   287588 non-null  uint16        \n",
      " 10  category         287588 non-null  category      \n",
      " 11  comments         287588 non-null  uint16        \n",
      " 12  published_date   287588 non-null  datetime64[ns]\n",
      " 13  user             287588 non-null  object        \n",
      " 14  source           287588 non-null  object        \n",
      " 15  source_link      287588 non-null  object        \n",
      " 16  scraped_date     287588 non-null  datetime64[ns]\n",
      " 17  provincia        47570 non-null   category      \n",
      " 18  comunidad        47570 non-null   category      \n",
      "dtypes: category(3), datetime64[ns](2), float32(1), int64(1), object(6), uint16(6)\n",
      "memory usage: 25.0+ MB\n"
     ]
    }
   ],
   "source": [
    "def change_type(df):\n",
    "    df = df.astype({\n",
    "        \"meneos\": \"uint16\",\n",
    "        \"karma\": \"uint16\",\n",
    "        \"positive_votes\": \"uint16\",\n",
    "        \"negative_votes\": \"uint16\",\n",
    "        \"anonymous_votes\": \"uint16\",\n",
    "        \"comments\": \"uint16\",\n",
    "        \"category\": \"category\",\n",
    "        \"provincia\": \"category\",\n",
    "        \"comunidad\": \"category\"\n",
    "    })\n",
    "\n",
    "    df[\"clicks\"] = df[\"clicks\"].astype(\"float32\")\n",
    "\n",
    "    df[\"published_date\"] = pd.to_datetime(df[\"published_date\"], errors=\"coerce\")\n",
    "    df[\"scraped_date\"] = pd.to_datetime(df[\"scraped_date\"], errors=\"coerce\")\n",
    "\n",
    "    return df\n",
    "\n",
    "meneame_final = change_type(meneame_final)\n",
    "\n",
    "meneame_final.info()\n"
   ]
  },
  {
   "cell_type": "code",
   "execution_count": 51,
   "id": "08d58159",
   "metadata": {},
   "outputs": [
    {
     "name": "stdout",
     "output_type": "stream",
     "text": [
      "Guardado: ../00.data/preprocesado/meneame_procesado_1.pkl con 100000 filas\n",
      "Guardado: ../00.data/preprocesado/meneame_procesado_2.pkl con 100000 filas\n",
      "Guardado: ../00.data/preprocesado/meneame_procesado_3.pkl con 87588 filas\n"
     ]
    }
   ],
   "source": [
    "chunk_size = 100000\n",
    "num_chunks = (len(meneame_final) // chunk_size) + 1\n",
    "\n",
    "for i in range(num_chunks):\n",
    "    start_row = i * chunk_size\n",
    "    end_row = start_row + chunk_size\n",
    "    meneame_chunk = meneame_final.iloc[start_row:end_row]\n",
    "\n",
    "    file_name = f\"../00.data/preprocesado/meneame_procesado_{i+1}.pkl\"\n",
    "    with open(file_name, \"wb\") as f:\n",
    "        pickle.dump(meneame_chunk, f, protocol=pickle.HIGHEST_PROTOCOL)\n",
    "\n",
    "    print(f\"Guardado: {file_name} con {len(meneame_chunk)} filas\")"
   ]
  },
  {
   "cell_type": "code",
   "execution_count": null,
   "id": "a3f0e31d",
   "metadata": {},
   "outputs": [],
   "source": []
  }
 ],
 "metadata": {
  "kernelspec": {
   "display_name": "venv",
   "language": "python",
   "name": "python3"
  },
  "language_info": {
   "codemirror_mode": {
    "name": "ipython",
    "version": 3
   },
   "file_extension": ".py",
   "mimetype": "text/x-python",
   "name": "python",
   "nbconvert_exporter": "python",
   "pygments_lexer": "ipython3",
   "version": "3.12.2"
  }
 },
 "nbformat": 4,
 "nbformat_minor": 5
}
