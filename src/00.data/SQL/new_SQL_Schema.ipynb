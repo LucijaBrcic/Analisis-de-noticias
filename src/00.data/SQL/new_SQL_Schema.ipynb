{
 "cells": [
  {
   "cell_type": "markdown",
   "id": "9480a0f1-ac0c-406d-ae0b-6ff1ebab4871",
   "metadata": {},
   "source": [
    "### WIP"
   ]
  },
  {
   "cell_type": "code",
   "execution_count": 1,
   "id": "0efaddd0-a9bf-459e-bf75-32e925490f6a",
   "metadata": {},
   "outputs": [],
   "source": [
    "import os\n",
    "import numpy as np\n",
    "import pandas as pd \n",
    "import pickle\n",
    "import pymysql\n",
    "from sqlalchemy import create_engine, text\n",
    "from dotenv import load_dotenv"
   ]
  },
  {
   "cell_type": "markdown",
   "id": "869d57c0-6787-432d-97d6-6c06383fd9a8",
   "metadata": {},
   "source": [
    "### Conectamos con SQL"
   ]
  },
  {
   "cell_type": "code",
   "execution_count": 2,
   "id": "1fab9634-1f49-427c-84f1-f90d7f120492",
   "metadata": {},
   "outputs": [],
   "source": [
    "# Cargar variables de entorno\n",
    "load_dotenv()\n",
    "\n",
    "user = os.getenv(\"DB_USER\")\n",
    "password = os.getenv(\"DB_PASSWORD\")\n",
    "host = os.getenv(\"HOST\", \"localhost\")\n",
    "database = \"meneame\"\n",
    "\n",
    "# Crear conexión con SQL\n",
    "engine = create_engine(f\"mysql+pymysql://{user}:{password}@{host}/{database}\")"
   ]
  },
  {
   "cell_type": "markdown",
   "id": "310262a2-f8ed-40df-abb2-03d93976c5d7",
   "metadata": {},
   "source": [
    "### Cargamos df de Clustering para añadir info de Cluster"
   ]
  },
  {
   "cell_type": "code",
   "execution_count": 3,
   "id": "f19795b5-16ee-4f8a-b270-dfdd2817e6b7",
   "metadata": {},
   "outputs": [
    {
     "name": "stdout",
     "output_type": "stream",
     "text": [
      "✅ Archivo cargado correctamente: df_clustering_null_clicks.pkl\n",
      "✅ Archivo cargado correctamente: df_clustering_1.pkl\n",
      "✅ Archivo cargado correctamente: df_clustering_3.pkl\n",
      "✅ Archivo cargado correctamente: df_clustering_2.pkl\n",
      "✅ DataFrame final con 287602 filas y 20 columnas\n"
     ]
    }
   ],
   "source": [
    "directorio_base = os.path.abspath(os.path.join(os.getcwd(), \"../../..\"))  # Subir dos directorios\n",
    "directorio_pkl = os.path.join(directorio_base, \"src\", \"00.data\", \"clustering\")\n",
    "\n",
    "# Obtener todos los archivos .pkl en el directorio de preprocesado\n",
    "archivos_pkl = [f for f in os.listdir(directorio_pkl) if f.startswith(\"df_clustering_\") and f.endswith(\".pkl\")]\n",
    "\n",
    "# Si no se encuentran archivos .pkl, mostramos un mensaje\n",
    "if not archivos_pkl:\n",
    "    print(\"❌ No se encontraron archivos .pkl en el directorio.\")\n",
    "else:\n",
    "    df_lista = []\n",
    "\n",
    "    # Cargar todos los archivos .pkl\n",
    "    for archivo in archivos_pkl:\n",
    "        ruta_archivo = os.path.join(directorio_pkl, archivo)\n",
    "        try:\n",
    "            with open(ruta_archivo, \"rb\") as f:\n",
    "                df_lista.append(pickle.load(f))\n",
    "                print(f\"✅ Archivo cargado correctamente: {archivo}\")\n",
    "        except FileNotFoundError:\n",
    "            print(f\"❌ No se encontró el archivo: {archivo}\")\n",
    "        except Exception as e:\n",
    "            print(f\"❌ Error al cargar {archivo}: {e}\")\n",
    "\n",
    "    # Concatenar todos los DataFrames en uno solo\n",
    "    if df_lista:\n",
    "        df_clustering = pd.concat(df_lista, ignore_index=True)\n",
    "        print(f\"✅ DataFrame final con {df_clustering.shape[0]} filas y {df_clustering.shape[1]} columnas\")\n",
    "    else:\n",
    "        print(\"❌ No se cargaron DataFrames.\")"
   ]
  },
  {
   "cell_type": "code",
   "execution_count": 4,
   "id": "a63b1690-1345-4d78-83a8-df24739f3d39",
   "metadata": {},
   "outputs": [
    {
     "data": {
      "text/html": [
       "<div>\n",
       "<style scoped>\n",
       "    .dataframe tbody tr th:only-of-type {\n",
       "        vertical-align: middle;\n",
       "    }\n",
       "\n",
       "    .dataframe tbody tr th {\n",
       "        vertical-align: top;\n",
       "    }\n",
       "\n",
       "    .dataframe thead th {\n",
       "        text-align: right;\n",
       "    }\n",
       "</style>\n",
       "<table border=\"1\" class=\"dataframe\">\n",
       "  <thead>\n",
       "    <tr style=\"text-align: right;\">\n",
       "      <th></th>\n",
       "      <th>news_id</th>\n",
       "      <th>title</th>\n",
       "      <th>content</th>\n",
       "      <th>meneos</th>\n",
       "      <th>clicks</th>\n",
       "      <th>karma</th>\n",
       "      <th>positive_votes</th>\n",
       "      <th>anonymous_votes</th>\n",
       "      <th>negative_votes</th>\n",
       "      <th>category</th>\n",
       "      <th>comments</th>\n",
       "      <th>published_date</th>\n",
       "      <th>user</th>\n",
       "      <th>source</th>\n",
       "      <th>source_link</th>\n",
       "      <th>scraped_date</th>\n",
       "      <th>provincia</th>\n",
       "      <th>comunidad</th>\n",
       "      <th>cluster</th>\n",
       "      <th>cluster_3</th>\n",
       "    </tr>\n",
       "  </thead>\n",
       "  <tbody>\n",
       "    <tr>\n",
       "      <th>0</th>\n",
       "      <td>1037095</td>\n",
       "      <td>Topless: mirar o no mirar, ésa es la cuestión</td>\n",
       "      <td>Acabo de retornar de un roadtrip veraniego. Bi...</td>\n",
       "      <td>512</td>\n",
       "      <td>NaN</td>\n",
       "      <td>635</td>\n",
       "      <td>217</td>\n",
       "      <td>295</td>\n",
       "      <td>3</td>\n",
       "      <td>Entretenimiento y Cultura</td>\n",
       "      <td>95</td>\n",
       "      <td>2010-08-31 19:00:02</td>\n",
       "      <td>Kfn</td>\n",
       "      <td>elreferente.es</td>\n",
       "      <td>http://www.elreferente.es/polmiraflors/topless...</td>\n",
       "      <td>2025-02-27 11:25:53</td>\n",
       "      <td>NaN</td>\n",
       "      <td>NaN</td>\n",
       "      <td>0.0</td>\n",
       "      <td>NaN</td>\n",
       "    </tr>\n",
       "    <tr>\n",
       "      <th>1</th>\n",
       "      <td>1034957</td>\n",
       "      <td>Elogio del porno</td>\n",
       "      <td>Saber follar es importante pero hay algo que i...</td>\n",
       "      <td>430</td>\n",
       "      <td>NaN</td>\n",
       "      <td>632</td>\n",
       "      <td>180</td>\n",
       "      <td>250</td>\n",
       "      <td>4</td>\n",
       "      <td>Entretenimiento y Cultura</td>\n",
       "      <td>48</td>\n",
       "      <td>2010-08-28 17:25:03</td>\n",
       "      <td>--98342--</td>\n",
       "      <td>lne.es</td>\n",
       "      <td>http://www.lne.es/gijon/2010/08/27/elogio-porn...</td>\n",
       "      <td>2025-02-27 11:26:04</td>\n",
       "      <td>NaN</td>\n",
       "      <td>NaN</td>\n",
       "      <td>0.0</td>\n",
       "      <td>NaN</td>\n",
       "    </tr>\n",
       "    <tr>\n",
       "      <th>2</th>\n",
       "      <td>1026190</td>\n",
       "      <td>El 56% de hombres rechaza el topless de sus no...</td>\n",
       "      <td>Un 56% de hombres no está de acuerdo con su pa...</td>\n",
       "      <td>793</td>\n",
       "      <td>NaN</td>\n",
       "      <td>645</td>\n",
       "      <td>269</td>\n",
       "      <td>524</td>\n",
       "      <td>6</td>\n",
       "      <td>Política y Sociedad</td>\n",
       "      <td>100</td>\n",
       "      <td>2010-08-16 00:45:02</td>\n",
       "      <td>cd_autoreverse</td>\n",
       "      <td>noticias24.com</td>\n",
       "      <td>http://www.noticias24.com/gente/noticia/10295/...</td>\n",
       "      <td>2025-02-27 11:26:56</td>\n",
       "      <td>NaN</td>\n",
       "      <td>NaN</td>\n",
       "      <td>0.0</td>\n",
       "      <td>NaN</td>\n",
       "    </tr>\n",
       "  </tbody>\n",
       "</table>\n",
       "</div>"
      ],
      "text/plain": [
       "   news_id                                              title  \\\n",
       "0  1037095      Topless: mirar o no mirar, ésa es la cuestión   \n",
       "1  1034957                                   Elogio del porno   \n",
       "2  1026190  El 56% de hombres rechaza el topless de sus no...   \n",
       "\n",
       "                                             content  meneos  clicks  karma  \\\n",
       "0  Acabo de retornar de un roadtrip veraniego. Bi...     512     NaN    635   \n",
       "1  Saber follar es importante pero hay algo que i...     430     NaN    632   \n",
       "2  Un 56% de hombres no está de acuerdo con su pa...     793     NaN    645   \n",
       "\n",
       "   positive_votes  anonymous_votes  negative_votes                   category  \\\n",
       "0             217              295               3  Entretenimiento y Cultura   \n",
       "1             180              250               4  Entretenimiento y Cultura   \n",
       "2             269              524               6        Política y Sociedad   \n",
       "\n",
       "   comments      published_date            user          source  \\\n",
       "0        95 2010-08-31 19:00:02             Kfn  elreferente.es   \n",
       "1        48 2010-08-28 17:25:03       --98342--          lne.es   \n",
       "2       100 2010-08-16 00:45:02  cd_autoreverse  noticias24.com   \n",
       "\n",
       "                                         source_link        scraped_date  \\\n",
       "0  http://www.elreferente.es/polmiraflors/topless... 2025-02-27 11:25:53   \n",
       "1  http://www.lne.es/gijon/2010/08/27/elogio-porn... 2025-02-27 11:26:04   \n",
       "2  http://www.noticias24.com/gente/noticia/10295/... 2025-02-27 11:26:56   \n",
       "\n",
       "  provincia comunidad  cluster  cluster_3  \n",
       "0       NaN       NaN      0.0        NaN  \n",
       "1       NaN       NaN      0.0        NaN  \n",
       "2       NaN       NaN      0.0        NaN  "
      ]
     },
     "execution_count": 4,
     "metadata": {},
     "output_type": "execute_result"
    }
   ],
   "source": [
    "df_clustering.head(3)"
   ]
  },
  {
   "cell_type": "code",
   "execution_count": 5,
   "id": "afdf6c98-e342-427c-848f-67618119c852",
   "metadata": {},
   "outputs": [
    {
     "data": {
      "text/plain": [
       "cluster\n",
       "0.0    73970\n",
       "2.0     5947\n",
       "1.0      748\n",
       "Name: count, dtype: int64"
      ]
     },
     "execution_count": 5,
     "metadata": {},
     "output_type": "execute_result"
    }
   ],
   "source": [
    "df_clustering['cluster'].value_counts()"
   ]
  },
  {
   "cell_type": "code",
   "execution_count": 6,
   "id": "89a6e6b5-d258-4325-a2b5-5b1398c6ccc0",
   "metadata": {},
   "outputs": [],
   "source": [
    "# Crear la tabla de clusters si no existe\n",
    "create_table_sql = \"\"\"\n",
    "CREATE TABLE IF NOT EXISTS cluster_table (\n",
    "    cluster_id INT PRIMARY KEY,\n",
    "    cluster_name VARCHAR(50)\n",
    ");\n",
    "\"\"\"\n",
    "with engine.connect() as connection:\n",
    "    connection.execute(text(create_table_sql))"
   ]
  },
  {
   "cell_type": "code",
   "execution_count": 7,
   "id": "7267b426-9821-40cd-b688-18209caf6753",
   "metadata": {},
   "outputs": [],
   "source": [
    "# Insertar nombres de clusters en la tabla\n",
    "cluster_names = {\n",
    "    0: \"Noticias polémicas\",\n",
    "    1: \"Noticias estándar\",\n",
    "    2: \"Noticias bien recibidas\"\n",
    "}\n",
    "\n",
    "with engine.connect() as connection:\n",
    "    for cluster_id, cluster_name in cluster_names.items():\n",
    "        insert_sql = text(\"\"\"\n",
    "        INSERT INTO cluster_table (cluster_id, cluster_name)\n",
    "        VALUES (:cluster_id, :cluster_name)\n",
    "        ON DUPLICATE KEY UPDATE cluster_name = :cluster_name\n",
    "        \"\"\")\n",
    "        connection.execute(insert_sql, {\"cluster_id\": cluster_id, \"cluster_name\": cluster_name})"
   ]
  },
  {
   "cell_type": "code",
   "execution_count": 8,
   "id": "7694d29e-32f5-452c-8a22-e443bda93e29",
   "metadata": {},
   "outputs": [
    {
     "ename": "ValueError",
     "evalue": "cannot convert float NaN to integer",
     "output_type": "error",
     "traceback": [
      "\u001b[31m---------------------------------------------------------------------------\u001b[39m",
      "\u001b[31mValueError\u001b[39m                                Traceback (most recent call last)",
      "\u001b[36mCell\u001b[39m\u001b[36m \u001b[39m\u001b[32mIn[8]\u001b[39m\u001b[32m, line 28\u001b[39m\n\u001b[32m     24\u001b[39m     \u001b[38;5;28;01mwith\u001b[39;00m connection.begin():  \u001b[38;5;66;03m# Manejo seguro de la transacción\u001b[39;00m\n\u001b[32m     25\u001b[39m         \u001b[38;5;28;01mfor\u001b[39;00m news_id, cluster_id \u001b[38;5;129;01min\u001b[39;00m news_cluster_mapping.items():\n\u001b[32m     26\u001b[39m             connection.execute(update_sql, {\n\u001b[32m     27\u001b[39m                 \u001b[33m\"\u001b[39m\u001b[33mnews_id\u001b[39m\u001b[33m\"\u001b[39m: \u001b[38;5;28mint\u001b[39m(news_id),\n\u001b[32m---> \u001b[39m\u001b[32m28\u001b[39m                 \u001b[33m\"\u001b[39m\u001b[33mcluster_id\u001b[39m\u001b[33m\"\u001b[39m: \u001b[38;5;28;43mint\u001b[39;49m\u001b[43m(\u001b[49m\u001b[43mcluster_id\u001b[49m\u001b[43m)\u001b[49m\n\u001b[32m     29\u001b[39m             })\n\u001b[32m     31\u001b[39m \u001b[38;5;28mprint\u001b[39m(\u001b[33m\"\u001b[39m\u001b[33mClusters actualizados en la base de datos.\u001b[39m\u001b[33m\"\u001b[39m)\n",
      "\u001b[31mValueError\u001b[39m: cannot convert float NaN to integer"
     ]
    }
   ],
   "source": [
    "# Verificar que 'news_id' y 'cluster' están en df_clustering\n",
    "if not {\"news_id\", \"cluster\"}.issubset(df_clustering.columns):\n",
    "    raise KeyError(\"Las columnas 'news_id' o 'cluster' no están en df_clustering.\")\n",
    "\n",
    "# Crear diccionario {news_id: cluster_id}\n",
    "news_cluster_mapping = df_clustering.set_index(\"news_id\")[\"cluster\"].to_dict()\n",
    "\n",
    "# Asegurar que la columna cluster_id existe en news_info_table\n",
    "alter_table_sql = \"\"\"\n",
    "ALTER TABLE news_info_table \n",
    "ADD COLUMN cluster_id INT DEFAULT NULL;\n",
    "\"\"\"\n",
    "with engine.connect() as connection:\n",
    "    connection.execute(text(alter_table_sql))\n",
    "\n",
    "# Actualizar los valores de cluster en la base de datos\n",
    "update_sql = text(\"\"\"\n",
    "    UPDATE news_info_table\n",
    "    SET cluster_id = :cluster_id\n",
    "    WHERE news_id = :news_id\n",
    "\"\"\")\n",
    "\n",
    "with engine.connect() as connection:\n",
    "    with connection.begin():  # Manejo seguro de la transacción\n",
    "        for news_id, cluster_id in news_cluster_mapping.items():\n",
    "            connection.execute(update_sql, {\n",
    "                \"news_id\": int(news_id),\n",
    "                \"cluster_id\": int(cluster_id)\n",
    "            })\n",
    "\n",
    "print(\"Clusters actualizados en la base de datos.\")"
   ]
  },
  {
   "cell_type": "code",
   "execution_count": 10,
   "id": "4dc6605f-5df9-4abb-88b9-435996d61096",
   "metadata": {},
   "outputs": [
    {
     "name": "stdout",
     "output_type": "stream",
     "text": [
      "{1: 234278, 2: 8955, 0: 44330}\n"
     ]
    }
   ],
   "source": [
    "query = text(\"\"\"\n",
    "    SELECT cluster_id, COUNT(*) as count \n",
    "    FROM news_info_table \n",
    "    GROUP BY cluster_id\n",
    "\"\"\")\n",
    "\n",
    "with engine.connect() as connection:\n",
    "    result = connection.execute(query)\n",
    "    cluster_counts_sql = dict(result.fetchall())\n",
    "\n",
    "print(cluster_counts_sql)"
   ]
  },
  {
   "cell_type": "code",
   "execution_count": null,
   "id": "eb8f1a2b-73ed-4e12-9935-928383bef3ab",
   "metadata": {},
   "outputs": [],
   "source": []
  }
 ],
 "metadata": {
  "kernelspec": {
   "display_name": "venv",
   "language": "python",
   "name": "python3"
  },
  "language_info": {
   "codemirror_mode": {
    "name": "ipython",
    "version": 3
   },
   "file_extension": ".py",
   "mimetype": "text/x-python",
   "name": "python",
   "nbconvert_exporter": "python",
   "pygments_lexer": "ipython3",
   "version": "3.12.2"
  }
 },
 "nbformat": 4,
 "nbformat_minor": 5
}
