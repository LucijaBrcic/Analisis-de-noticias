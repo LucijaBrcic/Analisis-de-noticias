{
 "cells": [
  {
   "cell_type": "markdown",
   "id": "9480a0f1-ac0c-406d-ae0b-6ff1ebab4871",
   "metadata": {},
   "source": [
    "### WIP"
   ]
  },
  {
   "cell_type": "code",
   "execution_count": 2,
   "id": "0efaddd0-a9bf-459e-bf75-32e925490f6a",
   "metadata": {},
   "outputs": [],
   "source": [
    "import os\n",
    "import numpy as np\n",
    "import pandas as pd \n",
    "import pickle\n",
    "import pymysql\n",
    "from sqlalchemy import create_engine, text\n",
    "from dotenv import load_dotenv"
   ]
  },
  {
   "cell_type": "markdown",
   "id": "28c3d59b-c399-4c99-b81e-b3e1f44ce582",
   "metadata": {},
   "source": [
    "### Cargamos nuevo df procesado con nuevas noticias"
   ]
  },
  {
   "cell_type": "code",
   "execution_count": 3,
   "id": "07716e99-0a5f-4260-97d1-7b7cb746fec5",
   "metadata": {},
   "outputs": [
    {
     "name": "stdout",
     "output_type": "stream",
     "text": [
      "Directorio actual: C:\\Users\\Jordi\\OneDrive - Finergal\\Documentos\\Bootcamp HAB Data Science\\PFB\\Analisis-de-noticias\\src\\00.data\\SQL\n",
      "Directorio raíz común: C:\\Users\\Jordi\\OneDrive - Finergal\\Documentos\\Bootcamp HAB Data Science\\PFB\\Analisis-de-noticias\n",
      "Ruta de directorio ajustada: C:\\Users\\Jordi\\OneDrive - Finergal\\Documentos\\Bootcamp HAB Data Science\\PFB\\Analisis-de-noticias\\src/00.data/preprocesado/\n",
      "Cargado: meneame_procesado_1.pkl con 100000 filas\n",
      "Cargado: meneame_procesado_2.pkl con 100000 filas\n",
      "Cargado: meneame_procesado_3.pkl con 87588 filas\n",
      "DataFrame final con 287588 filas y 20 columnas\n"
     ]
    }
   ],
   "source": [
    "current_dir = os.path.abspath(os.getcwd())\n",
    "print(f\"Directorio actual: {current_dir}\")\n",
    "\n",
    "# Subir hasta el directorio raíz común (en este caso 'Analisis-de-noticias')\n",
    "root_dir = os.path.abspath(os.path.join(current_dir, \"../../..\"))\n",
    "print(f\"Directorio raíz común: {root_dir}\")\n",
    "\n",
    "# Construir la ruta al directorio donde están los archivos pkl\n",
    "directory = os.path.join(root_dir, \"src/00.data/preprocesado/\")\n",
    "print(f\"Ruta de directorio ajustada: {directory}\")\n",
    "\n",
    "# Lista para almacenar los DataFrames\n",
    "df_lista = []\n",
    "\n",
    "# Buscar todos los archivos pkl en el directorio\n",
    "archivos_pkl = [f for f in os.listdir(directory) if f.startswith(\"meneame_procesado_\") and f.endswith(\".pkl\")]\n",
    "\n",
    "# Leer cada archivo .pkl y agregarlo a la lista de DataFrames\n",
    "for archivo in archivos_pkl:\n",
    "    file_path = os.path.join(directory, archivo)\n",
    "    with open(file_path, \"rb\") as f:\n",
    "        df_chunk = pickle.load(f)\n",
    "        df_lista.append(df_chunk)\n",
    "        print(f\"Cargado: {archivo} con {len(df_chunk)} filas\")\n",
    "\n",
    "# Concatenar todos los DataFrames en uno solo\n",
    "df = pd.concat(df_lista, ignore_index=True)\n",
    "\n",
    "# Verificar el tamaño del DataFrame final\n",
    "print(f\"DataFrame final con {df.shape[0]} filas y {df.shape[1]} columnas\")"
   ]
  },
  {
   "cell_type": "code",
   "execution_count": 4,
   "id": "b832056e-e640-4a32-ac1e-ba36168fa4ba",
   "metadata": {},
   "outputs": [
    {
     "data": {
      "text/html": [
       "<div>\n",
       "<style scoped>\n",
       "    .dataframe tbody tr th:only-of-type {\n",
       "        vertical-align: middle;\n",
       "    }\n",
       "\n",
       "    .dataframe tbody tr th {\n",
       "        vertical-align: top;\n",
       "    }\n",
       "\n",
       "    .dataframe thead th {\n",
       "        text-align: right;\n",
       "    }\n",
       "</style>\n",
       "<table border=\"1\" class=\"dataframe\">\n",
       "  <thead>\n",
       "    <tr style=\"text-align: right;\">\n",
       "      <th></th>\n",
       "      <th>news_id</th>\n",
       "      <th>title</th>\n",
       "      <th>content</th>\n",
       "      <th>full_story_link</th>\n",
       "      <th>meneos</th>\n",
       "      <th>clicks</th>\n",
       "      <th>karma</th>\n",
       "      <th>positive_votes</th>\n",
       "      <th>anonymous_votes</th>\n",
       "      <th>negative_votes</th>\n",
       "      <th>category</th>\n",
       "      <th>comments</th>\n",
       "      <th>published_date</th>\n",
       "      <th>user</th>\n",
       "      <th>source</th>\n",
       "      <th>source_link</th>\n",
       "      <th>scraped_date</th>\n",
       "      <th>provincia</th>\n",
       "      <th>comunidad</th>\n",
       "      <th>category_encoded</th>\n",
       "    </tr>\n",
       "  </thead>\n",
       "  <tbody>\n",
       "    <tr>\n",
       "      <th>0</th>\n",
       "      <td>4032594</td>\n",
       "      <td>RTVE mantiene que Mazón llegó al Cecopi antes ...</td>\n",
       "      <td>Los servicios informativos de la radio y la te...</td>\n",
       "      <td>https://meneame.net/story/rtve-mantiene-mazon-...</td>\n",
       "      <td>115</td>\n",
       "      <td>651</td>\n",
       "      <td>410</td>\n",
       "      <td>57</td>\n",
       "      <td>58</td>\n",
       "      <td>1</td>\n",
       "      <td>Política y Sociedad</td>\n",
       "      <td>30</td>\n",
       "      <td>2025-02-27 12:50:02</td>\n",
       "      <td>CosasQueLees</td>\n",
       "      <td>eldiario.es</td>\n",
       "      <td>https://www.eldiario.es/comunitat-valenciana/r...</td>\n",
       "      <td>2025-02-27 13:30:08</td>\n",
       "      <td>NaN</td>\n",
       "      <td>NaN</td>\n",
       "      <td>9.0</td>\n",
       "    </tr>\n",
       "    <tr>\n",
       "      <th>1</th>\n",
       "      <td>4032568</td>\n",
       "      <td>Arde Mississippi - ¿De donde sale todo ese odio?</td>\n",
       "      <td>Gene Hackman en la película Arde Mississippi (...</td>\n",
       "      <td>https://meneame.net/story/arde-mississippi-don...</td>\n",
       "      <td>77</td>\n",
       "      <td>982</td>\n",
       "      <td>362</td>\n",
       "      <td>50</td>\n",
       "      <td>27</td>\n",
       "      <td>2</td>\n",
       "      <td>Entretenimiento y Cultura</td>\n",
       "      <td>24</td>\n",
       "      <td>2025-02-27 12:35:02</td>\n",
       "      <td>Grahml</td>\n",
       "      <td>youtube.com</td>\n",
       "      <td>https://www.youtube.com/watch?v=dnWDqcdbANQ</td>\n",
       "      <td>2025-02-27 13:30:08</td>\n",
       "      <td>NaN</td>\n",
       "      <td>NaN</td>\n",
       "      <td>4.0</td>\n",
       "    </tr>\n",
       "    <tr>\n",
       "      <th>2</th>\n",
       "      <td>4032569</td>\n",
       "      <td>La Guardia Civil desaloja todos los colegios d...</td>\n",
       "      <td>La Guardia Civil está desalojando preventivame...</td>\n",
       "      <td>https://meneame.net/story/guardia-civil-desalo...</td>\n",
       "      <td>97</td>\n",
       "      <td>761</td>\n",
       "      <td>369</td>\n",
       "      <td>50</td>\n",
       "      <td>47</td>\n",
       "      <td>0</td>\n",
       "      <td>Política y Sociedad</td>\n",
       "      <td>70</td>\n",
       "      <td>2025-02-27 12:10:05</td>\n",
       "      <td>Tunguska08Chelyabinsk13</td>\n",
       "      <td>levante-emv.com</td>\n",
       "      <td>https://www.levante-emv.com/sucesos/2025/02/27...</td>\n",
       "      <td>2025-02-27 13:30:08</td>\n",
       "      <td>NaN</td>\n",
       "      <td>NaN</td>\n",
       "      <td>9.0</td>\n",
       "    </tr>\n",
       "  </tbody>\n",
       "</table>\n",
       "</div>"
      ],
      "text/plain": [
       "   news_id                                              title  \\\n",
       "0  4032594  RTVE mantiene que Mazón llegó al Cecopi antes ...   \n",
       "1  4032568   Arde Mississippi - ¿De donde sale todo ese odio?   \n",
       "2  4032569  La Guardia Civil desaloja todos los colegios d...   \n",
       "\n",
       "                                             content  \\\n",
       "0  Los servicios informativos de la radio y la te...   \n",
       "1  Gene Hackman en la película Arde Mississippi (...   \n",
       "2  La Guardia Civil está desalojando preventivame...   \n",
       "\n",
       "                                     full_story_link  meneos  clicks  karma  \\\n",
       "0  https://meneame.net/story/rtve-mantiene-mazon-...     115     651    410   \n",
       "1  https://meneame.net/story/arde-mississippi-don...      77     982    362   \n",
       "2  https://meneame.net/story/guardia-civil-desalo...      97     761    369   \n",
       "\n",
       "   positive_votes  anonymous_votes  negative_votes                   category  \\\n",
       "0              57               58               1        Política y Sociedad   \n",
       "1              50               27               2  Entretenimiento y Cultura   \n",
       "2              50               47               0        Política y Sociedad   \n",
       "\n",
       "   comments       published_date                     user           source  \\\n",
       "0        30  2025-02-27 12:50:02             CosasQueLees      eldiario.es   \n",
       "1        24  2025-02-27 12:35:02                   Grahml      youtube.com   \n",
       "2        70  2025-02-27 12:10:05  Tunguska08Chelyabinsk13  levante-emv.com   \n",
       "\n",
       "                                         source_link         scraped_date  \\\n",
       "0  https://www.eldiario.es/comunitat-valenciana/r...  2025-02-27 13:30:08   \n",
       "1        https://www.youtube.com/watch?v=dnWDqcdbANQ  2025-02-27 13:30:08   \n",
       "2  https://www.levante-emv.com/sucesos/2025/02/27...  2025-02-27 13:30:08   \n",
       "\n",
       "  provincia comunidad  category_encoded  \n",
       "0       NaN       NaN               9.0  \n",
       "1       NaN       NaN               4.0  \n",
       "2       NaN       NaN               9.0  "
      ]
     },
     "execution_count": 4,
     "metadata": {},
     "output_type": "execute_result"
    }
   ],
   "source": [
    "df.head(3)"
   ]
  },
  {
   "cell_type": "code",
   "execution_count": 6,
   "id": "1a6260d8-3ae8-4e13-8afd-df4c4565868b",
   "metadata": {},
   "outputs": [],
   "source": [
    "df = df.drop(columns=['full_story_link'], errors='ignore')"
   ]
  },
  {
   "cell_type": "markdown",
   "id": "869d57c0-6787-432d-97d6-6c06383fd9a8",
   "metadata": {},
   "source": [
    "### Conectamos con SQL"
   ]
  },
  {
   "cell_type": "code",
   "execution_count": 7,
   "id": "1fab9634-1f49-427c-84f1-f90d7f120492",
   "metadata": {},
   "outputs": [],
   "source": [
    "# Cargar variables de entorno\n",
    "load_dotenv()\n",
    "\n",
    "user = os.getenv(\"DB_USER\")\n",
    "password = os.getenv(\"DB_PASSWORD\")\n",
    "host = os.getenv(\"HOST\", \"localhost\")\n",
    "database = \"meneame\"\n",
    "\n",
    "# Crear conexión con SQL\n",
    "engine = create_engine(f\"mysql+pymysql://{user}:{password}@{host}/{database}\")"
   ]
  },
  {
   "cell_type": "code",
   "execution_count": 8,
   "id": "13182144-514d-490c-9a62-7e56898a2db4",
   "metadata": {},
   "outputs": [
    {
     "name": "stdout",
     "output_type": "stream",
     "text": [
      "Total registros en news_info_table: 287563\n",
      "Total registros en user_table: 25681\n",
      "Total registros en source_table: 31088\n"
     ]
    }
   ],
   "source": [
    "# Consultar los datos de las tablas en la base de datos antes de la importación\n",
    "with engine.connect() as conn:\n",
    "    # Consultas SQL para extraer los datos\n",
    "    query_news_info = \"SELECT * FROM news_info_table\"\n",
    "    query_user_info = \"SELECT * FROM user_table\"\n",
    "    query_source_info = \"SELECT * FROM source_table\"\n",
    "    \n",
    "    # Leer los datos en DataFrame\n",
    "    news_info_df = pd.read_sql(query_news_info, conn)\n",
    "    user_info_df = pd.read_sql(query_user_info, conn)\n",
    "    source_info_df = pd.read_sql(query_source_info, conn)\n",
    "\n",
    "# Ver el tamaño de las tablas antes y después de la inserción\n",
    "print(f\"Total registros en news_info_table: {news_info_df.shape[0]}\")\n",
    "print(f\"Total registros en user_table: {user_info_df.shape[0]}\")\n",
    "print(f\"Total registros en source_table: {source_info_df.shape[0]}\")"
   ]
  },
  {
   "cell_type": "code",
   "execution_count": 9,
   "id": "f239b848-e924-4cd9-9fa1-a88b0c754461",
   "metadata": {},
   "outputs": [],
   "source": [
    "# Extraer los datos existentes en la base de datos\n",
    "with engine.connect() as conn:\n",
    "    # Consultas SQL para extraer los IDs y valores correspondientes\n",
    "    query_news_ids = \"SELECT news_id FROM news_info_table\"\n",
    "    query_user_data = \"SELECT user_id, user FROM user_table\"\n",
    "    query_source_data = \"SELECT source_id, source FROM source_table\"\n",
    "    query_category_data = \"SELECT category_id, category FROM category_table\"\n",
    "    query_location_data = \"SELECT provincia_id, provincia, comunidad FROM location_table\"\n",
    "    \n",
    "    # Extraer los datos\n",
    "    news_ids_sql = pd.read_sql(query_news_ids, conn)\n",
    "    user_data_sql = pd.read_sql(query_user_data, conn)\n",
    "    source_data_sql = pd.read_sql(query_source_data, conn)\n",
    "    category_data_sql = pd.read_sql(query_category_data, conn)\n",
    "    location_data_sql = pd.read_sql(query_location_data, conn)"
   ]
  },
  {
   "cell_type": "code",
   "execution_count": 10,
   "id": "6a0bb9d8-2b5b-4ed5-b856-fd74018ffdcd",
   "metadata": {},
   "outputs": [
    {
     "data": {
      "text/plain": [
       "(25, 19)"
      ]
     },
     "execution_count": 10,
     "metadata": {},
     "output_type": "execute_result"
    }
   ],
   "source": [
    "# Filtrar solo las noticias nuevas\n",
    "new_news_df = df[~df['news_id'].isin(news_ids_sql['news_id'])]\n",
    "new_news_df.shape"
   ]
  },
  {
   "cell_type": "code",
   "execution_count": 11,
   "id": "29e18ba8-90ae-4abb-a45f-809a2c32fe35",
   "metadata": {},
   "outputs": [],
   "source": [
    "# Obtener el último user_id y source_id\n",
    "last_user_id = user_data_sql['user_id'].max()\n",
    "last_source_id = source_data_sql['source_id'].max()"
   ]
  },
  {
   "cell_type": "code",
   "execution_count": 12,
   "id": "cdf0fd11-3c1f-4705-9d54-b86f9e83a5a9",
   "metadata": {},
   "outputs": [],
   "source": [
    "# Nuevos usuarios y fuentes\n",
    "new_users = new_news_df[~new_news_df['user'].isin(user_data_sql['user'])]\n",
    "new_sources = new_news_df[~new_news_df['source'].isin(source_data_sql['source'])]\n",
    "\n",
    "# Insertar nuevos usuarios\n",
    "if not new_users.empty:\n",
    "    new_users_df = new_users[['user']].drop_duplicates()\n",
    "    new_users_df['user_id'] = range(last_user_id + 1, last_user_id + 1 + len(new_users_df))\n",
    "    new_users_df.to_sql('user_table', con=engine, if_exists='append', index=False)\n",
    "\n",
    "# Insertar nuevas fuentes\n",
    "if not new_sources.empty:\n",
    "    new_sources_df = new_sources[['source']].drop_duplicates()\n",
    "    new_sources_df['source_id'] = range(last_source_id + 1, last_source_id + 1 + len(new_sources_df))\n",
    "    new_sources_df.to_sql('source_table', con=engine, if_exists='append', index=False)\n"
   ]
  },
  {
   "cell_type": "code",
   "execution_count": 13,
   "id": "5bd000fd-c132-43d4-987a-c0b325c4d8ed",
   "metadata": {},
   "outputs": [
    {
     "name": "stderr",
     "output_type": "stream",
     "text": [
      "C:\\Users\\Jordi\\AppData\\Local\\Temp\\ipykernel_29660\\1769496338.py:6: SettingWithCopyWarning: \n",
      "A value is trying to be set on a copy of a slice from a DataFrame.\n",
      "Try using .loc[row_indexer,col_indexer] = value instead\n",
      "\n",
      "See the caveats in the documentation: https://pandas.pydata.org/pandas-docs/stable/user_guide/indexing.html#returning-a-view-versus-a-copy\n",
      "  new_news_df.loc[:, 'category_id'] = new_news_df['category'].map(category_data_sql.set_index('category')['category_id'])\n",
      "C:\\Users\\Jordi\\AppData\\Local\\Temp\\ipykernel_29660\\1769496338.py:7: SettingWithCopyWarning: \n",
      "A value is trying to be set on a copy of a slice from a DataFrame.\n",
      "Try using .loc[row_indexer,col_indexer] = value instead\n",
      "\n",
      "See the caveats in the documentation: https://pandas.pydata.org/pandas-docs/stable/user_guide/indexing.html#returning-a-view-versus-a-copy\n",
      "  new_news_df.loc[:, 'provincia_id'] = new_news_df['provincia'].map(location_data_sql.set_index('provincia')['provincia_id'])\n"
     ]
    }
   ],
   "source": [
    "# Nuevas categorías y ubicaciones\n",
    "new_categories = new_news_df[~new_news_df['category'].isin(category_data_sql['category'])]\n",
    "new_locations = new_news_df[~new_news_df['provincia'].isin(location_data_sql['provincia'])]\n",
    "\n",
    "# Llenar con los ID correspondientes de forma segura\n",
    "new_news_df.loc[:, 'category_id'] = new_news_df['category'].map(category_data_sql.set_index('category')['category_id'])\n",
    "new_news_df.loc[:, 'provincia_id'] = new_news_df['provincia'].map(location_data_sql.set_index('provincia')['provincia_id'])"
   ]
  },
  {
   "cell_type": "code",
   "execution_count": 14,
   "id": "81cf8086-f4e8-4a9b-a282-ba97ee603458",
   "metadata": {},
   "outputs": [
    {
     "name": "stdout",
     "output_type": "stream",
     "text": [
      "Proceso completado: Noticias, usuarios y fuentes actualizados.\n"
     ]
    },
    {
     "name": "stderr",
     "output_type": "stream",
     "text": [
      "C:\\Users\\Jordi\\AppData\\Local\\Temp\\ipykernel_29660\\1794453794.py:2: SettingWithCopyWarning: \n",
      "A value is trying to be set on a copy of a slice from a DataFrame.\n",
      "Try using .loc[row_indexer,col_indexer] = value instead\n",
      "\n",
      "See the caveats in the documentation: https://pandas.pydata.org/pandas-docs/stable/user_guide/indexing.html#returning-a-view-versus-a-copy\n",
      "  new_news_df.loc[:, 'user_id'] = new_news_df['user'].map(user_data_sql.set_index('user')['user_id'])\n",
      "C:\\Users\\Jordi\\AppData\\Local\\Temp\\ipykernel_29660\\1794453794.py:3: SettingWithCopyWarning: \n",
      "A value is trying to be set on a copy of a slice from a DataFrame.\n",
      "Try using .loc[row_indexer,col_indexer] = value instead\n",
      "\n",
      "See the caveats in the documentation: https://pandas.pydata.org/pandas-docs/stable/user_guide/indexing.html#returning-a-view-versus-a-copy\n",
      "  new_news_df.loc[:, 'source_id'] = new_news_df['source'].map(source_data_sql.set_index('source')['source_id'])\n"
     ]
    }
   ],
   "source": [
    "# Modificar de forma segura usando .loc\n",
    "new_news_df.loc[:, 'user_id'] = new_news_df['user'].map(user_data_sql.set_index('user')['user_id'])\n",
    "new_news_df.loc[:, 'source_id'] = new_news_df['source'].map(source_data_sql.set_index('source')['source_id'])\n",
    "\n",
    "# Filtra las columnas necesarias para la inserción\n",
    "new_news_df = new_news_df[['news_id', 'title', 'content', 'category_id', 'meneos', 'clicks', 'karma',\n",
    "                           'positive_votes', 'anonymous_votes', 'negative_votes', 'comments', 'published_date',\n",
    "                           'source_link', 'scraped_date', 'user_id', 'source_id', 'provincia_id']]\n",
    "\n",
    "# Insertar las nuevas noticias en la base de datos\n",
    "new_news_df.to_sql('news_info_table', con=engine, if_exists='append', index=False)\n",
    "\n",
    "print(\"Proceso completado: Noticias, usuarios y fuentes actualizados.\")"
   ]
  },
  {
   "cell_type": "code",
   "execution_count": 15,
   "id": "977ffa23-66b9-47e4-bb7c-411adb7a1fab",
   "metadata": {},
   "outputs": [
    {
     "name": "stdout",
     "output_type": "stream",
     "text": [
      "Total registros en news_info_table: 287588\n",
      "Total registros en user_table: 25682\n",
      "Total registros en source_table: 31089\n"
     ]
    }
   ],
   "source": [
    "# Consultar los datos de las tablas en la base de datos\n",
    "with engine.connect() as conn:\n",
    "    # Consultas SQL para extraer los datos\n",
    "    query_news_info = \"SELECT * FROM news_info_table\"\n",
    "    query_user_info = \"SELECT * FROM user_table\"\n",
    "    query_source_info = \"SELECT * FROM source_table\"\n",
    "    \n",
    "    # Leer los datos en DataFrame\n",
    "    news_info_df = pd.read_sql(query_news_info, conn)\n",
    "    user_info_df = pd.read_sql(query_user_info, conn)\n",
    "    source_info_df = pd.read_sql(query_source_info, conn)\n",
    "\n",
    "# Ver el tamaño de las tablas antes y después de la inserción\n",
    "print(f\"Total registros en news_info_table: {news_info_df.shape[0]}\")\n",
    "print(f\"Total registros en user_table: {user_info_df.shape[0]}\")\n",
    "print(f\"Total registros en source_table: {source_info_df.shape[0]}\")"
   ]
  },
  {
   "cell_type": "code",
   "execution_count": null,
   "id": "9d5f59c9-87d6-4f11-a7b4-f62ab0fa8ce1",
   "metadata": {},
   "outputs": [],
   "source": [
    "# al principio\n",
    "# Total registros en news_info_table: 287563\n",
    "# Total registros en user_table: 25681\n",
    "# Total registros en source_table: 31088"
   ]
  },
  {
   "cell_type": "markdown",
   "id": "310262a2-f8ed-40df-abb2-03d93976c5d7",
   "metadata": {},
   "source": [
    "### Cargamos df de Clustering para añadir info de Cluster"
   ]
  },
  {
   "cell_type": "code",
   "execution_count": 23,
   "id": "f19795b5-16ee-4f8a-b270-dfdd2817e6b7",
   "metadata": {},
   "outputs": [
    {
     "name": "stdout",
     "output_type": "stream",
     "text": [
      "✅ Archivo cargado correctamente: df_clustering_1.pkl\n",
      "✅ Archivo cargado correctamente: df_clustering_2.pkl\n",
      "✅ Archivo cargado correctamente: df_clustering_3.pkl\n",
      "✅ DataFrame final con 287588 filas y 10 columnas\n"
     ]
    }
   ],
   "source": [
    "directorio_base = os.path.abspath(os.path.join(os.getcwd(), \"../../..\"))  # Subir dos directorios\n",
    "directorio_pkl = os.path.join(directorio_base, \"src\", \"00.data\", \"clustering\")\n",
    "\n",
    "# Obtener todos los archivos .pkl en el directorio de preprocesado\n",
    "archivos_pkl = [f for f in os.listdir(directorio_pkl) if f.startswith(\"df_clustering_\") and f.endswith(\".pkl\")]\n",
    "\n",
    "# Si no se encuentran archivos .pkl, mostramos un mensaje\n",
    "if not archivos_pkl:\n",
    "    print(\"❌ No se encontraron archivos .pkl en el directorio.\")\n",
    "else:\n",
    "    df_lista = []\n",
    "\n",
    "    # Cargar todos los archivos .pkl\n",
    "    for archivo in archivos_pkl:\n",
    "        ruta_archivo = os.path.join(directorio_pkl, archivo)\n",
    "        try:\n",
    "            with open(ruta_archivo, \"rb\") as f:\n",
    "                df_lista.append(pickle.load(f))\n",
    "                print(f\"✅ Archivo cargado correctamente: {archivo}\")\n",
    "        except FileNotFoundError:\n",
    "            print(f\"❌ No se encontró el archivo: {archivo}\")\n",
    "        except Exception as e:\n",
    "            print(f\"❌ Error al cargar {archivo}: {e}\")\n",
    "\n",
    "    # Concatenar todos los DataFrames en uno solo\n",
    "    if df_lista:\n",
    "        df_clustering = pd.concat(df_lista, ignore_index=True)\n",
    "        print(f\"✅ DataFrame final con {df_clustering.shape[0]} filas y {df_clustering.shape[1]} columnas\")\n",
    "    else:\n",
    "        print(\"❌ No se cargaron DataFrames.\")"
   ]
  },
  {
   "cell_type": "code",
   "execution_count": 24,
   "id": "a63b1690-1345-4d78-83a8-df24739f3d39",
   "metadata": {},
   "outputs": [
    {
     "data": {
      "text/html": [
       "<div>\n",
       "<style scoped>\n",
       "    .dataframe tbody tr th:only-of-type {\n",
       "        vertical-align: middle;\n",
       "    }\n",
       "\n",
       "    .dataframe tbody tr th {\n",
       "        vertical-align: top;\n",
       "    }\n",
       "\n",
       "    .dataframe thead th {\n",
       "        text-align: right;\n",
       "    }\n",
       "</style>\n",
       "<table border=\"1\" class=\"dataframe\">\n",
       "  <thead>\n",
       "    <tr style=\"text-align: right;\">\n",
       "      <th></th>\n",
       "      <th>news_id</th>\n",
       "      <th>meneos</th>\n",
       "      <th>clicks</th>\n",
       "      <th>karma</th>\n",
       "      <th>positive_votes</th>\n",
       "      <th>negative_votes</th>\n",
       "      <th>anonymous_votes</th>\n",
       "      <th>comments</th>\n",
       "      <th>category</th>\n",
       "      <th>cluster</th>\n",
       "    </tr>\n",
       "  </thead>\n",
       "  <tbody>\n",
       "    <tr>\n",
       "      <th>0</th>\n",
       "      <td>4032594</td>\n",
       "      <td>115</td>\n",
       "      <td>651</td>\n",
       "      <td>410</td>\n",
       "      <td>57</td>\n",
       "      <td>1</td>\n",
       "      <td>58</td>\n",
       "      <td>30</td>\n",
       "      <td>Política y Sociedad</td>\n",
       "      <td>0</td>\n",
       "    </tr>\n",
       "    <tr>\n",
       "      <th>1</th>\n",
       "      <td>4032568</td>\n",
       "      <td>77</td>\n",
       "      <td>982</td>\n",
       "      <td>362</td>\n",
       "      <td>50</td>\n",
       "      <td>2</td>\n",
       "      <td>27</td>\n",
       "      <td>24</td>\n",
       "      <td>Entretenimiento y Cultura</td>\n",
       "      <td>0</td>\n",
       "    </tr>\n",
       "    <tr>\n",
       "      <th>2</th>\n",
       "      <td>4032569</td>\n",
       "      <td>97</td>\n",
       "      <td>761</td>\n",
       "      <td>369</td>\n",
       "      <td>50</td>\n",
       "      <td>0</td>\n",
       "      <td>47</td>\n",
       "      <td>70</td>\n",
       "      <td>Política y Sociedad</td>\n",
       "      <td>0</td>\n",
       "    </tr>\n",
       "  </tbody>\n",
       "</table>\n",
       "</div>"
      ],
      "text/plain": [
       "   news_id  meneos  clicks  karma  positive_votes  negative_votes  \\\n",
       "0  4032594     115     651    410              57               1   \n",
       "1  4032568      77     982    362              50               2   \n",
       "2  4032569      97     761    369              50               0   \n",
       "\n",
       "   anonymous_votes  comments                   category  cluster  \n",
       "0               58        30        Política y Sociedad        0  \n",
       "1               27        24  Entretenimiento y Cultura        0  \n",
       "2               47        70        Política y Sociedad        0  "
      ]
     },
     "execution_count": 24,
     "metadata": {},
     "output_type": "execute_result"
    }
   ],
   "source": [
    "df_clustering.head(3)"
   ]
  },
  {
   "cell_type": "code",
   "execution_count": 32,
   "id": "afdf6c98-e342-427c-848f-67618119c852",
   "metadata": {},
   "outputs": [
    {
     "data": {
      "text/plain": [
       "cluster\n",
       "0    234443\n",
       "1     44176\n",
       "2      8969\n",
       "Name: count, dtype: int64"
      ]
     },
     "execution_count": 32,
     "metadata": {},
     "output_type": "execute_result"
    }
   ],
   "source": [
    "df_clustering['cluster'].value_counts()"
   ]
  },
  {
   "cell_type": "code",
   "execution_count": 25,
   "id": "5d72270f-1cc6-44d2-b83e-f1e64442a8dd",
   "metadata": {},
   "outputs": [
    {
     "name": "stdout",
     "output_type": "stream",
     "text": [
      "Tabla 'cluster_table' verificada o creada correctamente.\n"
     ]
    }
   ],
   "source": [
    "create_table_sql = \"\"\"\n",
    "CREATE TABLE IF NOT EXISTS cluster_table (\n",
    "    cluster_id INT PRIMARY KEY,\n",
    "    cluster_name VARCHAR(50)\n",
    ");\n",
    "\"\"\"\n",
    "\n",
    "# Ejecutar la creación de la tabla\n",
    "with engine.connect() as connection:\n",
    "    connection.execute(text(create_table_sql))\n",
    "    print(\"Tabla 'cluster_table' verificada o creada correctamente.\")"
   ]
  },
  {
   "cell_type": "code",
   "execution_count": 26,
   "id": "fd0128da-7e96-4a92-accc-2d9f3791bad9",
   "metadata": {},
   "outputs": [
    {
     "name": "stdout",
     "output_type": "stream",
     "text": [
      "Clusters insertados o actualizados correctamente.\n"
     ]
    }
   ],
   "source": [
    "# Definir los nombres de los clusters\n",
    "cluster_names = {\n",
    "    0: \"Noticias polémicas\",\n",
    "    1: \"Noticias estándar\",\n",
    "    2: \"Noticias populares\"\n",
    "}\n",
    "\n",
    "# Insertar los datos en la tabla\n",
    "with engine.connect() as connection:\n",
    "    for cluster_id, cluster_name in cluster_names.items():\n",
    "        insert_sql = text(\"\"\"\n",
    "        INSERT INTO cluster_table (cluster_id, cluster_name)\n",
    "        VALUES (:cluster_id, :cluster_name)\n",
    "        ON DUPLICATE KEY UPDATE cluster_name = :cluster_name\n",
    "        \"\"\")\n",
    "        connection.execute(insert_sql, {\"cluster_id\": cluster_id, \"cluster_name\": cluster_name})\n",
    "    print(\"Clusters insertados o actualizados correctamente.\")"
   ]
  },
  {
   "cell_type": "code",
   "execution_count": 27,
   "id": "531848e9-c152-44ac-a613-bbc3a2d44b0e",
   "metadata": {},
   "outputs": [
    {
     "name": "stdout",
     "output_type": "stream",
     "text": [
      "Asignación de clusters a noticias completada.\n"
     ]
    }
   ],
   "source": [
    "# Verificar que 'news_id' está en df_clustering\n",
    "if \"news_id\" not in df_clustering.columns:\n",
    "    raise KeyError(\"La columna 'news_id' no está en df_clustering. Verifica el DataFrame.\")\n",
    "\n",
    "# Crear diccionario {news_id: cluster_id}\n",
    "news_cluster_mapping = df_clustering.set_index(\"news_id\")[\"cluster\"].to_dict()\n",
    "\n",
    "# Actualizar los valores de cluster en la base de datos\n",
    "update_sql = text(\"\"\"\n",
    "    UPDATE news_info_table\n",
    "    SET cluster_id = :cluster_id\n",
    "    WHERE news_id = :news_id\n",
    "\"\"\")\n",
    "\n",
    "with engine.connect() as connection:\n",
    "    for news_id, cluster_id in news_cluster_mapping.items():\n",
    "        connection.execute(update_sql, {\"news_id\": news_id, \"cluster_id\": cluster_id})\n",
    "\n",
    "    print(\"Asignación de clusters a noticias completada.\")"
   ]
  },
  {
   "cell_type": "code",
   "execution_count": 31,
   "id": "c7678141-1b96-49b3-96a6-9a5f3051fd4b",
   "metadata": {},
   "outputs": [
    {
     "name": "stdout",
     "output_type": "stream",
     "text": [
      "Clusters actualizados en la base de datos.\n"
     ]
    }
   ],
   "source": [
    "from sqlalchemy import text\n",
    "\n",
    "update_sql = text(\"\"\"\n",
    "    UPDATE news_info_table\n",
    "    SET cluster_id = :cluster_id\n",
    "    WHERE news_id = :news_id;\n",
    "\"\"\")\n",
    "\n",
    "# Conexión a la base de datos\n",
    "with engine.connect() as connection:\n",
    "    for news_id, cluster_id in news_cluster_mapping.items():\n",
    "        result = connection.execute(update_sql, {\"news_id\": news_id, \"cluster_id\": cluster_id})\n",
    "\n",
    "print(\"Clusters actualizados en la base de datos.\")"
   ]
  },
  {
   "cell_type": "code",
   "execution_count": 38,
   "id": "5ebbe681-1adc-408f-b083-2051b43e2495",
   "metadata": {},
   "outputs": [],
   "source": [
    "query = text(\"\"\"\n",
    "    SELECT c.cluster_name, COUNT(n.cluster_id) AS total_noticias\n",
    "    FROM cluster_table c\n",
    "    LEFT JOIN news_info_table n ON c.cluster_id = n.cluster_id\n",
    "    GROUP BY c.cluster_name\n",
    "    ORDER BY total_noticias DESC;\n",
    "\"\"\")\n",
    "\n",
    "with engine.connect() as connection:\n",
    "    result = connection.execute(query)\n",
    "    cluster_counts = result.fetchall()\n",
    "\n",
    "for row in cluster_counts:\n",
    "    print(row)"
   ]
  },
  {
   "cell_type": "code",
   "execution_count": 33,
   "id": "4bb89359-aff4-4e67-b051-e02e9e68c488",
   "metadata": {},
   "outputs": [
    {
     "name": "stdout",
     "output_type": "stream",
     "text": [
      "news_id             int64\n",
      "meneos              int64\n",
      "clicks              int64\n",
      "karma               int64\n",
      "positive_votes      int64\n",
      "negative_votes      int64\n",
      "anonymous_votes     int64\n",
      "comments            int64\n",
      "category           object\n",
      "cluster             int32\n",
      "dtype: object\n"
     ]
    }
   ],
   "source": [
    "print(df_clustering.dtypes)"
   ]
  },
  {
   "cell_type": "code",
   "execution_count": 35,
   "id": "03ec6120-9f56-491b-ab3d-c00f11768646",
   "metadata": {},
   "outputs": [
    {
     "name": "stdout",
     "output_type": "stream",
     "text": [
      "Total de news_id en la BD: 287588\n",
      "Total de news_id en df_clustering: 287588\n",
      "Coincidencias de news_id: 287588\n"
     ]
    }
   ],
   "source": [
    "# Obtener los news_id de la base de datos\n",
    "news_ids_sql = pd.read_sql(\"SELECT news_id FROM news_info_table\", engine)\n",
    "\n",
    "# Comparar con df_clustering\n",
    "common_news_ids = df_clustering[df_clustering[\"news_id\"].isin(news_ids_sql[\"news_id\"])]\n",
    "\n",
    "print(f\"Total de news_id en la BD: {len(news_ids_sql)}\")\n",
    "print(f\"Total de news_id en df_clustering: {len(df_clustering)}\")\n",
    "print(f\"Coincidencias de news_id: {len(common_news_ids)}\")\n"
   ]
  },
  {
   "cell_type": "code",
   "execution_count": 34,
   "id": "e8ea3245-a69d-478f-b319-a0d2ede2b679",
   "metadata": {},
   "outputs": [
    {
     "name": "stdout",
     "output_type": "stream",
     "text": [
      "287588 news_id en la base de datos\n",
      "287588 news_id en df_clustering\n",
      "287588 news_id coinciden y serán actualizados\n"
     ]
    }
   ],
   "source": [
    "existing_news_ids = pd.read_sql(\"SELECT news_id FROM news_info_table\", engine)\n",
    "print(len(existing_news_ids), \"news_id en la base de datos\")\n",
    "print(len(df_clustering), \"news_id en df_clustering\")\n",
    "common_ids = df_clustering[df_clustering[\"news_id\"].isin(existing_news_ids[\"news_id\"])]\n",
    "print(len(common_ids), \"news_id coinciden y serán actualizados\")"
   ]
  },
  {
   "cell_type": "code",
   "execution_count": 40,
   "id": "0d4de04b-2906-4ac0-b13d-08ad5c7c293a",
   "metadata": {},
   "outputs": [
    {
     "name": "stdout",
     "output_type": "stream",
     "text": [
      "287588 filas actualizadas.\n"
     ]
    }
   ],
   "source": [
    "update_sql = text(\"\"\"\n",
    "    UPDATE news_info_table\n",
    "    SET cluster_id = IFNULL(:cluster_id, 0)\n",
    "    WHERE news_id = :news_id\n",
    "\"\"\")\n",
    "\n",
    "with engine.connect() as connection:\n",
    "    transaction = connection.begin()\n",
    "    rows_updated = 0\n",
    "    for news_id, cluster_id in news_cluster_mapping.items():\n",
    "        result = connection.execute(update_sql, {\n",
    "            \"news_id\": int(news_id), \n",
    "            \"cluster_id\": int(cluster_id)  # Forzar tipo entero\n",
    "        })\n",
    "        rows_updated += result.rowcount\n",
    "    transaction.commit()\n",
    "    print(f\"{rows_updated} filas actualizadas.\")"
   ]
  },
  {
   "cell_type": "code",
   "execution_count": 37,
   "id": "3027b4eb-f22a-4fce-b898-cc7340dce96b",
   "metadata": {},
   "outputs": [
    {
     "name": "stdout",
     "output_type": "stream",
     "text": [
      "[7 6 5 4 3 1 2]\n",
      "   LENGTH(news_id)\n",
      "0                1\n",
      "1                1\n",
      "2                2\n",
      "3                2\n",
      "4                2\n",
      "5                2\n",
      "6                3\n",
      "7                3\n",
      "8                3\n",
      "9                3\n"
     ]
    }
   ],
   "source": [
    "print(df_clustering[\"news_id\"].astype(str).str.len().unique())\n",
    "print(pd.read_sql(\"SELECT LENGTH(news_id) FROM news_info_table LIMIT 10;\", engine))"
   ]
  },
  {
   "cell_type": "code",
   "execution_count": null,
   "id": "5fbd4823-3d4f-4787-9647-e6ad75774048",
   "metadata": {},
   "outputs": [],
   "source": [
    "######################"
   ]
  },
  {
   "cell_type": "code",
   "execution_count": null,
   "id": "8c787ec9-4e3d-40ba-8cbd-b7e6f452b99b",
   "metadata": {},
   "outputs": [],
   "source": []
  },
  {
   "cell_type": "code",
   "execution_count": null,
   "id": "ba4aeba9-0fb0-4b5c-8752-6beb17e69c6a",
   "metadata": {},
   "outputs": [],
   "source": [
    "IMPORTAR DF_CLUSTERING"
   ]
  },
  {
   "cell_type": "code",
   "execution_count": null,
   "id": "7694d29e-32f5-452c-8a22-e443bda93e29",
   "metadata": {},
   "outputs": [],
   "source": [
    "from sqlalchemy import text\n",
    "\n",
    "# Crear la tabla de clusters si no existe\n",
    "create_table_sql = \"\"\"\n",
    "CREATE TABLE IF NOT EXISTS cluster_table (\n",
    "    cluster_id INT PRIMARY KEY,\n",
    "    cluster_name VARCHAR(50)\n",
    ");\n",
    "\"\"\"\n",
    "with engine.connect() as connection:\n",
    "    connection.execute(text(create_table_sql))\n",
    "\n",
    "# Insertar nombres de clusters en la tabla\n",
    "cluster_names = {\n",
    "    0: \"Noticias polémicas\",\n",
    "    1: \"Noticias estándar\",\n",
    "    2: \"Noticias populares\"\n",
    "}\n",
    "\n",
    "with engine.connect() as connection:\n",
    "    for cluster_id, cluster_name in cluster_names.items():\n",
    "        insert_sql = text(\"\"\"\n",
    "        INSERT INTO cluster_table (cluster_id, cluster_name)\n",
    "        VALUES (:cluster_id, :cluster_name)\n",
    "        ON DUPLICATE KEY UPDATE cluster_name = :cluster_name\n",
    "        \"\"\")\n",
    "        connection.execute(insert_sql, {\"cluster_id\": cluster_id, \"cluster_name\": cluster_name})\n",
    "\n",
    "# Verificar que 'news_id' está en df_clustering\n",
    "if \"news_id\" not in df_clustering.columns:\n",
    "    raise KeyError(\"La columna 'news_id' no está en df_clustering.\")\n",
    "\n",
    "# Crear diccionario {news_id: cluster_id}\n",
    "news_cluster_mapping = df_clustering.set_index(\"news_id\")[\"cluster\"].to_dict()\n",
    "\n",
    "# Actualizar los valores de cluster en la base de datos\n",
    "update_sql = text(\"\"\"\n",
    "    UPDATE news_info_table\n",
    "    SET cluster_id = IFNULL(:cluster_id, 0)\n",
    "    WHERE news_id = :news_id\n",
    "\"\"\")\n",
    "\n",
    "with engine.connect() as connection:\n",
    "    transaction = connection.begin()\n",
    "    for news_id, cluster_id in news_cluster_mapping.items():\n",
    "        connection.execute(update_sql, {\n",
    "            \"news_id\": int(news_id),\n",
    "            \"cluster_id\": int(cluster_id)\n",
    "        })\n",
    "    transaction.commit()\n",
    "\n",
    "print(\"Clusters actualizados en la base de datos.\")\n"
   ]
  }
 ],
 "metadata": {
  "kernelspec": {
   "display_name": "Python 3 (ipykernel)",
   "language": "python",
   "name": "python3"
  },
  "language_info": {
   "codemirror_mode": {
    "name": "ipython",
    "version": 3
   },
   "file_extension": ".py",
   "mimetype": "text/x-python",
   "name": "python",
   "nbconvert_exporter": "python",
   "pygments_lexer": "ipython3",
   "version": "3.12.7"
  }
 },
 "nbformat": 4,
 "nbformat_minor": 5
}
