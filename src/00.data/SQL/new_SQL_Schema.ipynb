{
 "cells": [
  {
   "cell_type": "markdown",
   "id": "9480a0f1-ac0c-406d-ae0b-6ff1ebab4871",
   "metadata": {},
   "source": [
    "### WIP"
   ]
  },
  {
   "cell_type": "code",
   "execution_count": null,
   "id": "0efaddd0-a9bf-459e-bf75-32e925490f6a",
   "metadata": {},
   "outputs": [],
   "source": [
    "import os\n",
    "import numpy as np\n",
    "import pandas as pd \n",
    "import pickle\n",
    "import pymysql\n",
    "from sqlalchemy import create_engine, text\n",
    "from dotenv import load_dotenv"
   ]
  },
  {
   "cell_type": "markdown",
   "id": "28c3d59b-c399-4c99-b81e-b3e1f44ce582",
   "metadata": {},
   "source": [
    "### Cargamos nuevo df procesado con nuevas noticias"
   ]
  },
  {
   "cell_type": "code",
   "execution_count": 3,
   "id": "07716e99-0a5f-4260-97d1-7b7cb746fec5",
   "metadata": {},
   "outputs": [
    {
     "name": "stdout",
     "output_type": "stream",
     "text": [
      "Directorio actual: C:\\Users\\Jordi\\OneDrive - Finergal\\Documentos\\Bootcamp HAB Data Science\\PFB\\Analisis-de-noticias\\src\\00.data\\SQL\n",
      "Directorio raíz común: C:\\Users\\Jordi\\OneDrive - Finergal\\Documentos\\Bootcamp HAB Data Science\\PFB\\Analisis-de-noticias\n",
      "Ruta de directorio ajustada: C:\\Users\\Jordi\\OneDrive - Finergal\\Documentos\\Bootcamp HAB Data Science\\PFB\\Analisis-de-noticias\\src/00.data/preprocesado/\n",
      "Cargado: meneame_procesado_1.pkl con 100000 filas\n",
      "Cargado: meneame_procesado_2.pkl con 100000 filas\n",
      "Cargado: meneame_procesado_3.pkl con 87588 filas\n",
      "DataFrame final con 287588 filas y 19 columnas\n"
     ]
    }
   ],
   "source": [
    "current_dir = os.path.abspath(os.getcwd())\n",
    "print(f\"Directorio actual: {current_dir}\")\n",
    "\n",
    "# Subir hasta el directorio raíz común (en este caso 'Analisis-de-noticias')\n",
    "root_dir = os.path.abspath(os.path.join(current_dir, \"../../..\"))\n",
    "print(f\"Directorio raíz común: {root_dir}\")\n",
    "\n",
    "# Construir la ruta al directorio donde están los archivos pkl\n",
    "directory = os.path.join(root_dir, \"src/00.data/preprocesado/\")\n",
    "print(f\"Ruta de directorio ajustada: {directory}\")\n",
    "\n",
    "# Lista para almacenar los DataFrames\n",
    "df_lista = []\n",
    "\n",
    "# Buscar todos los archivos pkl en el directorio\n",
    "archivos_pkl = [f for f in os.listdir(directory) if f.startswith(\"meneame_procesado_\") and f.endswith(\".pkl\")]\n",
    "\n",
    "# Leer cada archivo .pkl y agregarlo a la lista de DataFrames\n",
    "for archivo in archivos_pkl:\n",
    "    file_path = os.path.join(directory, archivo)\n",
    "    with open(file_path, \"rb\") as f:\n",
    "        df_chunk = pickle.load(f)\n",
    "        df_lista.append(df_chunk)\n",
    "        print(f\"Cargado: {archivo} con {len(df_chunk)} filas\")\n",
    "\n",
    "# Concatenar todos los DataFrames en uno solo\n",
    "df = pd.concat(df_lista, ignore_index=True)\n",
    "\n",
    "# Verificar el tamaño del DataFrame final\n",
    "print(f\"DataFrame final con {df.shape[0]} filas y {df.shape[1]} columnas\")"
   ]
  },
  {
   "cell_type": "code",
   "execution_count": 4,
   "id": "b832056e-e640-4a32-ac1e-ba36168fa4ba",
   "metadata": {},
   "outputs": [
    {
     "data": {
      "text/html": [
       "<div>\n",
       "<style scoped>\n",
       "    .dataframe tbody tr th:only-of-type {\n",
       "        vertical-align: middle;\n",
       "    }\n",
       "\n",
       "    .dataframe tbody tr th {\n",
       "        vertical-align: top;\n",
       "    }\n",
       "\n",
       "    .dataframe thead th {\n",
       "        text-align: right;\n",
       "    }\n",
       "</style>\n",
       "<table border=\"1\" class=\"dataframe\">\n",
       "  <thead>\n",
       "    <tr style=\"text-align: right;\">\n",
       "      <th></th>\n",
       "      <th>news_id</th>\n",
       "      <th>title</th>\n",
       "      <th>content</th>\n",
       "      <th>full_story_link</th>\n",
       "      <th>meneos</th>\n",
       "      <th>clicks</th>\n",
       "      <th>karma</th>\n",
       "      <th>positive_votes</th>\n",
       "      <th>anonymous_votes</th>\n",
       "      <th>negative_votes</th>\n",
       "      <th>category</th>\n",
       "      <th>comments</th>\n",
       "      <th>published_date</th>\n",
       "      <th>user</th>\n",
       "      <th>source</th>\n",
       "      <th>source_link</th>\n",
       "      <th>scraped_date</th>\n",
       "      <th>provincia</th>\n",
       "      <th>comunidad</th>\n",
       "    </tr>\n",
       "  </thead>\n",
       "  <tbody>\n",
       "    <tr>\n",
       "      <th>0</th>\n",
       "      <td>4032594</td>\n",
       "      <td>RTVE mantiene que Mazón llegó al Cecopi antes ...</td>\n",
       "      <td>Los servicios informativos de la radio y la te...</td>\n",
       "      <td>https://meneame.net/story/rtve-mantiene-mazon-...</td>\n",
       "      <td>115</td>\n",
       "      <td>651</td>\n",
       "      <td>410</td>\n",
       "      <td>57</td>\n",
       "      <td>58</td>\n",
       "      <td>1</td>\n",
       "      <td>Política y Sociedad</td>\n",
       "      <td>30</td>\n",
       "      <td>2025-02-27 12:50:02</td>\n",
       "      <td>CosasQueLees</td>\n",
       "      <td>eldiario.es</td>\n",
       "      <td>https://www.eldiario.es/comunitat-valenciana/r...</td>\n",
       "      <td>2025-02-27 13:30:08</td>\n",
       "      <td>NaN</td>\n",
       "      <td>NaN</td>\n",
       "    </tr>\n",
       "    <tr>\n",
       "      <th>1</th>\n",
       "      <td>4032568</td>\n",
       "      <td>Arde Mississippi - ¿De donde sale todo ese odio?</td>\n",
       "      <td>Gene Hackman en la película Arde Mississippi (...</td>\n",
       "      <td>https://meneame.net/story/arde-mississippi-don...</td>\n",
       "      <td>77</td>\n",
       "      <td>982</td>\n",
       "      <td>362</td>\n",
       "      <td>50</td>\n",
       "      <td>27</td>\n",
       "      <td>2</td>\n",
       "      <td>Entretenimiento y Cultura</td>\n",
       "      <td>24</td>\n",
       "      <td>2025-02-27 12:35:02</td>\n",
       "      <td>Grahml</td>\n",
       "      <td>youtube.com</td>\n",
       "      <td>https://www.youtube.com/watch?v=dnWDqcdbANQ</td>\n",
       "      <td>2025-02-27 13:30:08</td>\n",
       "      <td>NaN</td>\n",
       "      <td>NaN</td>\n",
       "    </tr>\n",
       "    <tr>\n",
       "      <th>2</th>\n",
       "      <td>4032569</td>\n",
       "      <td>La Guardia Civil desaloja todos los colegios d...</td>\n",
       "      <td>La Guardia Civil está desalojando preventivame...</td>\n",
       "      <td>https://meneame.net/story/guardia-civil-desalo...</td>\n",
       "      <td>97</td>\n",
       "      <td>761</td>\n",
       "      <td>369</td>\n",
       "      <td>50</td>\n",
       "      <td>47</td>\n",
       "      <td>0</td>\n",
       "      <td>Política y Sociedad</td>\n",
       "      <td>70</td>\n",
       "      <td>2025-02-27 12:10:05</td>\n",
       "      <td>Tunguska08Chelyabinsk13</td>\n",
       "      <td>levante-emv.com</td>\n",
       "      <td>https://www.levante-emv.com/sucesos/2025/02/27...</td>\n",
       "      <td>2025-02-27 13:30:08</td>\n",
       "      <td>NaN</td>\n",
       "      <td>NaN</td>\n",
       "    </tr>\n",
       "  </tbody>\n",
       "</table>\n",
       "</div>"
      ],
      "text/plain": [
       "   news_id                                              title  \\\n",
       "0  4032594  RTVE mantiene que Mazón llegó al Cecopi antes ...   \n",
       "1  4032568   Arde Mississippi - ¿De donde sale todo ese odio?   \n",
       "2  4032569  La Guardia Civil desaloja todos los colegios d...   \n",
       "\n",
       "                                             content  \\\n",
       "0  Los servicios informativos de la radio y la te...   \n",
       "1  Gene Hackman en la película Arde Mississippi (...   \n",
       "2  La Guardia Civil está desalojando preventivame...   \n",
       "\n",
       "                                     full_story_link  meneos  clicks  karma  \\\n",
       "0  https://meneame.net/story/rtve-mantiene-mazon-...     115     651    410   \n",
       "1  https://meneame.net/story/arde-mississippi-don...      77     982    362   \n",
       "2  https://meneame.net/story/guardia-civil-desalo...      97     761    369   \n",
       "\n",
       "   positive_votes  anonymous_votes  negative_votes                   category  \\\n",
       "0              57               58               1        Política y Sociedad   \n",
       "1              50               27               2  Entretenimiento y Cultura   \n",
       "2              50               47               0        Política y Sociedad   \n",
       "\n",
       "   comments      published_date                     user           source  \\\n",
       "0        30 2025-02-27 12:50:02             CosasQueLees      eldiario.es   \n",
       "1        24 2025-02-27 12:35:02                   Grahml      youtube.com   \n",
       "2        70 2025-02-27 12:10:05  Tunguska08Chelyabinsk13  levante-emv.com   \n",
       "\n",
       "                                         source_link        scraped_date  \\\n",
       "0  https://www.eldiario.es/comunitat-valenciana/r... 2025-02-27 13:30:08   \n",
       "1        https://www.youtube.com/watch?v=dnWDqcdbANQ 2025-02-27 13:30:08   \n",
       "2  https://www.levante-emv.com/sucesos/2025/02/27... 2025-02-27 13:30:08   \n",
       "\n",
       "  provincia comunidad  \n",
       "0       NaN       NaN  \n",
       "1       NaN       NaN  \n",
       "2       NaN       NaN  "
      ]
     },
     "execution_count": 4,
     "metadata": {},
     "output_type": "execute_result"
    }
   ],
   "source": [
    "df.head(3)"
   ]
  },
  {
   "cell_type": "markdown",
   "id": "b146ae0f-05bc-4901-b92f-3edd95a335b6",
   "metadata": {},
   "source": [
    "### Cargamos df de Clustering para añadir info de Cluster"
   ]
  },
  {
   "cell_type": "code",
   "execution_count": 5,
   "id": "50fb1c48-376b-4b06-b6cb-2a97a5cb207c",
   "metadata": {},
   "outputs": [],
   "source": [
    "df = df.drop(columns=['full_story_link'], errors='ignore')"
   ]
  },
  {
   "cell_type": "code",
   "execution_count": 6,
   "id": "9cd95d94-a4af-47fe-8e9b-b604c560982d",
   "metadata": {},
   "outputs": [
    {
     "name": "stdout",
     "output_type": "stream",
     "text": [
      "✅ Archivo cargado correctamente: df_clustering_1.pkl\n",
      "✅ Archivo cargado correctamente: df_clustering_2.pkl\n",
      "✅ Archivo cargado correctamente: df_clustering_3.pkl\n",
      "✅ DataFrame final con 287563 filas y 10 columnas\n"
     ]
    }
   ],
   "source": [
    "directorio_base = os.path.abspath(os.path.join(os.getcwd(), \"../../..\"))  # Subir dos directorios\n",
    "directorio_pkl = os.path.join(directorio_base, \"src\", \"00.data\", \"clustering\")\n",
    "\n",
    "# Obtener todos los archivos .pkl en el directorio de preprocesado\n",
    "archivos_pkl = [f for f in os.listdir(directorio_pkl) if f.startswith(\"df_clustering_\") and f.endswith(\".pkl\")]\n",
    "\n",
    "# Si no se encuentran archivos .pkl, mostramos un mensaje\n",
    "if not archivos_pkl:\n",
    "    print(\"❌ No se encontraron archivos .pkl en el directorio.\")\n",
    "else:\n",
    "    df_lista = []\n",
    "\n",
    "    # Cargar todos los archivos .pkl\n",
    "    for archivo in archivos_pkl:\n",
    "        ruta_archivo = os.path.join(directorio_pkl, archivo)\n",
    "        try:\n",
    "            with open(ruta_archivo, \"rb\") as f:\n",
    "                df_lista.append(pickle.load(f))\n",
    "                print(f\"✅ Archivo cargado correctamente: {archivo}\")\n",
    "        except FileNotFoundError:\n",
    "            print(f\"❌ No se encontró el archivo: {archivo}\")\n",
    "        except Exception as e:\n",
    "            print(f\"❌ Error al cargar {archivo}: {e}\")\n",
    "\n",
    "    # Concatenar todos los DataFrames en uno solo\n",
    "    if df_lista:\n",
    "        df_clustering = pd.concat(df_lista, ignore_index=True)\n",
    "        print(f\"✅ DataFrame final con {df_clustering.shape[0]} filas y {df_clustering.shape[1]} columnas\")\n",
    "    else:\n",
    "        print(\"❌ No se cargaron DataFrames.\")"
   ]
  },
  {
   "cell_type": "code",
   "execution_count": 7,
   "id": "b731adaa-6717-4fe8-a073-1d060dc5e8e4",
   "metadata": {},
   "outputs": [
    {
     "data": {
      "text/html": [
       "<div>\n",
       "<style scoped>\n",
       "    .dataframe tbody tr th:only-of-type {\n",
       "        vertical-align: middle;\n",
       "    }\n",
       "\n",
       "    .dataframe tbody tr th {\n",
       "        vertical-align: top;\n",
       "    }\n",
       "\n",
       "    .dataframe thead th {\n",
       "        text-align: right;\n",
       "    }\n",
       "</style>\n",
       "<table border=\"1\" class=\"dataframe\">\n",
       "  <thead>\n",
       "    <tr style=\"text-align: right;\">\n",
       "      <th></th>\n",
       "      <th>news_id</th>\n",
       "      <th>meneos</th>\n",
       "      <th>clicks</th>\n",
       "      <th>karma</th>\n",
       "      <th>positive_votes</th>\n",
       "      <th>negative_votes</th>\n",
       "      <th>anonymous_votes</th>\n",
       "      <th>comments</th>\n",
       "      <th>category</th>\n",
       "      <th>cluster_3</th>\n",
       "    </tr>\n",
       "  </thead>\n",
       "  <tbody>\n",
       "    <tr>\n",
       "      <th>0</th>\n",
       "      <td>4032594</td>\n",
       "      <td>115</td>\n",
       "      <td>651</td>\n",
       "      <td>410</td>\n",
       "      <td>57</td>\n",
       "      <td>1</td>\n",
       "      <td>58</td>\n",
       "      <td>30</td>\n",
       "      <td>Política y Sociedad</td>\n",
       "      <td>1</td>\n",
       "    </tr>\n",
       "    <tr>\n",
       "      <th>1</th>\n",
       "      <td>4032568</td>\n",
       "      <td>77</td>\n",
       "      <td>982</td>\n",
       "      <td>362</td>\n",
       "      <td>50</td>\n",
       "      <td>2</td>\n",
       "      <td>27</td>\n",
       "      <td>24</td>\n",
       "      <td>Entretenimiento y Cultura</td>\n",
       "      <td>1</td>\n",
       "    </tr>\n",
       "    <tr>\n",
       "      <th>2</th>\n",
       "      <td>4032569</td>\n",
       "      <td>97</td>\n",
       "      <td>761</td>\n",
       "      <td>369</td>\n",
       "      <td>50</td>\n",
       "      <td>0</td>\n",
       "      <td>47</td>\n",
       "      <td>70</td>\n",
       "      <td>Política y Sociedad</td>\n",
       "      <td>1</td>\n",
       "    </tr>\n",
       "  </tbody>\n",
       "</table>\n",
       "</div>"
      ],
      "text/plain": [
       "   news_id  meneos  clicks  karma  positive_votes  negative_votes  \\\n",
       "0  4032594     115     651    410              57               1   \n",
       "1  4032568      77     982    362              50               2   \n",
       "2  4032569      97     761    369              50               0   \n",
       "\n",
       "   anonymous_votes  comments                   category  cluster_3  \n",
       "0               58        30        Política y Sociedad          1  \n",
       "1               27        24  Entretenimiento y Cultura          1  \n",
       "2               47        70        Política y Sociedad          1  "
      ]
     },
     "execution_count": 7,
     "metadata": {},
     "output_type": "execute_result"
    }
   ],
   "source": [
    "df_clustering.head(3)"
   ]
  },
  {
   "cell_type": "code",
   "execution_count": 8,
   "id": "4fb1f495-e3d6-4cf3-81a6-d9d7c718c19c",
   "metadata": {},
   "outputs": [],
   "source": [
    "# df_clustering[\"cluster_3\"].value_counts()"
   ]
  },
  {
   "cell_type": "markdown",
   "id": "869d57c0-6787-432d-97d6-6c06383fd9a8",
   "metadata": {},
   "source": [
    "### Conectamos con SQL"
   ]
  },
  {
   "cell_type": "code",
   "execution_count": 8,
   "id": "1fab9634-1f49-427c-84f1-f90d7f120492",
   "metadata": {},
   "outputs": [],
   "source": [
    "# Cargar las variables de entorno\n",
    "load_dotenv()\n",
    "\n",
    "user = os.getenv(\"DB_USER\")\n",
    "password = os.getenv(\"DB_PASSWORD\")\n",
    "host = os.getenv(\"HOST\", \"localhost\")\n",
    "database = \"meneame\"\n",
    "\n",
    "# Crear el engine de SQLAlchemy\n",
    "engine = create_engine(f\"mysql+pymysql://{user}:{password}@{host}/{database}\")"
   ]
  },
  {
   "cell_type": "markdown",
   "id": "156037c5-7e42-4361-a338-913bc4a1380a",
   "metadata": {},
   "source": [
    "### Cargamos todo en un df para comparar y quedarnos con las nuevas noticias en df_diff"
   ]
  },
  {
   "cell_type": "code",
   "execution_count": 9,
   "id": "72f0b8ed-849b-486e-aa18-b541d6e1f933",
   "metadata": {},
   "outputs": [],
   "source": [
    "# Extraer los datos de la tabla 'news_info_table' de la base de datos\n",
    "query = \"SELECT * FROM news_info_table\"\n",
    "df_db = pd.read_sql(query, engine)"
   ]
  },
  {
   "cell_type": "code",
   "execution_count": 10,
   "id": "c5a64bcc-63fc-4ec0-a5ff-2b4ad4648197",
   "metadata": {},
   "outputs": [
    {
     "data": {
      "text/plain": [
       "(287563, 17)"
      ]
     },
     "execution_count": 10,
     "metadata": {},
     "output_type": "execute_result"
    }
   ],
   "source": [
    "df_db.shape"
   ]
  },
  {
   "cell_type": "code",
   "execution_count": 11,
   "id": "caa82fc6-64ab-4ee6-ac64-42d1baebbf1d",
   "metadata": {},
   "outputs": [],
   "source": [
    "# Identificar las diferencias entre el DataFrame original y los datos en la base de datos\n",
    "df_diff = df.merge(df_db[['news_id']], on=\"news_id\", how=\"left\", indicator=True)\n",
    "df_diff = df_diff[df_diff['_merge'] == 'left_only'].drop(columns=['_merge'])\n",
    "df_diff = df_diff.astype({'provincia': 'object', 'comunidad': 'object'})"
   ]
  },
  {
   "cell_type": "code",
   "execution_count": 12,
   "id": "7b553153-6d13-4a46-b6bf-30a30870a3c3",
   "metadata": {},
   "outputs": [],
   "source": [
    "# Reemplazar valores nulos por 'Desconocido'\n",
    "df_diff['provincia'] = df_diff['provincia'].fillna('Desconocido')\n",
    "df_diff['comunidad'] = df_diff['comunidad'].fillna('Desconocido')"
   ]
  },
  {
   "cell_type": "code",
   "execution_count": 17,
   "id": "644bd486-865b-4cb6-bfdf-30c2a9953a06",
   "metadata": {},
   "outputs": [],
   "source": [
    "def handle_new_data(df_diff):\n",
    "    # Establecer conexión a la base de datos\n",
    "    with engine.connect() as conn:\n",
    "        for col in df_diff.columns:\n",
    "            new_data = df_diff[col].unique()  # Obtener los nuevos valores de la columna\n",
    "            \n",
    "            for value in new_data:\n",
    "                if col == 'user':\n",
    "                    # Obtener el 'user_id' correspondiente del dataframe original\n",
    "                    user_id = df[df['user'] == value]['user_id'].values[0]\n",
    "                    # Insertar el nuevo usuario junto con su 'user_id'\n",
    "                    conn.execute(text(f\"INSERT INTO user_table (user_id, user) VALUES ({user_id}, '{value}')\"))\n",
    "                \n",
    "                elif col == 'source':\n",
    "                    conn.execute(text(f\"INSERT INTO source_table (source) VALUES ('{value}')\"))\n",
    "                elif col == 'provincia':\n",
    "                    conn.execute(text(f\"INSERT INTO provincia_table (provincia) VALUES ('{value}')\"))\n",
    "                elif col == 'category':\n",
    "                    # Asignar un 'category_id' con factorize\n",
    "                    category_id = pd.factorize(df['category'])[0][df['category'] == value][0] + 1\n",
    "                    # Insertar el nuevo valor de 'category' junto con su 'category_id'\n",
    "                    conn.execute(text(f\"INSERT INTO category_table (category_id, category) VALUES ({category_id}, '{value}')\"))\n"
   ]
  },
  {
   "cell_type": "code",
   "execution_count": 18,
   "id": "ad4caa1a-58e9-49ae-b52b-856854e32146",
   "metadata": {},
   "outputs": [
    {
     "ename": "IntegrityError",
     "evalue": "(pymysql.err.IntegrityError) (1062, \"Duplicate entry '2' for key 'category_table.PRIMARY'\")\n[SQL: INSERT INTO category_table (category_id, category) VALUES (2, 'Entretenimiento y Cultura')]\n(Background on this error at: https://sqlalche.me/e/20/gkpj)",
     "output_type": "error",
     "traceback": [
      "\u001b[1;31m---------------------------------------------------------------------------\u001b[0m",
      "\u001b[1;31mIntegrityError\u001b[0m                            Traceback (most recent call last)",
      "File \u001b[1;32m~\\anaconda3\\Lib\\site-packages\\sqlalchemy\\engine\\base.py:1967\u001b[0m, in \u001b[0;36mConnection._exec_single_context\u001b[1;34m(self, dialect, context, statement, parameters)\u001b[0m\n\u001b[0;32m   1966\u001b[0m     \u001b[38;5;28;01mif\u001b[39;00m \u001b[38;5;129;01mnot\u001b[39;00m evt_handled:\n\u001b[1;32m-> 1967\u001b[0m         \u001b[38;5;28mself\u001b[39m\u001b[38;5;241m.\u001b[39mdialect\u001b[38;5;241m.\u001b[39mdo_execute(\n\u001b[0;32m   1968\u001b[0m             cursor, str_statement, effective_parameters, context\n\u001b[0;32m   1969\u001b[0m         )\n\u001b[0;32m   1971\u001b[0m \u001b[38;5;28;01mif\u001b[39;00m \u001b[38;5;28mself\u001b[39m\u001b[38;5;241m.\u001b[39m_has_events \u001b[38;5;129;01mor\u001b[39;00m \u001b[38;5;28mself\u001b[39m\u001b[38;5;241m.\u001b[39mengine\u001b[38;5;241m.\u001b[39m_has_events:\n",
      "File \u001b[1;32m~\\anaconda3\\Lib\\site-packages\\sqlalchemy\\engine\\default.py:941\u001b[0m, in \u001b[0;36mDefaultDialect.do_execute\u001b[1;34m(self, cursor, statement, parameters, context)\u001b[0m\n\u001b[0;32m    940\u001b[0m \u001b[38;5;28;01mdef\u001b[39;00m \u001b[38;5;21mdo_execute\u001b[39m(\u001b[38;5;28mself\u001b[39m, cursor, statement, parameters, context\u001b[38;5;241m=\u001b[39m\u001b[38;5;28;01mNone\u001b[39;00m):\n\u001b[1;32m--> 941\u001b[0m     cursor\u001b[38;5;241m.\u001b[39mexecute(statement, parameters)\n",
      "File \u001b[1;32m~\\anaconda3\\Lib\\site-packages\\pymysql\\cursors.py:153\u001b[0m, in \u001b[0;36mCursor.execute\u001b[1;34m(self, query, args)\u001b[0m\n\u001b[0;32m    151\u001b[0m query \u001b[38;5;241m=\u001b[39m \u001b[38;5;28mself\u001b[39m\u001b[38;5;241m.\u001b[39mmogrify(query, args)\n\u001b[1;32m--> 153\u001b[0m result \u001b[38;5;241m=\u001b[39m \u001b[38;5;28mself\u001b[39m\u001b[38;5;241m.\u001b[39m_query(query)\n\u001b[0;32m    154\u001b[0m \u001b[38;5;28mself\u001b[39m\u001b[38;5;241m.\u001b[39m_executed \u001b[38;5;241m=\u001b[39m query\n",
      "File \u001b[1;32m~\\anaconda3\\Lib\\site-packages\\pymysql\\cursors.py:322\u001b[0m, in \u001b[0;36mCursor._query\u001b[1;34m(self, q)\u001b[0m\n\u001b[0;32m    321\u001b[0m \u001b[38;5;28mself\u001b[39m\u001b[38;5;241m.\u001b[39m_clear_result()\n\u001b[1;32m--> 322\u001b[0m conn\u001b[38;5;241m.\u001b[39mquery(q)\n\u001b[0;32m    323\u001b[0m \u001b[38;5;28mself\u001b[39m\u001b[38;5;241m.\u001b[39m_do_get_result()\n",
      "File \u001b[1;32m~\\anaconda3\\Lib\\site-packages\\pymysql\\connections.py:563\u001b[0m, in \u001b[0;36mConnection.query\u001b[1;34m(self, sql, unbuffered)\u001b[0m\n\u001b[0;32m    562\u001b[0m \u001b[38;5;28mself\u001b[39m\u001b[38;5;241m.\u001b[39m_execute_command(COMMAND\u001b[38;5;241m.\u001b[39mCOM_QUERY, sql)\n\u001b[1;32m--> 563\u001b[0m \u001b[38;5;28mself\u001b[39m\u001b[38;5;241m.\u001b[39m_affected_rows \u001b[38;5;241m=\u001b[39m \u001b[38;5;28mself\u001b[39m\u001b[38;5;241m.\u001b[39m_read_query_result(unbuffered\u001b[38;5;241m=\u001b[39munbuffered)\n\u001b[0;32m    564\u001b[0m \u001b[38;5;28;01mreturn\u001b[39;00m \u001b[38;5;28mself\u001b[39m\u001b[38;5;241m.\u001b[39m_affected_rows\n",
      "File \u001b[1;32m~\\anaconda3\\Lib\\site-packages\\pymysql\\connections.py:825\u001b[0m, in \u001b[0;36mConnection._read_query_result\u001b[1;34m(self, unbuffered)\u001b[0m\n\u001b[0;32m    824\u001b[0m     result \u001b[38;5;241m=\u001b[39m MySQLResult(\u001b[38;5;28mself\u001b[39m)\n\u001b[1;32m--> 825\u001b[0m     result\u001b[38;5;241m.\u001b[39mread()\n\u001b[0;32m    826\u001b[0m \u001b[38;5;28mself\u001b[39m\u001b[38;5;241m.\u001b[39m_result \u001b[38;5;241m=\u001b[39m result\n",
      "File \u001b[1;32m~\\anaconda3\\Lib\\site-packages\\pymysql\\connections.py:1199\u001b[0m, in \u001b[0;36mMySQLResult.read\u001b[1;34m(self)\u001b[0m\n\u001b[0;32m   1198\u001b[0m \u001b[38;5;28;01mtry\u001b[39;00m:\n\u001b[1;32m-> 1199\u001b[0m     first_packet \u001b[38;5;241m=\u001b[39m \u001b[38;5;28mself\u001b[39m\u001b[38;5;241m.\u001b[39mconnection\u001b[38;5;241m.\u001b[39m_read_packet()\n\u001b[0;32m   1201\u001b[0m     \u001b[38;5;28;01mif\u001b[39;00m first_packet\u001b[38;5;241m.\u001b[39mis_ok_packet():\n",
      "File \u001b[1;32m~\\anaconda3\\Lib\\site-packages\\pymysql\\connections.py:775\u001b[0m, in \u001b[0;36mConnection._read_packet\u001b[1;34m(self, packet_type)\u001b[0m\n\u001b[0;32m    774\u001b[0m         \u001b[38;5;28mself\u001b[39m\u001b[38;5;241m.\u001b[39m_result\u001b[38;5;241m.\u001b[39munbuffered_active \u001b[38;5;241m=\u001b[39m \u001b[38;5;28;01mFalse\u001b[39;00m\n\u001b[1;32m--> 775\u001b[0m     packet\u001b[38;5;241m.\u001b[39mraise_for_error()\n\u001b[0;32m    776\u001b[0m \u001b[38;5;28;01mreturn\u001b[39;00m packet\n",
      "File \u001b[1;32m~\\anaconda3\\Lib\\site-packages\\pymysql\\protocol.py:219\u001b[0m, in \u001b[0;36mMysqlPacket.raise_for_error\u001b[1;34m(self)\u001b[0m\n\u001b[0;32m    218\u001b[0m     \u001b[38;5;28mprint\u001b[39m(\u001b[38;5;124m\"\u001b[39m\u001b[38;5;124merrno =\u001b[39m\u001b[38;5;124m\"\u001b[39m, errno)\n\u001b[1;32m--> 219\u001b[0m err\u001b[38;5;241m.\u001b[39mraise_mysql_exception(\u001b[38;5;28mself\u001b[39m\u001b[38;5;241m.\u001b[39m_data)\n",
      "File \u001b[1;32m~\\anaconda3\\Lib\\site-packages\\pymysql\\err.py:150\u001b[0m, in \u001b[0;36mraise_mysql_exception\u001b[1;34m(data)\u001b[0m\n\u001b[0;32m    149\u001b[0m     errorclass \u001b[38;5;241m=\u001b[39m InternalError \u001b[38;5;28;01mif\u001b[39;00m errno \u001b[38;5;241m<\u001b[39m \u001b[38;5;241m1000\u001b[39m \u001b[38;5;28;01melse\u001b[39;00m OperationalError\n\u001b[1;32m--> 150\u001b[0m \u001b[38;5;28;01mraise\u001b[39;00m errorclass(errno, errval)\n",
      "\u001b[1;31mIntegrityError\u001b[0m: (1062, \"Duplicate entry '2' for key 'category_table.PRIMARY'\")",
      "\nThe above exception was the direct cause of the following exception:\n",
      "\u001b[1;31mIntegrityError\u001b[0m                            Traceback (most recent call last)",
      "Cell \u001b[1;32mIn[18], line 2\u001b[0m\n\u001b[0;32m      1\u001b[0m \u001b[38;5;66;03m# Ejecutar la función para procesar los nuevos valores y asegurarse de que los datos están actualizados\u001b[39;00m\n\u001b[1;32m----> 2\u001b[0m handle_new_data(df_diff)\n",
      "Cell \u001b[1;32mIn[17], line 22\u001b[0m, in \u001b[0;36mhandle_new_data\u001b[1;34m(df_diff)\u001b[0m\n\u001b[0;32m     20\u001b[0m category_id \u001b[38;5;241m=\u001b[39m pd\u001b[38;5;241m.\u001b[39mfactorize(df[\u001b[38;5;124m'\u001b[39m\u001b[38;5;124mcategory\u001b[39m\u001b[38;5;124m'\u001b[39m])[\u001b[38;5;241m0\u001b[39m][df[\u001b[38;5;124m'\u001b[39m\u001b[38;5;124mcategory\u001b[39m\u001b[38;5;124m'\u001b[39m] \u001b[38;5;241m==\u001b[39m value][\u001b[38;5;241m0\u001b[39m] \u001b[38;5;241m+\u001b[39m \u001b[38;5;241m1\u001b[39m\n\u001b[0;32m     21\u001b[0m \u001b[38;5;66;03m# Insertar el nuevo valor de 'category' junto con su 'category_id'\u001b[39;00m\n\u001b[1;32m---> 22\u001b[0m conn\u001b[38;5;241m.\u001b[39mexecute(text(\u001b[38;5;124mf\u001b[39m\u001b[38;5;124m\"\u001b[39m\u001b[38;5;124mINSERT INTO category_table (category_id, category) VALUES (\u001b[39m\u001b[38;5;132;01m{\u001b[39;00mcategory_id\u001b[38;5;132;01m}\u001b[39;00m\u001b[38;5;124m, \u001b[39m\u001b[38;5;124m'\u001b[39m\u001b[38;5;132;01m{\u001b[39;00mvalue\u001b[38;5;132;01m}\u001b[39;00m\u001b[38;5;124m'\u001b[39m\u001b[38;5;124m)\u001b[39m\u001b[38;5;124m\"\u001b[39m))\n",
      "File \u001b[1;32m~\\anaconda3\\Lib\\site-packages\\sqlalchemy\\engine\\base.py:1418\u001b[0m, in \u001b[0;36mConnection.execute\u001b[1;34m(self, statement, parameters, execution_options)\u001b[0m\n\u001b[0;32m   1416\u001b[0m     \u001b[38;5;28;01mraise\u001b[39;00m exc\u001b[38;5;241m.\u001b[39mObjectNotExecutableError(statement) \u001b[38;5;28;01mfrom\u001b[39;00m \u001b[38;5;21;01merr\u001b[39;00m\n\u001b[0;32m   1417\u001b[0m \u001b[38;5;28;01melse\u001b[39;00m:\n\u001b[1;32m-> 1418\u001b[0m     \u001b[38;5;28;01mreturn\u001b[39;00m meth(\n\u001b[0;32m   1419\u001b[0m         \u001b[38;5;28mself\u001b[39m,\n\u001b[0;32m   1420\u001b[0m         distilled_parameters,\n\u001b[0;32m   1421\u001b[0m         execution_options \u001b[38;5;129;01mor\u001b[39;00m NO_OPTIONS,\n\u001b[0;32m   1422\u001b[0m     )\n",
      "File \u001b[1;32m~\\anaconda3\\Lib\\site-packages\\sqlalchemy\\sql\\elements.py:515\u001b[0m, in \u001b[0;36mClauseElement._execute_on_connection\u001b[1;34m(self, connection, distilled_params, execution_options)\u001b[0m\n\u001b[0;32m    513\u001b[0m     \u001b[38;5;28;01mif\u001b[39;00m TYPE_CHECKING:\n\u001b[0;32m    514\u001b[0m         \u001b[38;5;28;01massert\u001b[39;00m \u001b[38;5;28misinstance\u001b[39m(\u001b[38;5;28mself\u001b[39m, Executable)\n\u001b[1;32m--> 515\u001b[0m     \u001b[38;5;28;01mreturn\u001b[39;00m connection\u001b[38;5;241m.\u001b[39m_execute_clauseelement(\n\u001b[0;32m    516\u001b[0m         \u001b[38;5;28mself\u001b[39m, distilled_params, execution_options\n\u001b[0;32m    517\u001b[0m     )\n\u001b[0;32m    518\u001b[0m \u001b[38;5;28;01melse\u001b[39;00m:\n\u001b[0;32m    519\u001b[0m     \u001b[38;5;28;01mraise\u001b[39;00m exc\u001b[38;5;241m.\u001b[39mObjectNotExecutableError(\u001b[38;5;28mself\u001b[39m)\n",
      "File \u001b[1;32m~\\anaconda3\\Lib\\site-packages\\sqlalchemy\\engine\\base.py:1640\u001b[0m, in \u001b[0;36mConnection._execute_clauseelement\u001b[1;34m(self, elem, distilled_parameters, execution_options)\u001b[0m\n\u001b[0;32m   1628\u001b[0m compiled_cache: Optional[CompiledCacheType] \u001b[38;5;241m=\u001b[39m execution_options\u001b[38;5;241m.\u001b[39mget(\n\u001b[0;32m   1629\u001b[0m     \u001b[38;5;124m\"\u001b[39m\u001b[38;5;124mcompiled_cache\u001b[39m\u001b[38;5;124m\"\u001b[39m, \u001b[38;5;28mself\u001b[39m\u001b[38;5;241m.\u001b[39mengine\u001b[38;5;241m.\u001b[39m_compiled_cache\n\u001b[0;32m   1630\u001b[0m )\n\u001b[0;32m   1632\u001b[0m compiled_sql, extracted_params, cache_hit \u001b[38;5;241m=\u001b[39m elem\u001b[38;5;241m.\u001b[39m_compile_w_cache(\n\u001b[0;32m   1633\u001b[0m     dialect\u001b[38;5;241m=\u001b[39mdialect,\n\u001b[0;32m   1634\u001b[0m     compiled_cache\u001b[38;5;241m=\u001b[39mcompiled_cache,\n\u001b[1;32m   (...)\u001b[0m\n\u001b[0;32m   1638\u001b[0m     linting\u001b[38;5;241m=\u001b[39m\u001b[38;5;28mself\u001b[39m\u001b[38;5;241m.\u001b[39mdialect\u001b[38;5;241m.\u001b[39mcompiler_linting \u001b[38;5;241m|\u001b[39m compiler\u001b[38;5;241m.\u001b[39mWARN_LINTING,\n\u001b[0;32m   1639\u001b[0m )\n\u001b[1;32m-> 1640\u001b[0m ret \u001b[38;5;241m=\u001b[39m \u001b[38;5;28mself\u001b[39m\u001b[38;5;241m.\u001b[39m_execute_context(\n\u001b[0;32m   1641\u001b[0m     dialect,\n\u001b[0;32m   1642\u001b[0m     dialect\u001b[38;5;241m.\u001b[39mexecution_ctx_cls\u001b[38;5;241m.\u001b[39m_init_compiled,\n\u001b[0;32m   1643\u001b[0m     compiled_sql,\n\u001b[0;32m   1644\u001b[0m     distilled_parameters,\n\u001b[0;32m   1645\u001b[0m     execution_options,\n\u001b[0;32m   1646\u001b[0m     compiled_sql,\n\u001b[0;32m   1647\u001b[0m     distilled_parameters,\n\u001b[0;32m   1648\u001b[0m     elem,\n\u001b[0;32m   1649\u001b[0m     extracted_params,\n\u001b[0;32m   1650\u001b[0m     cache_hit\u001b[38;5;241m=\u001b[39mcache_hit,\n\u001b[0;32m   1651\u001b[0m )\n\u001b[0;32m   1652\u001b[0m \u001b[38;5;28;01mif\u001b[39;00m has_events:\n\u001b[0;32m   1653\u001b[0m     \u001b[38;5;28mself\u001b[39m\u001b[38;5;241m.\u001b[39mdispatch\u001b[38;5;241m.\u001b[39mafter_execute(\n\u001b[0;32m   1654\u001b[0m         \u001b[38;5;28mself\u001b[39m,\n\u001b[0;32m   1655\u001b[0m         elem,\n\u001b[1;32m   (...)\u001b[0m\n\u001b[0;32m   1659\u001b[0m         ret,\n\u001b[0;32m   1660\u001b[0m     )\n",
      "File \u001b[1;32m~\\anaconda3\\Lib\\site-packages\\sqlalchemy\\engine\\base.py:1846\u001b[0m, in \u001b[0;36mConnection._execute_context\u001b[1;34m(self, dialect, constructor, statement, parameters, execution_options, *args, **kw)\u001b[0m\n\u001b[0;32m   1844\u001b[0m     \u001b[38;5;28;01mreturn\u001b[39;00m \u001b[38;5;28mself\u001b[39m\u001b[38;5;241m.\u001b[39m_exec_insertmany_context(dialect, context)\n\u001b[0;32m   1845\u001b[0m \u001b[38;5;28;01melse\u001b[39;00m:\n\u001b[1;32m-> 1846\u001b[0m     \u001b[38;5;28;01mreturn\u001b[39;00m \u001b[38;5;28mself\u001b[39m\u001b[38;5;241m.\u001b[39m_exec_single_context(\n\u001b[0;32m   1847\u001b[0m         dialect, context, statement, parameters\n\u001b[0;32m   1848\u001b[0m     )\n",
      "File \u001b[1;32m~\\anaconda3\\Lib\\site-packages\\sqlalchemy\\engine\\base.py:1986\u001b[0m, in \u001b[0;36mConnection._exec_single_context\u001b[1;34m(self, dialect, context, statement, parameters)\u001b[0m\n\u001b[0;32m   1983\u001b[0m     result \u001b[38;5;241m=\u001b[39m context\u001b[38;5;241m.\u001b[39m_setup_result_proxy()\n\u001b[0;32m   1985\u001b[0m \u001b[38;5;28;01mexcept\u001b[39;00m \u001b[38;5;167;01mBaseException\u001b[39;00m \u001b[38;5;28;01mas\u001b[39;00m e:\n\u001b[1;32m-> 1986\u001b[0m     \u001b[38;5;28mself\u001b[39m\u001b[38;5;241m.\u001b[39m_handle_dbapi_exception(\n\u001b[0;32m   1987\u001b[0m         e, str_statement, effective_parameters, cursor, context\n\u001b[0;32m   1988\u001b[0m     )\n\u001b[0;32m   1990\u001b[0m \u001b[38;5;28;01mreturn\u001b[39;00m result\n",
      "File \u001b[1;32m~\\anaconda3\\Lib\\site-packages\\sqlalchemy\\engine\\base.py:2355\u001b[0m, in \u001b[0;36mConnection._handle_dbapi_exception\u001b[1;34m(self, e, statement, parameters, cursor, context, is_sub_exec)\u001b[0m\n\u001b[0;32m   2353\u001b[0m \u001b[38;5;28;01melif\u001b[39;00m should_wrap:\n\u001b[0;32m   2354\u001b[0m     \u001b[38;5;28;01massert\u001b[39;00m sqlalchemy_exception \u001b[38;5;129;01mis\u001b[39;00m \u001b[38;5;129;01mnot\u001b[39;00m \u001b[38;5;28;01mNone\u001b[39;00m\n\u001b[1;32m-> 2355\u001b[0m     \u001b[38;5;28;01mraise\u001b[39;00m sqlalchemy_exception\u001b[38;5;241m.\u001b[39mwith_traceback(exc_info[\u001b[38;5;241m2\u001b[39m]) \u001b[38;5;28;01mfrom\u001b[39;00m \u001b[38;5;21;01me\u001b[39;00m\n\u001b[0;32m   2356\u001b[0m \u001b[38;5;28;01melse\u001b[39;00m:\n\u001b[0;32m   2357\u001b[0m     \u001b[38;5;28;01massert\u001b[39;00m exc_info[\u001b[38;5;241m1\u001b[39m] \u001b[38;5;129;01mis\u001b[39;00m \u001b[38;5;129;01mnot\u001b[39;00m \u001b[38;5;28;01mNone\u001b[39;00m\n",
      "File \u001b[1;32m~\\anaconda3\\Lib\\site-packages\\sqlalchemy\\engine\\base.py:1967\u001b[0m, in \u001b[0;36mConnection._exec_single_context\u001b[1;34m(self, dialect, context, statement, parameters)\u001b[0m\n\u001b[0;32m   1965\u001b[0m                 \u001b[38;5;28;01mbreak\u001b[39;00m\n\u001b[0;32m   1966\u001b[0m     \u001b[38;5;28;01mif\u001b[39;00m \u001b[38;5;129;01mnot\u001b[39;00m evt_handled:\n\u001b[1;32m-> 1967\u001b[0m         \u001b[38;5;28mself\u001b[39m\u001b[38;5;241m.\u001b[39mdialect\u001b[38;5;241m.\u001b[39mdo_execute(\n\u001b[0;32m   1968\u001b[0m             cursor, str_statement, effective_parameters, context\n\u001b[0;32m   1969\u001b[0m         )\n\u001b[0;32m   1971\u001b[0m \u001b[38;5;28;01mif\u001b[39;00m \u001b[38;5;28mself\u001b[39m\u001b[38;5;241m.\u001b[39m_has_events \u001b[38;5;129;01mor\u001b[39;00m \u001b[38;5;28mself\u001b[39m\u001b[38;5;241m.\u001b[39mengine\u001b[38;5;241m.\u001b[39m_has_events:\n\u001b[0;32m   1972\u001b[0m     \u001b[38;5;28mself\u001b[39m\u001b[38;5;241m.\u001b[39mdispatch\u001b[38;5;241m.\u001b[39mafter_cursor_execute(\n\u001b[0;32m   1973\u001b[0m         \u001b[38;5;28mself\u001b[39m,\n\u001b[0;32m   1974\u001b[0m         cursor,\n\u001b[1;32m   (...)\u001b[0m\n\u001b[0;32m   1978\u001b[0m         context\u001b[38;5;241m.\u001b[39mexecutemany,\n\u001b[0;32m   1979\u001b[0m     )\n",
      "File \u001b[1;32m~\\anaconda3\\Lib\\site-packages\\sqlalchemy\\engine\\default.py:941\u001b[0m, in \u001b[0;36mDefaultDialect.do_execute\u001b[1;34m(self, cursor, statement, parameters, context)\u001b[0m\n\u001b[0;32m    940\u001b[0m \u001b[38;5;28;01mdef\u001b[39;00m \u001b[38;5;21mdo_execute\u001b[39m(\u001b[38;5;28mself\u001b[39m, cursor, statement, parameters, context\u001b[38;5;241m=\u001b[39m\u001b[38;5;28;01mNone\u001b[39;00m):\n\u001b[1;32m--> 941\u001b[0m     cursor\u001b[38;5;241m.\u001b[39mexecute(statement, parameters)\n",
      "File \u001b[1;32m~\\anaconda3\\Lib\\site-packages\\pymysql\\cursors.py:153\u001b[0m, in \u001b[0;36mCursor.execute\u001b[1;34m(self, query, args)\u001b[0m\n\u001b[0;32m    149\u001b[0m     \u001b[38;5;28;01mpass\u001b[39;00m\n\u001b[0;32m    151\u001b[0m query \u001b[38;5;241m=\u001b[39m \u001b[38;5;28mself\u001b[39m\u001b[38;5;241m.\u001b[39mmogrify(query, args)\n\u001b[1;32m--> 153\u001b[0m result \u001b[38;5;241m=\u001b[39m \u001b[38;5;28mself\u001b[39m\u001b[38;5;241m.\u001b[39m_query(query)\n\u001b[0;32m    154\u001b[0m \u001b[38;5;28mself\u001b[39m\u001b[38;5;241m.\u001b[39m_executed \u001b[38;5;241m=\u001b[39m query\n\u001b[0;32m    155\u001b[0m \u001b[38;5;28;01mreturn\u001b[39;00m result\n",
      "File \u001b[1;32m~\\anaconda3\\Lib\\site-packages\\pymysql\\cursors.py:322\u001b[0m, in \u001b[0;36mCursor._query\u001b[1;34m(self, q)\u001b[0m\n\u001b[0;32m    320\u001b[0m conn \u001b[38;5;241m=\u001b[39m \u001b[38;5;28mself\u001b[39m\u001b[38;5;241m.\u001b[39m_get_db()\n\u001b[0;32m    321\u001b[0m \u001b[38;5;28mself\u001b[39m\u001b[38;5;241m.\u001b[39m_clear_result()\n\u001b[1;32m--> 322\u001b[0m conn\u001b[38;5;241m.\u001b[39mquery(q)\n\u001b[0;32m    323\u001b[0m \u001b[38;5;28mself\u001b[39m\u001b[38;5;241m.\u001b[39m_do_get_result()\n\u001b[0;32m    324\u001b[0m \u001b[38;5;28;01mreturn\u001b[39;00m \u001b[38;5;28mself\u001b[39m\u001b[38;5;241m.\u001b[39mrowcount\n",
      "File \u001b[1;32m~\\anaconda3\\Lib\\site-packages\\pymysql\\connections.py:563\u001b[0m, in \u001b[0;36mConnection.query\u001b[1;34m(self, sql, unbuffered)\u001b[0m\n\u001b[0;32m    561\u001b[0m     sql \u001b[38;5;241m=\u001b[39m sql\u001b[38;5;241m.\u001b[39mencode(\u001b[38;5;28mself\u001b[39m\u001b[38;5;241m.\u001b[39mencoding, \u001b[38;5;124m\"\u001b[39m\u001b[38;5;124msurrogateescape\u001b[39m\u001b[38;5;124m\"\u001b[39m)\n\u001b[0;32m    562\u001b[0m \u001b[38;5;28mself\u001b[39m\u001b[38;5;241m.\u001b[39m_execute_command(COMMAND\u001b[38;5;241m.\u001b[39mCOM_QUERY, sql)\n\u001b[1;32m--> 563\u001b[0m \u001b[38;5;28mself\u001b[39m\u001b[38;5;241m.\u001b[39m_affected_rows \u001b[38;5;241m=\u001b[39m \u001b[38;5;28mself\u001b[39m\u001b[38;5;241m.\u001b[39m_read_query_result(unbuffered\u001b[38;5;241m=\u001b[39munbuffered)\n\u001b[0;32m    564\u001b[0m \u001b[38;5;28;01mreturn\u001b[39;00m \u001b[38;5;28mself\u001b[39m\u001b[38;5;241m.\u001b[39m_affected_rows\n",
      "File \u001b[1;32m~\\anaconda3\\Lib\\site-packages\\pymysql\\connections.py:825\u001b[0m, in \u001b[0;36mConnection._read_query_result\u001b[1;34m(self, unbuffered)\u001b[0m\n\u001b[0;32m    823\u001b[0m \u001b[38;5;28;01melse\u001b[39;00m:\n\u001b[0;32m    824\u001b[0m     result \u001b[38;5;241m=\u001b[39m MySQLResult(\u001b[38;5;28mself\u001b[39m)\n\u001b[1;32m--> 825\u001b[0m     result\u001b[38;5;241m.\u001b[39mread()\n\u001b[0;32m    826\u001b[0m \u001b[38;5;28mself\u001b[39m\u001b[38;5;241m.\u001b[39m_result \u001b[38;5;241m=\u001b[39m result\n\u001b[0;32m    827\u001b[0m \u001b[38;5;28;01mif\u001b[39;00m result\u001b[38;5;241m.\u001b[39mserver_status \u001b[38;5;129;01mis\u001b[39;00m \u001b[38;5;129;01mnot\u001b[39;00m \u001b[38;5;28;01mNone\u001b[39;00m:\n",
      "File \u001b[1;32m~\\anaconda3\\Lib\\site-packages\\pymysql\\connections.py:1199\u001b[0m, in \u001b[0;36mMySQLResult.read\u001b[1;34m(self)\u001b[0m\n\u001b[0;32m   1197\u001b[0m \u001b[38;5;28;01mdef\u001b[39;00m \u001b[38;5;21mread\u001b[39m(\u001b[38;5;28mself\u001b[39m):\n\u001b[0;32m   1198\u001b[0m     \u001b[38;5;28;01mtry\u001b[39;00m:\n\u001b[1;32m-> 1199\u001b[0m         first_packet \u001b[38;5;241m=\u001b[39m \u001b[38;5;28mself\u001b[39m\u001b[38;5;241m.\u001b[39mconnection\u001b[38;5;241m.\u001b[39m_read_packet()\n\u001b[0;32m   1201\u001b[0m         \u001b[38;5;28;01mif\u001b[39;00m first_packet\u001b[38;5;241m.\u001b[39mis_ok_packet():\n\u001b[0;32m   1202\u001b[0m             \u001b[38;5;28mself\u001b[39m\u001b[38;5;241m.\u001b[39m_read_ok_packet(first_packet)\n",
      "File \u001b[1;32m~\\anaconda3\\Lib\\site-packages\\pymysql\\connections.py:775\u001b[0m, in \u001b[0;36mConnection._read_packet\u001b[1;34m(self, packet_type)\u001b[0m\n\u001b[0;32m    773\u001b[0m     \u001b[38;5;28;01mif\u001b[39;00m \u001b[38;5;28mself\u001b[39m\u001b[38;5;241m.\u001b[39m_result \u001b[38;5;129;01mis\u001b[39;00m \u001b[38;5;129;01mnot\u001b[39;00m \u001b[38;5;28;01mNone\u001b[39;00m \u001b[38;5;129;01mand\u001b[39;00m \u001b[38;5;28mself\u001b[39m\u001b[38;5;241m.\u001b[39m_result\u001b[38;5;241m.\u001b[39munbuffered_active \u001b[38;5;129;01mis\u001b[39;00m \u001b[38;5;28;01mTrue\u001b[39;00m:\n\u001b[0;32m    774\u001b[0m         \u001b[38;5;28mself\u001b[39m\u001b[38;5;241m.\u001b[39m_result\u001b[38;5;241m.\u001b[39munbuffered_active \u001b[38;5;241m=\u001b[39m \u001b[38;5;28;01mFalse\u001b[39;00m\n\u001b[1;32m--> 775\u001b[0m     packet\u001b[38;5;241m.\u001b[39mraise_for_error()\n\u001b[0;32m    776\u001b[0m \u001b[38;5;28;01mreturn\u001b[39;00m packet\n",
      "File \u001b[1;32m~\\anaconda3\\Lib\\site-packages\\pymysql\\protocol.py:219\u001b[0m, in \u001b[0;36mMysqlPacket.raise_for_error\u001b[1;34m(self)\u001b[0m\n\u001b[0;32m    217\u001b[0m \u001b[38;5;28;01mif\u001b[39;00m DEBUG:\n\u001b[0;32m    218\u001b[0m     \u001b[38;5;28mprint\u001b[39m(\u001b[38;5;124m\"\u001b[39m\u001b[38;5;124merrno =\u001b[39m\u001b[38;5;124m\"\u001b[39m, errno)\n\u001b[1;32m--> 219\u001b[0m err\u001b[38;5;241m.\u001b[39mraise_mysql_exception(\u001b[38;5;28mself\u001b[39m\u001b[38;5;241m.\u001b[39m_data)\n",
      "File \u001b[1;32m~\\anaconda3\\Lib\\site-packages\\pymysql\\err.py:150\u001b[0m, in \u001b[0;36mraise_mysql_exception\u001b[1;34m(data)\u001b[0m\n\u001b[0;32m    148\u001b[0m \u001b[38;5;28;01mif\u001b[39;00m errorclass \u001b[38;5;129;01mis\u001b[39;00m \u001b[38;5;28;01mNone\u001b[39;00m:\n\u001b[0;32m    149\u001b[0m     errorclass \u001b[38;5;241m=\u001b[39m InternalError \u001b[38;5;28;01mif\u001b[39;00m errno \u001b[38;5;241m<\u001b[39m \u001b[38;5;241m1000\u001b[39m \u001b[38;5;28;01melse\u001b[39;00m OperationalError\n\u001b[1;32m--> 150\u001b[0m \u001b[38;5;28;01mraise\u001b[39;00m errorclass(errno, errval)\n",
      "\u001b[1;31mIntegrityError\u001b[0m: (pymysql.err.IntegrityError) (1062, \"Duplicate entry '2' for key 'category_table.PRIMARY'\")\n[SQL: INSERT INTO category_table (category_id, category) VALUES (2, 'Entretenimiento y Cultura')]\n(Background on this error at: https://sqlalche.me/e/20/gkpj)"
     ]
    }
   ],
   "source": [
    "# Ejecutar la función para procesar los nuevos valores y asegurarse de que los datos están actualizados\n",
    "handle_new_data(df_diff)"
   ]
  },
  {
   "cell_type": "code",
   "execution_count": null,
   "id": "5bedd609-dfa1-4dcd-bc6b-eb04a2b99c6f",
   "metadata": {},
   "outputs": [],
   "source": []
  },
  {
   "cell_type": "code",
   "execution_count": null,
   "id": "141bd668-0a58-44d8-8b76-1ec73590423c",
   "metadata": {},
   "outputs": [],
   "source": []
  },
  {
   "cell_type": "code",
   "execution_count": null,
   "id": "ea284d46-2bf9-48b6-9b1e-4ca7e11ccfc9",
   "metadata": {},
   "outputs": [],
   "source": [
    "###############"
   ]
  },
  {
   "cell_type": "markdown",
   "id": "51683efd-de47-4d0a-b30d-097a4bb630d9",
   "metadata": {},
   "source": [
    "### código para crear nueva tabla cluster e insertar la info de cluster en la tabla principal "
   ]
  },
  {
   "cell_type": "code",
   "execution_count": null,
   "id": "b67b9300-0f2d-4d84-a34e-330b26a4436b",
   "metadata": {},
   "outputs": [],
   "source": [
    "# Crear la tabla 'cluster_table' si no existe\n",
    "create_table_sql = \"\"\"\n",
    "CREATE TABLE IF NOT EXISTS cluster_table (\n",
    "    cluster_id INT PRIMARY KEY,\n",
    "    cluster_name VARCHAR(255)\n",
    ");\n",
    "\"\"\"\n",
    "\n",
    "# Insertar los nombres de los clusters en la tabla 'cluster_table'\n",
    "cluster_names = {\n",
    "    0: \"Noticias polémicas\",\n",
    "    1: \"Noticias estándar\",\n",
    "    2: \"Noticias populares\"\n",
    "}\n",
    "\n",
    "# Ejecutar la creación de la tabla\n",
    "with engine.connect() as connection:\n",
    "    connection.execute(text(create_table_sql))  # Crear la tabla si no existe\n",
    "    for cluster_id, cluster_name in cluster_names.items():\n",
    "        # Insertar los datos en la tabla\n",
    "        insert_sql = text(f\"\"\"\n",
    "        INSERT INTO cluster_table (cluster_id, cluster_name)\n",
    "        VALUES (:cluster_id, :cluster_name)\n",
    "        ON DUPLICATE KEY UPDATE cluster_name = :cluster_name\n",
    "        \"\"\")\n",
    "        connection.execute(insert_sql, {\"cluster_id\": cluster_id, \"cluster_name\": cluster_name})"
   ]
  },
  {
   "cell_type": "code",
   "execution_count": 18,
   "id": "279d22ed-21b2-4e2d-a195-ba549270ad05",
   "metadata": {},
   "outputs": [
    {
     "ename": "ObjectNotExecutableError",
     "evalue": "Not an executable object: '\\n    UPDATE news_info_table\\n    SET cluster_id = Noticias estándar\\n    WHERE news_id = 4032594;\\n    '",
     "output_type": "error",
     "traceback": [
      "\u001b[1;31m---------------------------------------------------------------------------\u001b[0m",
      "\u001b[1;31mAttributeError\u001b[0m                            Traceback (most recent call last)",
      "File \u001b[1;32m~\\anaconda3\\Lib\\site-packages\\sqlalchemy\\engine\\base.py:1414\u001b[0m, in \u001b[0;36mConnection.execute\u001b[1;34m(self, statement, parameters, execution_options)\u001b[0m\n\u001b[0;32m   1413\u001b[0m \u001b[38;5;28;01mtry\u001b[39;00m:\n\u001b[1;32m-> 1414\u001b[0m     meth \u001b[38;5;241m=\u001b[39m statement\u001b[38;5;241m.\u001b[39m_execute_on_connection\n\u001b[0;32m   1415\u001b[0m \u001b[38;5;28;01mexcept\u001b[39;00m \u001b[38;5;167;01mAttributeError\u001b[39;00m \u001b[38;5;28;01mas\u001b[39;00m err:\n",
      "\u001b[1;31mAttributeError\u001b[0m: 'str' object has no attribute '_execute_on_connection'",
      "\nThe above exception was the direct cause of the following exception:\n",
      "\u001b[1;31mObjectNotExecutableError\u001b[0m                  Traceback (most recent call last)",
      "Cell \u001b[1;32mIn[18], line 12\u001b[0m\n\u001b[0;32m      6\u001b[0m     update_query \u001b[38;5;241m=\u001b[39m \u001b[38;5;124mf\u001b[39m\u001b[38;5;124m\"\"\"\u001b[39m\n\u001b[0;32m      7\u001b[0m \u001b[38;5;124m    UPDATE news_info_table\u001b[39m\n\u001b[0;32m      8\u001b[0m \u001b[38;5;124m    SET cluster_id = \u001b[39m\u001b[38;5;132;01m{\u001b[39;00mrow[\u001b[38;5;124m'\u001b[39m\u001b[38;5;124mcluster_id\u001b[39m\u001b[38;5;124m'\u001b[39m]\u001b[38;5;132;01m}\u001b[39;00m\n\u001b[0;32m      9\u001b[0m \u001b[38;5;124m    WHERE news_id = \u001b[39m\u001b[38;5;132;01m{\u001b[39;00mrow[\u001b[38;5;124m'\u001b[39m\u001b[38;5;124mnews_id\u001b[39m\u001b[38;5;124m'\u001b[39m]\u001b[38;5;132;01m}\u001b[39;00m\u001b[38;5;124m;\u001b[39m\n\u001b[0;32m     10\u001b[0m \u001b[38;5;124m    \u001b[39m\u001b[38;5;124m\"\"\"\u001b[39m\n\u001b[0;32m     11\u001b[0m     \u001b[38;5;28;01mwith\u001b[39;00m engine\u001b[38;5;241m.\u001b[39mconnect() \u001b[38;5;28;01mas\u001b[39;00m connection:\n\u001b[1;32m---> 12\u001b[0m         connection\u001b[38;5;241m.\u001b[39mexecute(update_query)\n\u001b[0;32m     14\u001b[0m \u001b[38;5;28mprint\u001b[39m(\u001b[38;5;124m\"\u001b[39m\u001b[38;5;124mProceso completado con éxito.\u001b[39m\u001b[38;5;124m\"\u001b[39m)\n",
      "File \u001b[1;32m~\\anaconda3\\Lib\\site-packages\\sqlalchemy\\engine\\base.py:1416\u001b[0m, in \u001b[0;36mConnection.execute\u001b[1;34m(self, statement, parameters, execution_options)\u001b[0m\n\u001b[0;32m   1414\u001b[0m     meth \u001b[38;5;241m=\u001b[39m statement\u001b[38;5;241m.\u001b[39m_execute_on_connection\n\u001b[0;32m   1415\u001b[0m \u001b[38;5;28;01mexcept\u001b[39;00m \u001b[38;5;167;01mAttributeError\u001b[39;00m \u001b[38;5;28;01mas\u001b[39;00m err:\n\u001b[1;32m-> 1416\u001b[0m     \u001b[38;5;28;01mraise\u001b[39;00m exc\u001b[38;5;241m.\u001b[39mObjectNotExecutableError(statement) \u001b[38;5;28;01mfrom\u001b[39;00m \u001b[38;5;21;01merr\u001b[39;00m\n\u001b[0;32m   1417\u001b[0m \u001b[38;5;28;01melse\u001b[39;00m:\n\u001b[0;32m   1418\u001b[0m     \u001b[38;5;28;01mreturn\u001b[39;00m meth(\n\u001b[0;32m   1419\u001b[0m         \u001b[38;5;28mself\u001b[39m,\n\u001b[0;32m   1420\u001b[0m         distilled_parameters,\n\u001b[0;32m   1421\u001b[0m         execution_options \u001b[38;5;129;01mor\u001b[39;00m NO_OPTIONS,\n\u001b[0;32m   1422\u001b[0m     )\n",
      "\u001b[1;31mObjectNotExecutableError\u001b[0m: Not an executable object: '\\n    UPDATE news_info_table\\n    SET cluster_id = Noticias estándar\\n    WHERE news_id = 4032594;\\n    '"
     ]
    }
   ],
   "source": [
    "# Insertar la columna 'cluster_id' de df_clustering en 'news_info_table'\n",
    "df_clustering['cluster_id'] = df_clustering['cluster_3'].map(cluster_names)\n",
    "\n",
    "# Actualizar la tabla 'news_info_table' con el 'cluster_id' de df_clustering\n",
    "for _, row in df_clustering.iterrows():\n",
    "    update_query = f\"\"\"\n",
    "    UPDATE news_info_table\n",
    "    SET cluster_id = {row['cluster_id']}\n",
    "    WHERE news_id = {row['news_id']};\n",
    "    \"\"\"\n",
    "    with engine.connect() as connection:\n",
    "        connection.execute(update_query)\n",
    "\n",
    "print(\"Proceso completado con éxito.\")"
   ]
  },
  {
   "cell_type": "code",
   "execution_count": null,
   "id": "6a868a96-7ac8-4f48-a1ec-b5c8d2e016c3",
   "metadata": {},
   "outputs": [],
   "source": []
  },
  {
   "cell_type": "code",
   "execution_count": null,
   "id": "35390940-fef7-4057-a85a-6d274537ccf1",
   "metadata": {},
   "outputs": [],
   "source": []
  },
  {
   "cell_type": "code",
   "execution_count": null,
   "id": "5fbd4823-3d4f-4787-9647-e6ad75774048",
   "metadata": {},
   "outputs": [],
   "source": [
    "######################"
   ]
  },
  {
   "cell_type": "code",
   "execution_count": null,
   "id": "98c489cb-756a-4250-8501-2b3e1496b877",
   "metadata": {},
   "outputs": [],
   "source": [
    "# Cargar variables de entorno\n",
    "load_dotenv()\n",
    "\n",
    "# Obtener credenciales de la base de datos\n",
    "user = os.getenv(\"DB_USER\")\n",
    "password = os.getenv(\"DB_PASSWORD\")\n",
    "host = os.getenv(\"HOST\", \"localhost\")\n",
    "database = \"meneame\"\n",
    "\n",
    "# Conectar con SQLAlchemy para insertar DataFrames\n",
    "engine = create_engine(f\"mysql+pymysql://{user}:{password}@{host}/{database}\")\n",
    "\n",
    "# Conectar con pymysql para ejecutar sentencias SQL\n",
    "try:\n",
    "    connection = pymysql.connect(host=host, user=user, password=password, database=database)\n",
    "    cursor = connection.cursor()\n",
    "\n",
    "    # 1️⃣ Crear tabla `cluster_table` si no existe\n",
    "    sql_create_cluster_table = \"\"\"\n",
    "    CREATE TABLE IF NOT EXISTS cluster_table (\n",
    "        cluster_id INT PRIMARY KEY,\n",
    "        cluster_name VARCHAR(50) NOT NULL\n",
    "    );\n",
    "    \"\"\"\n",
    "    cursor.execute(sql_create_cluster_table)\n",
    "\n",
    "    # 2️⃣ Insertar los nombres de los clusters si no existen\n",
    "    cluster_names = {\n",
    "        0: \"Noticias polémicas\",\n",
    "        1: \"Noticias estándar\",\n",
    "        2: \"Noticias populares\"\n",
    "    }\n",
    "    \n",
    "    for cluster_id, cluster_name in cluster_names.items():\n",
    "        cursor.execute(\"\"\"\n",
    "            INSERT INTO cluster_table (cluster_id, cluster_name)\n",
    "            VALUES (%s, %s) \n",
    "            ON DUPLICATE KEY UPDATE cluster_name = VALUES(cluster_name);\n",
    "        \"\"\", (cluster_id, cluster_name))\n",
    "    connection.commit()\n",
    "\n",
    "    # 3️⃣ Extraer datos actuales de news_info_table\n",
    "    sql_select_news = \"SELECT * FROM news_info_table;\"\n",
    "    df_sql = pd.read_sql(sql_select_news, engine)\n",
    "    \n",
    "    # 4️⃣ Filtrar datos nuevos\n",
    "    df_new = df[~df['news_id'].isin(df_sql['news_id'])]\n",
    "    \n",
    "    if not df_new.empty:\n",
    "        df_new.to_sql(\"news_info_table\", engine, if_exists=\"append\", index=False)\n",
    "        print(\"Nuevas noticias insertadas correctamente.\")\n",
    "    else:\n",
    "        print(\"No hay nuevas noticias para insertar.\")\n",
    "    \n",
    "    # 5️⃣ Asignar clusters a news_id\n",
    "    df_clusters = df_clustering[['news_id', 'cluster_3']]\n",
    "    \n",
    "    for _, row in df_clusters.iterrows():\n",
    "        cursor.execute(\"\"\"\n",
    "            UPDATE news_info_table \n",
    "            SET cluster_id = %s \n",
    "            WHERE news_id = %s;\n",
    "        \"\"\", (row['cluster_3'], row['news_id']))\n",
    "    \n",
    "    connection.commit()\n",
    "    print(\"Clusters asignados correctamente.\")\n",
    "\n",
    "except pymysql.MySQLError as e:\n",
    "    print(\"Error en la conexión a MySQL:\", e)\n",
    "\n",
    "finally:\n",
    "    cursor.close()\n",
    "    connection.close()\n"
   ]
  },
  {
   "cell_type": "code",
   "execution_count": null,
   "id": "1bb42532-cafa-4f02-8469-c79b1fbfe287",
   "metadata": {},
   "outputs": [],
   "source": []
  }
 ],
 "metadata": {
  "kernelspec": {
   "display_name": "Python 3 (ipykernel)",
   "language": "python",
   "name": "python3"
  },
  "language_info": {
   "codemirror_mode": {
    "name": "ipython",
    "version": 3
   },
   "file_extension": ".py",
   "mimetype": "text/x-python",
   "name": "python",
   "nbconvert_exporter": "python",
   "pygments_lexer": "ipython3",
   "version": "3.12.7"
  }
 },
 "nbformat": 4,
 "nbformat_minor": 5
}
