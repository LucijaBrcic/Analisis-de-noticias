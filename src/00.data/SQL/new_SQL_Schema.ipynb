{
 "cells": [
  {
   "cell_type": "markdown",
   "id": "9480a0f1-ac0c-406d-ae0b-6ff1ebab4871",
   "metadata": {},
   "source": [
    "### WIP"
   ]
  },
  {
   "cell_type": "code",
   "execution_count": 2,
   "id": "0efaddd0-a9bf-459e-bf75-32e925490f6a",
   "metadata": {},
   "outputs": [],
   "source": [
    "import os\n",
    "import numpy as np\n",
    "import pandas as pd \n",
    "import pickle\n",
    "import pymysql\n",
    "from sqlalchemy import create_engine, text\n",
    "from dotenv import load_dotenv"
   ]
  },
  {
   "cell_type": "markdown",
   "id": "869d57c0-6787-432d-97d6-6c06383fd9a8",
   "metadata": {},
   "source": [
    "### Conectamos con SQL"
   ]
  },
  {
   "cell_type": "code",
   "execution_count": 3,
   "id": "1fab9634-1f49-427c-84f1-f90d7f120492",
   "metadata": {},
   "outputs": [],
   "source": [
    "# Cargar variables de entorno\n",
    "load_dotenv()\n",
    "\n",
    "user = os.getenv(\"DB_USER\")\n",
    "password = os.getenv(\"DB_PASSWORD\")\n",
    "host = os.getenv(\"HOST\", \"localhost\")\n",
    "database = \"meneame\"\n",
    "\n",
    "# Crear conexión con SQL\n",
    "engine = create_engine(f\"mysql+pymysql://{user}:{password}@{host}/{database}\")"
   ]
  },
  {
   "cell_type": "markdown",
   "id": "310262a2-f8ed-40df-abb2-03d93976c5d7",
   "metadata": {},
   "source": [
    "### Cargamos df de Clustering para añadir info de Cluster"
   ]
  },
  {
   "cell_type": "code",
   "execution_count": 4,
   "id": "f19795b5-16ee-4f8a-b270-dfdd2817e6b7",
   "metadata": {},
   "outputs": [
    {
     "name": "stdout",
     "output_type": "stream",
     "text": [
      "✅ Archivo cargado correctamente: df_clustering_1.pkl\n",
      "✅ Archivo cargado correctamente: df_clustering_2.pkl\n",
      "✅ Archivo cargado correctamente: df_clustering_3.pkl\n",
      "✅ DataFrame final con 287563 filas y 10 columnas\n"
     ]
    }
   ],
   "source": [
    "directorio_base = os.path.abspath(os.path.join(os.getcwd(), \"../../..\"))  # Subir dos directorios\n",
    "directorio_pkl = os.path.join(directorio_base, \"src\", \"00.data\", \"clustering\")\n",
    "\n",
    "# Obtener todos los archivos .pkl en el directorio de preprocesado\n",
    "archivos_pkl = [f for f in os.listdir(directorio_pkl) if f.startswith(\"df_clustering_\") and f.endswith(\".pkl\")]\n",
    "\n",
    "# Si no se encuentran archivos .pkl, mostramos un mensaje\n",
    "if not archivos_pkl:\n",
    "    print(\"❌ No se encontraron archivos .pkl en el directorio.\")\n",
    "else:\n",
    "    df_lista = []\n",
    "\n",
    "    # Cargar todos los archivos .pkl\n",
    "    for archivo in archivos_pkl:\n",
    "        ruta_archivo = os.path.join(directorio_pkl, archivo)\n",
    "        try:\n",
    "            with open(ruta_archivo, \"rb\") as f:\n",
    "                df_lista.append(pickle.load(f))\n",
    "                print(f\"✅ Archivo cargado correctamente: {archivo}\")\n",
    "        except FileNotFoundError:\n",
    "            print(f\"❌ No se encontró el archivo: {archivo}\")\n",
    "        except Exception as e:\n",
    "            print(f\"❌ Error al cargar {archivo}: {e}\")\n",
    "\n",
    "    # Concatenar todos los DataFrames en uno solo\n",
    "    if df_lista:\n",
    "        df_clustering = pd.concat(df_lista, ignore_index=True)\n",
    "        print(f\"✅ DataFrame final con {df_clustering.shape[0]} filas y {df_clustering.shape[1]} columnas\")\n",
    "    else:\n",
    "        print(\"❌ No se cargaron DataFrames.\")"
   ]
  },
  {
   "cell_type": "code",
   "execution_count": 5,
   "id": "a63b1690-1345-4d78-83a8-df24739f3d39",
   "metadata": {},
   "outputs": [
    {
     "data": {
      "text/html": [
       "<div>\n",
       "<style scoped>\n",
       "    .dataframe tbody tr th:only-of-type {\n",
       "        vertical-align: middle;\n",
       "    }\n",
       "\n",
       "    .dataframe tbody tr th {\n",
       "        vertical-align: top;\n",
       "    }\n",
       "\n",
       "    .dataframe thead th {\n",
       "        text-align: right;\n",
       "    }\n",
       "</style>\n",
       "<table border=\"1\" class=\"dataframe\">\n",
       "  <thead>\n",
       "    <tr style=\"text-align: right;\">\n",
       "      <th></th>\n",
       "      <th>news_id</th>\n",
       "      <th>meneos</th>\n",
       "      <th>clicks</th>\n",
       "      <th>karma</th>\n",
       "      <th>positive_votes</th>\n",
       "      <th>negative_votes</th>\n",
       "      <th>anonymous_votes</th>\n",
       "      <th>comments</th>\n",
       "      <th>category</th>\n",
       "      <th>cluster</th>\n",
       "    </tr>\n",
       "  </thead>\n",
       "  <tbody>\n",
       "    <tr>\n",
       "      <th>0</th>\n",
       "      <td>4032594</td>\n",
       "      <td>115</td>\n",
       "      <td>651</td>\n",
       "      <td>410</td>\n",
       "      <td>57</td>\n",
       "      <td>1</td>\n",
       "      <td>58</td>\n",
       "      <td>30</td>\n",
       "      <td>Política y Sociedad</td>\n",
       "      <td>1</td>\n",
       "    </tr>\n",
       "    <tr>\n",
       "      <th>1</th>\n",
       "      <td>4032568</td>\n",
       "      <td>77</td>\n",
       "      <td>982</td>\n",
       "      <td>362</td>\n",
       "      <td>50</td>\n",
       "      <td>2</td>\n",
       "      <td>27</td>\n",
       "      <td>24</td>\n",
       "      <td>Entretenimiento y Cultura</td>\n",
       "      <td>1</td>\n",
       "    </tr>\n",
       "    <tr>\n",
       "      <th>2</th>\n",
       "      <td>4032569</td>\n",
       "      <td>97</td>\n",
       "      <td>761</td>\n",
       "      <td>369</td>\n",
       "      <td>50</td>\n",
       "      <td>0</td>\n",
       "      <td>47</td>\n",
       "      <td>70</td>\n",
       "      <td>Política y Sociedad</td>\n",
       "      <td>1</td>\n",
       "    </tr>\n",
       "  </tbody>\n",
       "</table>\n",
       "</div>"
      ],
      "text/plain": [
       "   news_id  meneos  clicks  karma  positive_votes  negative_votes  \\\n",
       "0  4032594     115     651    410              57               1   \n",
       "1  4032568      77     982    362              50               2   \n",
       "2  4032569      97     761    369              50               0   \n",
       "\n",
       "   anonymous_votes  comments                   category  cluster  \n",
       "0               58        30        Política y Sociedad        1  \n",
       "1               27        24  Entretenimiento y Cultura        1  \n",
       "2               47        70        Política y Sociedad        1  "
      ]
     },
     "execution_count": 5,
     "metadata": {},
     "output_type": "execute_result"
    }
   ],
   "source": [
    "df_clustering.head(3)"
   ]
  },
  {
   "cell_type": "code",
   "execution_count": 6,
   "id": "afdf6c98-e342-427c-848f-67618119c852",
   "metadata": {},
   "outputs": [
    {
     "data": {
      "text/plain": [
       "cluster\n",
       "1    234278\n",
       "0     44330\n",
       "2      8955\n",
       "Name: count, dtype: int64"
      ]
     },
     "execution_count": 6,
     "metadata": {},
     "output_type": "execute_result"
    }
   ],
   "source": [
    "df_clustering['cluster'].value_counts()"
   ]
  },
  {
   "cell_type": "code",
   "execution_count": 7,
   "id": "89a6e6b5-d258-4325-a2b5-5b1398c6ccc0",
   "metadata": {},
   "outputs": [],
   "source": [
    "# Crear la tabla de clusters si no existe\n",
    "create_table_sql = \"\"\"\n",
    "CREATE TABLE IF NOT EXISTS cluster_table (\n",
    "    cluster_id INT PRIMARY KEY,\n",
    "    cluster_name VARCHAR(50)\n",
    ");\n",
    "\"\"\"\n",
    "with engine.connect() as connection:\n",
    "    connection.execute(text(create_table_sql))"
   ]
  },
  {
   "cell_type": "code",
   "execution_count": 8,
   "id": "7267b426-9821-40cd-b688-18209caf6753",
   "metadata": {},
   "outputs": [],
   "source": [
    "# Insertar nombres de clusters en la tabla\n",
    "cluster_names = {\n",
    "    0: \"Noticias polémicas\",\n",
    "    1: \"Noticias estándar\",\n",
    "    2: \"Noticias bien recibidas\"\n",
    "}\n",
    "\n",
    "with engine.connect() as connection:\n",
    "    for cluster_id, cluster_name in cluster_names.items():\n",
    "        insert_sql = text(\"\"\"\n",
    "        INSERT INTO cluster_table (cluster_id, cluster_name)\n",
    "        VALUES (:cluster_id, :cluster_name)\n",
    "        ON DUPLICATE KEY UPDATE cluster_name = :cluster_name\n",
    "        \"\"\")\n",
    "        connection.execute(insert_sql, {\"cluster_id\": cluster_id, \"cluster_name\": cluster_name})"
   ]
  },
  {
   "cell_type": "code",
   "execution_count": 9,
   "id": "7694d29e-32f5-452c-8a22-e443bda93e29",
   "metadata": {},
   "outputs": [
    {
     "name": "stdout",
     "output_type": "stream",
     "text": [
      "Clusters actualizados en la base de datos.\n"
     ]
    }
   ],
   "source": [
    "# Verificar que 'news_id' y 'cluster' están en df_clustering\n",
    "if not {\"news_id\", \"cluster\"}.issubset(df_clustering.columns):\n",
    "    raise KeyError(\"Las columnas 'news_id' o 'cluster' no están en df_clustering.\")\n",
    "\n",
    "# Crear diccionario {news_id: cluster_id}\n",
    "news_cluster_mapping = df_clustering.set_index(\"news_id\")[\"cluster\"].to_dict()\n",
    "\n",
    "# Asegurar que la columna cluster_id existe en news_info_table\n",
    "alter_table_sql = \"\"\"\n",
    "ALTER TABLE news_info_table \n",
    "ADD COLUMN cluster_id INT DEFAULT NULL;\n",
    "\"\"\"\n",
    "with engine.connect() as connection:\n",
    "    connection.execute(text(alter_table_sql))\n",
    "\n",
    "# Actualizar los valores de cluster en la base de datos\n",
    "update_sql = text(\"\"\"\n",
    "    UPDATE news_info_table\n",
    "    SET cluster_id = :cluster_id\n",
    "    WHERE news_id = :news_id\n",
    "\"\"\")\n",
    "\n",
    "with engine.connect() as connection:\n",
    "    with connection.begin():  # Manejo seguro de la transacción\n",
    "        for news_id, cluster_id in news_cluster_mapping.items():\n",
    "            connection.execute(update_sql, {\n",
    "                \"news_id\": int(news_id),\n",
    "                \"cluster_id\": int(cluster_id)\n",
    "            })\n",
    "\n",
    "print(\"Clusters actualizados en la base de datos.\")"
   ]
  },
  {
   "cell_type": "code",
   "execution_count": 10,
   "id": "4dc6605f-5df9-4abb-88b9-435996d61096",
   "metadata": {},
   "outputs": [
    {
     "name": "stdout",
     "output_type": "stream",
     "text": [
      "{1: 234278, 2: 8955, 0: 44330}\n"
     ]
    }
   ],
   "source": [
    "query = text(\"\"\"\n",
    "    SELECT cluster_id, COUNT(*) as count \n",
    "    FROM news_info_table \n",
    "    GROUP BY cluster_id\n",
    "\"\"\")\n",
    "\n",
    "with engine.connect() as connection:\n",
    "    result = connection.execute(query)\n",
    "    cluster_counts_sql = dict(result.fetchall())\n",
    "\n",
    "print(cluster_counts_sql)"
   ]
  },
  {
   "cell_type": "code",
   "execution_count": null,
   "id": "eb8f1a2b-73ed-4e12-9935-928383bef3ab",
   "metadata": {},
   "outputs": [],
   "source": []
  }
 ],
 "metadata": {
  "kernelspec": {
   "display_name": "Python 3 (ipykernel)",
   "language": "python",
   "name": "python3"
  },
  "language_info": {
   "codemirror_mode": {
    "name": "ipython",
    "version": 3
   },
   "file_extension": ".py",
   "mimetype": "text/x-python",
   "name": "python",
   "nbconvert_exporter": "python",
   "pygments_lexer": "ipython3",
   "version": "3.12.7"
  }
 },
 "nbformat": 4,
 "nbformat_minor": 5
}
