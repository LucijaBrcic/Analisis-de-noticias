{
 "cells": [
  {
   "cell_type": "code",
   "execution_count": 1,
   "metadata": {},
   "outputs": [],
   "source": [
    "import pandas as pd\n",
    "import matplotlib.pyplot as plt\n",
    "import numpy as np\n",
    "import pickle\n",
    "import glob\n",
    "import os\n",
    "import joblib\n",
    "\n",
    "\n",
    "import sys\n",
    "sys.path.append(\"/Users/lucija/Projects/Analisis-de-noticias/src\")  # Ensure Python finds \"utils\"\n",
    "\n",
    "# Import the class from text_processing.py\n",
    "from utils.text_processing import NewsProcessor\n",
    "\n",
    "from sklearn.model_selection import GridSearchCV\n",
    "from sklearn.ensemble import RandomForestClassifier\n",
    "from collections import Counter\n",
    "from sklearn.model_selection import train_test_split\n",
    "from sklearn.feature_extraction.text import TfidfVectorizer\n",
    "from sklearn.preprocessing import LabelEncoder\n",
    "from sklearn.metrics import classification_report, accuracy_score\n",
    "from imblearn.under_sampling import RandomUnderSampler\n",
    "from imblearn.over_sampling import SMOTE\n",
    "import nltk\n",
    "from nltk.corpus import stopwords\n",
    "from sklearn.ensemble import RandomForestClassifier\n",
    "\n",
    "pd.set_option(\"display.max_colwidth\", None)\n"
   ]
  },
  {
   "cell_type": "code",
   "execution_count": 2,
   "metadata": {},
   "outputs": [],
   "source": [
    "folder_path = \"../00.data/scraped\"\n",
    "\n",
    "csv_files = sorted(glob.glob(os.path.join(folder_path, \"*.csv\")), key=os.path.getmtime)\n",
    "\n",
    "df_list = [pd.read_csv(file) for file in csv_files]\n",
    "meneame = pd.concat(df_list, ignore_index=True)"
   ]
  },
  {
   "cell_type": "code",
   "execution_count": 3,
   "metadata": {},
   "outputs": [],
   "source": [
    "processor = NewsProcessor()"
   ]
  },
  {
   "cell_type": "code",
   "execution_count": 4,
   "metadata": {},
   "outputs": [],
   "source": [
    "meneame = processor.categorize_news(meneame)"
   ]
  },
  {
   "cell_type": "code",
   "execution_count": 5,
   "metadata": {},
   "outputs": [],
   "source": [
    "# buscando mas instancias de noticias de las categorias subrepresentadas\n",
    "\n",
    "meneame.loc[(meneame['category']=='Otros') & (meneame['content'].str.contains('fútbol', case=False, na=False)), 'category'] = 'Deportes'\n",
    "meneame.loc[(meneame['category']=='Otros') & (meneame['content'].str.contains('crim', case=False, na=False)) & (meneame['content'].str.contains('polic', case=False, na=False)), 'category'] = 'Crimen'\n",
    "meneame.loc[(meneame['category']=='Otros') & (meneame['content'].str.contains('econom', case=False, na=False)) & (meneame['content'].str.contains('financ', case=False, na=False)), 'category'] = 'Negocios y Economía'\n",
    "meneame.loc[(meneame['category']=='Otros') & (meneame['content'].str.contains('escuela', case=False, na=False)) & (meneame['content'].str.contains('currícu', case=False, na=False)), 'category'] = 'Educación'"
   ]
  },
  {
   "cell_type": "code",
   "execution_count": 6,
   "metadata": {},
   "outputs": [
    {
     "data": {
      "text/plain": [
       "category\n",
       "Otros                        135113\n",
       "Política y Sociedad           95499\n",
       "Entretenimiento y Cultura     40280\n",
       "Tecnología y Ciencia          14537\n",
       "Deportes                        632\n",
       "Historia y Humanidades          294\n",
       "Crimen                          254\n",
       "Negocios y Economía             246\n",
       "Humor y Memes                   246\n",
       "Transporte                      221\n",
       "Medioambiente y Energía         200\n",
       "Salud y Medicina                137\n",
       "Cuestiones Sociales              69\n",
       "Educación                        27\n",
       "Name: count, dtype: int64"
      ]
     },
     "execution_count": 6,
     "metadata": {},
     "output_type": "execute_result"
    }
   ],
   "source": [
    "meneame['category'].value_counts()"
   ]
  },
  {
   "cell_type": "code",
   "execution_count": 7,
   "metadata": {},
   "outputs": [
    {
     "name": "stderr",
     "output_type": "stream",
     "text": [
      "[nltk_data] Downloading package stopwords to\n",
      "[nltk_data]     /Users/lucija/nltk_data...\n",
      "[nltk_data]   Package stopwords is already up-to-date!\n",
      "/var/folders/x1/dfk_lr0j0pg5th31583lwbxc0000gn/T/ipykernel_23246/1526534340.py:9: SettingWithCopyWarning: \n",
      "A value is trying to be set on a copy of a slice from a DataFrame.\n",
      "Try using .loc[row_indexer,col_indexer] = value instead\n",
      "\n",
      "See the caveats in the documentation: https://pandas.pydata.org/pandas-docs/stable/user_guide/indexing.html#returning-a-view-versus-a-copy\n",
      "  meneame_labeled[\"category_encoded\"] = label_encoder.fit_transform(meneame_labeled[\"category\"])\n"
     ]
    },
    {
     "name": "stdout",
     "output_type": "stream",
     "text": [
      "Before Sampling: Counter({9: 95499, 4: 40273, 11: 14536, 2: 632, 5: 294, 0: 254, 8: 246, 6: 240, 12: 221, 7: 200, 10: 137, 1: 69, 3: 27})\n",
      "After Sampling: Counter({4: 3000, 9: 3000, 11: 3000, 0: 1000, 2: 1000, 5: 1000, 6: 1000, 7: 1000, 8: 1000, 12: 1000, 1: 800, 3: 800, 10: 800})\n",
      "Model Accuracy: 0.8299\n",
      "              precision    recall  f1-score   support\n",
      "\n",
      "           0       1.00      0.94      0.97       200\n",
      "           1       1.00      0.98      0.99       160\n",
      "           2       0.99      0.84      0.91       200\n",
      "           3       1.00      1.00      1.00       160\n",
      "           4       0.62      0.60      0.61       600\n",
      "           5       1.00      0.91      0.95       200\n",
      "           6       0.84      0.94      0.89       200\n",
      "           7       1.00      0.98      0.99       200\n",
      "           8       1.00      0.98      0.99       200\n",
      "           9       0.70      0.75      0.72       600\n",
      "          10       0.99      0.98      0.99       160\n",
      "          11       0.72      0.76      0.74       600\n",
      "          12       1.00      0.97      0.99       200\n",
      "\n",
      "    accuracy                           0.83      3680\n",
      "   macro avg       0.91      0.90      0.90      3680\n",
      "weighted avg       0.83      0.83      0.83      3680\n",
      "\n"
     ]
    }
   ],
   "source": [
    "nltk.download(\"stopwords\")\n",
    "spanish_stopwords = stopwords.words(\"spanish\")\n",
    "\n",
    "meneame = meneame.dropna(subset=[\"content\"])\n",
    "\n",
    "meneame_labeled = meneame[meneame['category'] != \"Otros\"]\n",
    "\n",
    "label_encoder = LabelEncoder()\n",
    "meneame_labeled[\"category_encoded\"] = label_encoder.fit_transform(meneame_labeled[\"category\"])\n",
    "\n",
    "X = meneame_labeled[\"content\"] \n",
    "y = meneame_labeled[\"category_encoded\"]\n",
    "\n",
    "vectorizer = TfidfVectorizer(stop_words=spanish_stopwords, max_features=50000)\n",
    "X_tfidf = vectorizer.fit_transform(X)\n",
    "\n",
    "print(\"Before Sampling:\", Counter(y))\n",
    "\n",
    "# combinacion de under y oversampling\n",
    "undersampling_strategy = {9: 3000, 4: 3000, 11: 3000}\n",
    "oversampling_strategy = {5: 1000, 6: 1000, 12: 1000, 7: 1000, 10: 800, \n",
    "                         0: 1000, 1: 800, 8: 1000, 3: 800, 2: 1000}  \n",
    "\n",
    "undersampler = RandomUnderSampler(sampling_strategy=undersampling_strategy, random_state=42)\n",
    "X_resampled, y_resampled = undersampler.fit_resample(X_tfidf, y)\n",
    "\n",
    "oversampler = SMOTE(sampling_strategy=oversampling_strategy, random_state=42)\n",
    "X_resampled, y_resampled = oversampler.fit_resample(X_resampled, y_resampled)\n",
    "\n",
    "print(\"After Sampling:\", Counter(y_resampled))\n",
    "\n",
    "meneame_balanced = pd.DataFrame({\"category\": label_encoder.inverse_transform(y_resampled)})\n",
    "\n",
    "X_train, X_test, y_train, y_test = train_test_split(X_resampled, y_resampled, test_size=0.2, random_state=42, stratify=y_resampled)\n",
    "\n",
    "# usamos Random Forest classifier para entrenar el modelo\n",
    "model = RandomForestClassifier(\n",
    "    bootstrap=False, \n",
    "    max_depth=None, \n",
    "    max_features='log2', \n",
    "    min_samples_leaf=1, \n",
    "    min_samples_split=5, \n",
    "    n_estimators=300, \n",
    "    random_state=42  \n",
    ")\n",
    "\n",
    "model.fit(X_train, y_train)\n",
    "\n",
    "y_pred = model.predict(X_test)\n",
    "\n",
    "accuracy = accuracy_score(y_test, y_pred)\n",
    "print(f\"Model Accuracy: {accuracy:.4f}\")\n",
    "print(classification_report(y_test, y_pred))\n"
   ]
  },
  {
   "cell_type": "code",
   "execution_count": 11,
   "metadata": {},
   "outputs": [
    {
     "data": {
      "text/plain": [
       "['label_encoder.pkl']"
      ]
     },
     "execution_count": 11,
     "metadata": {},
     "output_type": "execute_result"
    }
   ],
   "source": [
    "joblib.dump(model, \"random_forest_model.pkl\", compress=4)\n",
    "\n",
    "joblib.dump(vectorizer, \"tfidf_vectorizer.pkl\")\n",
    "\n",
    "joblib.dump(label_encoder, \"label_encoder.pkl\")\n"
   ]
  },
  {
   "cell_type": "code",
   "execution_count": null,
   "metadata": {},
   "outputs": [],
   "source": [
    "import joblib\n",
    "import os\n",
    "\n",
    "def save_model_in_chunks(model, base_filename=\"random_forest_model\", folder=\"model_chunks\", chunk_size_mb=50):\n",
    "    \"\"\"\n",
    "    Saves a large model in chunks smaller than chunk_size_mb MB.\n",
    "\n",
    "    Parameters:\n",
    "    - model: The trained model object (e.g., RandomForestClassifier).\n",
    "    - base_filename: The base name for the output files.\n",
    "    - folder: The directory to save model chunks.\n",
    "    - chunk_size_mb: Maximum size (MB) per file.\n",
    "    \"\"\"\n",
    "    # Ensure folder exists\n",
    "    os.makedirs(folder, exist_ok=True)\n",
    "\n",
    "    # Serialize the model into separate numpy arrays\n",
    "    model_parts = joblib.dump(model, None, compress=4)  # Dump to memory first\n",
    "\n",
    "    # Save each part separately\n",
    "    for i, part in enumerate(model_parts):\n",
    "        file_path = os.path.join(folder, f\"{base_filename}_part{i}.pkl\")\n",
    "        joblib.dump(part, file_path)\n",
    "        print(f\"Saved: {file_path} ({os.path.getsize(file_path) / (1024 * 1024):.2f} MB)\")\n",
    "\n",
    "    print(\"\\n✅ Model saved in multiple parts!\")\n",
    "\n",
    "# Example usage:\n",
    "save_model_in_chunks(model)\n"
   ]
  }
 ],
 "metadata": {
  "kernelspec": {
   "display_name": "venv",
   "language": "python",
   "name": "python3"
  },
  "language_info": {
   "codemirror_mode": {
    "name": "ipython",
    "version": 3
   },
   "file_extension": ".py",
   "mimetype": "text/x-python",
   "name": "python",
   "nbconvert_exporter": "python",
   "pygments_lexer": "ipython3",
   "version": "3.12.2"
  }
 },
 "nbformat": 4,
 "nbformat_minor": 2
}
