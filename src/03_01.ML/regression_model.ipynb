{
 "cells": [
  {
   "cell_type": "code",
   "execution_count": 22,
   "id": "f858f2cc-ad79-427e-ae28-44e2102c9aa1",
   "metadata": {},
   "outputs": [],
   "source": [
    "import os\n",
    "import pickle\n",
    "import pandas as pd\n",
    "import numpy as np\n",
    "import seaborn as sns\n",
    "import matplotlib.pyplot as plt"
   ]
  },
  {
   "cell_type": "code",
   "execution_count": 2,
   "id": "b077b04b-fea1-4e20-8883-86e6f12a213e",
   "metadata": {},
   "outputs": [
    {
     "name": "stdout",
     "output_type": "stream",
     "text": [
      "✅ Archivo cargado correctamente: df_clustering_1.pkl\n",
      "✅ Archivo cargado correctamente: df_clustering_2.pkl\n",
      "✅ Archivo cargado correctamente: df_clustering_3.pkl\n",
      "✅ DataFrame final con 207137 filas y 10 columnas\n"
     ]
    }
   ],
   "source": [
    "directorio_base = os.path.abspath(os.path.join(os.getcwd(), \"../..\"))  # Subir dos directorios\n",
    "directorio_pkl = os.path.join(directorio_base, \"src\", \"00.data\", \"clustering\")\n",
    "\n",
    "# Obtener todos los archivos .pkl en el directorio de preprocesado\n",
    "archivos_pkl = [f for f in os.listdir(directorio_pkl) if f.startswith(\"df_clustering_\") and f.endswith(\".pkl\")]\n",
    "\n",
    "# Si no se encuentran archivos .pkl, mostramos un mensaje\n",
    "if not archivos_pkl:\n",
    "    print(\"❌ No se encontraron archivos .pkl en el directorio.\")\n",
    "else:\n",
    "    df_lista = []\n",
    "\n",
    "    # Cargar todos los archivos .pkl\n",
    "    for archivo in archivos_pkl:\n",
    "        ruta_archivo = os.path.join(directorio_pkl, archivo)\n",
    "        try:\n",
    "            with open(ruta_archivo, \"rb\") as f:\n",
    "                df_lista.append(pickle.load(f))\n",
    "                print(f\"✅ Archivo cargado correctamente: {archivo}\")\n",
    "        except FileNotFoundError:\n",
    "            print(f\"❌ No se encontró el archivo: {archivo}\")\n",
    "        except Exception as e:\n",
    "            print(f\"❌ Error al cargar {archivo}: {e}\")\n",
    "\n",
    "    # Concatenar todos los DataFrames en uno solo\n",
    "    if df_lista:\n",
    "        df = pd.concat(df_lista, ignore_index=True)\n",
    "        print(f\"✅ DataFrame final con {df.shape[0]} filas y {df.shape[1]} columnas\")\n",
    "    else:\n",
    "        print(\"❌ No se cargaron DataFrames.\")"
   ]
  },
  {
   "cell_type": "code",
   "execution_count": 3,
   "id": "f1a9b23c-f373-41b5-91a2-bcdfd3d82406",
   "metadata": {},
   "outputs": [
    {
     "data": {
      "text/html": [
       "<div>\n",
       "<style scoped>\n",
       "    .dataframe tbody tr th:only-of-type {\n",
       "        vertical-align: middle;\n",
       "    }\n",
       "\n",
       "    .dataframe tbody tr th {\n",
       "        vertical-align: top;\n",
       "    }\n",
       "\n",
       "    .dataframe thead th {\n",
       "        text-align: right;\n",
       "    }\n",
       "</style>\n",
       "<table border=\"1\" class=\"dataframe\">\n",
       "  <thead>\n",
       "    <tr style=\"text-align: right;\">\n",
       "      <th></th>\n",
       "      <th>news_id</th>\n",
       "      <th>meneos</th>\n",
       "      <th>clicks</th>\n",
       "      <th>karma</th>\n",
       "      <th>positive_votes</th>\n",
       "      <th>negative_votes</th>\n",
       "      <th>anonymous_votes</th>\n",
       "      <th>comments</th>\n",
       "      <th>category</th>\n",
       "      <th>cluster</th>\n",
       "    </tr>\n",
       "  </thead>\n",
       "  <tbody>\n",
       "    <tr>\n",
       "      <th>0</th>\n",
       "      <td>4032594</td>\n",
       "      <td>115</td>\n",
       "      <td>651.0</td>\n",
       "      <td>410</td>\n",
       "      <td>57</td>\n",
       "      <td>1</td>\n",
       "      <td>58</td>\n",
       "      <td>30</td>\n",
       "      <td>Política y Sociedad</td>\n",
       "      <td>0</td>\n",
       "    </tr>\n",
       "    <tr>\n",
       "      <th>1</th>\n",
       "      <td>4032568</td>\n",
       "      <td>77</td>\n",
       "      <td>982.0</td>\n",
       "      <td>362</td>\n",
       "      <td>50</td>\n",
       "      <td>2</td>\n",
       "      <td>27</td>\n",
       "      <td>24</td>\n",
       "      <td>Entretenimiento y Cultura</td>\n",
       "      <td>0</td>\n",
       "    </tr>\n",
       "    <tr>\n",
       "      <th>2</th>\n",
       "      <td>4032569</td>\n",
       "      <td>97</td>\n",
       "      <td>761.0</td>\n",
       "      <td>369</td>\n",
       "      <td>50</td>\n",
       "      <td>0</td>\n",
       "      <td>47</td>\n",
       "      <td>70</td>\n",
       "      <td>Política y Sociedad</td>\n",
       "      <td>0</td>\n",
       "    </tr>\n",
       "    <tr>\n",
       "      <th>3</th>\n",
       "      <td>4032482</td>\n",
       "      <td>141</td>\n",
       "      <td>505.0</td>\n",
       "      <td>352</td>\n",
       "      <td>77</td>\n",
       "      <td>1</td>\n",
       "      <td>64</td>\n",
       "      <td>53</td>\n",
       "      <td>Política y Sociedad</td>\n",
       "      <td>0</td>\n",
       "    </tr>\n",
       "    <tr>\n",
       "      <th>4</th>\n",
       "      <td>4032509</td>\n",
       "      <td>213</td>\n",
       "      <td>335.0</td>\n",
       "      <td>349</td>\n",
       "      <td>99</td>\n",
       "      <td>1</td>\n",
       "      <td>114</td>\n",
       "      <td>28</td>\n",
       "      <td>Política y Sociedad</td>\n",
       "      <td>0</td>\n",
       "    </tr>\n",
       "  </tbody>\n",
       "</table>\n",
       "</div>"
      ],
      "text/plain": [
       "   news_id  meneos  clicks  karma  positive_votes  negative_votes  \\\n",
       "0  4032594     115   651.0    410              57               1   \n",
       "1  4032568      77   982.0    362              50               2   \n",
       "2  4032569      97   761.0    369              50               0   \n",
       "3  4032482     141   505.0    352              77               1   \n",
       "4  4032509     213   335.0    349              99               1   \n",
       "\n",
       "   anonymous_votes  comments                   category  cluster  \n",
       "0               58        30        Política y Sociedad        0  \n",
       "1               27        24  Entretenimiento y Cultura        0  \n",
       "2               47        70        Política y Sociedad        0  \n",
       "3               64        53        Política y Sociedad        0  \n",
       "4              114        28        Política y Sociedad        0  "
      ]
     },
     "execution_count": 3,
     "metadata": {},
     "output_type": "execute_result"
    }
   ],
   "source": [
    "df.head()"
   ]
  },
  {
   "cell_type": "code",
   "execution_count": 4,
   "id": "b8ca571f-4dc7-4853-a4ef-1677e2093198",
   "metadata": {},
   "outputs": [
    {
     "data": {
      "text/plain": [
       "(207137, 8)"
      ]
     },
     "execution_count": 4,
     "metadata": {},
     "output_type": "execute_result"
    }
   ],
   "source": [
    "df_regression = df.drop(columns=['cluster', 'news_id'])\n",
    "df_regression.shape"
   ]
  },
  {
   "cell_type": "code",
   "execution_count": 5,
   "id": "29575f01-a58a-4b49-9f9a-d1392e07d40c",
   "metadata": {},
   "outputs": [],
   "source": [
    "# df_filtered = df_regression[df_regression['clicks'] > 0].copy()\n",
    "# df_filtered.shape"
   ]
  },
  {
   "cell_type": "code",
   "execution_count": 6,
   "id": "c9345e4c-e45c-4f7a-89ab-456f2e112733",
   "metadata": {},
   "outputs": [
    {
     "name": "stdout",
     "output_type": "stream",
     "text": [
      "Número de filas antes de eliminar outliers: 207137\n",
      "Número de filas después de eliminar outliers: 169077\n"
     ]
    }
   ],
   "source": [
    "# Filtrar outliers usando Tukey\n",
    "def remove_outliers_tukey(df, columns):\n",
    "\n",
    "    Q1 = df[columns].quantile(0.25)\n",
    "    Q3 = df[columns].quantile(0.75)\n",
    "\n",
    "    IQR = Q3 - Q1\n",
    "\n",
    "    df_no_outliers = df[~((df[columns] < (Q1 - 1.5 * IQR)) | (df[columns] > (Q3 + 1.5 * IQR))).any(axis=1)]\n",
    "    return df_no_outliers\n",
    "\n",
    "# Especificar las columnas numéricas que vamos a filtrar\n",
    "num_features = ['meneos', 'karma', 'positive_votes', 'anonymous_votes', 'negative_votes', 'comments']\n",
    "\n",
    "# Eliminar outliers en las columnas numéricas seleccionadas usando el método de Tukey\n",
    "df_filtered = remove_outliers_tukey(df_regression, num_features)\n",
    "\n",
    "# Ver cuántas filas quedaron después de eliminar outliers\n",
    "print(f'Número de filas antes de eliminar outliers: {len(df_regression)}')\n",
    "print(f'Número de filas después de eliminar outliers: {len(df_filtered)}')"
   ]
  },
  {
   "cell_type": "code",
   "execution_count": 7,
   "id": "902d383b-b7cd-4672-bc7f-068bdab50632",
   "metadata": {},
   "outputs": [
    {
     "name": "stderr",
     "output_type": "stream",
     "text": [
      "C:\\Users\\Jordi\\AppData\\Local\\Temp\\ipykernel_456\\496003369.py:1: SettingWithCopyWarning: \n",
      "A value is trying to be set on a copy of a slice from a DataFrame.\n",
      "Try using .loc[row_indexer,col_indexer] = value instead\n",
      "\n",
      "See the caveats in the documentation: https://pandas.pydata.org/pandas-docs/stable/user_guide/indexing.html#returning-a-view-versus-a-copy\n",
      "  df_filtered['clicks'] = np.log1p(df_filtered['clicks'])\n"
     ]
    }
   ],
   "source": [
    "df_filtered['clicks'] = np.log1p(df_filtered['clicks'])"
   ]
  },
  {
   "cell_type": "code",
   "execution_count": 8,
   "id": "fa5f3c96-a387-4381-865a-3cb13d41477c",
   "metadata": {},
   "outputs": [
    {
     "name": "stderr",
     "output_type": "stream",
     "text": [
      "C:\\Users\\Jordi\\AppData\\Local\\Temp\\ipykernel_456\\3181967071.py:4: SettingWithCopyWarning: \n",
      "A value is trying to be set on a copy of a slice from a DataFrame.\n",
      "Try using .loc[row_indexer,col_indexer] = value instead\n",
      "\n",
      "See the caveats in the documentation: https://pandas.pydata.org/pandas-docs/stable/user_guide/indexing.html#returning-a-view-versus-a-copy\n",
      "  df_filtered[num_features] = df_filtered[num_features].astype('float32')\n",
      "C:\\Users\\Jordi\\AppData\\Local\\Temp\\ipykernel_456\\3181967071.py:8: SettingWithCopyWarning: \n",
      "A value is trying to be set on a copy of a slice from a DataFrame.\n",
      "Try using .loc[row_indexer,col_indexer] = value instead\n",
      "\n",
      "See the caveats in the documentation: https://pandas.pydata.org/pandas-docs/stable/user_guide/indexing.html#returning-a-view-versus-a-copy\n",
      "  df_filtered[num_features] = regressor_scaler.fit_transform(df_filtered[num_features])\n"
     ]
    }
   ],
   "source": [
    "from sklearn.preprocessing import MinMaxScaler\n",
    "\n",
    "# Convertir a float32 antes de escalar\n",
    "df_filtered[num_features] = df_filtered[num_features].astype('float32')\n",
    "\n",
    "# Aplicar MinMaxScaler\n",
    "regressor_scaler = MinMaxScaler()\n",
    "df_filtered[num_features] = regressor_scaler.fit_transform(df_filtered[num_features])"
   ]
  },
  {
   "cell_type": "code",
   "execution_count": 9,
   "id": "189796a0-902b-480d-b666-266788353602",
   "metadata": {},
   "outputs": [],
   "source": [
    "# Guardar el escalador\n",
    "regressor_scaler_path = \"../00.data/clustering/regressor_scaler.pkl\"\n",
    "\n",
    "with open(regressor_scaler_path, \"wb\") as f:\n",
    "    pickle.dump(regressor_scaler, f, protocol=pickle.HIGHEST_PROTOCOL)"
   ]
  },
  {
   "cell_type": "code",
   "execution_count": 10,
   "id": "1d2a46f0-fe52-49fc-8bb4-9545336b9444",
   "metadata": {},
   "outputs": [],
   "source": [
    "from sklearn.preprocessing import OneHotEncoder\n",
    "\n",
    "# Aplicar OneHotEncoder a la categoría\n",
    "regressor_encoder = OneHotEncoder(sparse_output=False, drop='first')\n",
    "encoded_cats = regressor_encoder.fit_transform(df_filtered[['category']])"
   ]
  },
  {
   "cell_type": "code",
   "execution_count": 11,
   "id": "e8b0c0a7-2652-461c-8f7a-d6ae9eb26f87",
   "metadata": {},
   "outputs": [],
   "source": [
    "# Guardar el encoder\n",
    "regressor_encoder_path = \"../00.data/clustering/regressor_encoder.pkl\"\n",
    "\n",
    "with open(regressor_encoder_path, \"wb\") as f:\n",
    "    pickle.dump(regressor_encoder, f, protocol=pickle.HIGHEST_PROTOCOL)"
   ]
  },
  {
   "cell_type": "code",
   "execution_count": 12,
   "id": "9d3b4582-4cbb-44ae-8b35-dd35cbab4c0a",
   "metadata": {},
   "outputs": [],
   "source": [
    "# Convertir a DataFrame\n",
    "encoded_df = pd.DataFrame(encoded_cats, columns=regressor_encoder.get_feature_names_out(['category']))\n",
    "\n",
    "# Resetear índices\n",
    "df_filtered = df_filtered.reset_index(drop=True)\n",
    "encoded_df = encoded_df.reset_index(drop=True)\n",
    "\n",
    "# Unir con el dataset original\n",
    "df_final = pd.concat([df_filtered, encoded_df], axis=1)\n",
    "\n",
    "# Eliminar la columna categórica original\n",
    "df_final.drop(columns=['category'], inplace=True)"
   ]
  },
  {
   "cell_type": "code",
   "execution_count": 13,
   "id": "3520585f-6481-4234-adfa-4613aa75f4a3",
   "metadata": {},
   "outputs": [],
   "source": [
    "from sklearn.model_selection import train_test_split\n",
    "\n",
    "# Definir X (features) e y (target)\n",
    "X = df_final.drop(columns=['clicks'])\n",
    "y = df_final['clicks']\n",
    "\n",
    "X = X.astype('float32')\n",
    "\n",
    "# Dividir en entrenamiento y prueba (80% - 20%)\n",
    "X_train, X_test, y_train, y_test = train_test_split(X, y, test_size=0.2, random_state=42)"
   ]
  },
  {
   "cell_type": "code",
   "execution_count": 14,
   "id": "0fa535dc-81a8-43d5-abad-a810025a74d5",
   "metadata": {},
   "outputs": [
    {
     "name": "stdout",
     "output_type": "stream",
     "text": [
      "Median AE: 1454.97\n",
      "MAE: 2569.15\n",
      "MSLE: 0.6114\n",
      "R2: 0.15\n",
      "Explained Variance: 0.22\n"
     ]
    }
   ],
   "source": [
    "from sklearn.linear_model import LinearRegression\n",
    "from sklearn.metrics import median_absolute_error, mean_absolute_error, mean_squared_log_error, r2_score, explained_variance_score\n",
    "\n",
    "# Entrenar modelo\n",
    "model = LinearRegression()\n",
    "model.fit(X_train, y_train)\n",
    "\n",
    "# Predicción en el conjunto de prueba\n",
    "y_pred = model.predict(X_test)\n",
    "\n",
    "# Invertir la transformación logarítmica\n",
    "y_pred = np.expm1(np.maximum(y_pred, 0))\n",
    "y_test = np.expm1(y_test)\n",
    "\n",
    "# Evaluación del modelo\n",
    "mae = mean_absolute_error(y_test, y_pred)\n",
    "medae = median_absolute_error(y_test, y_pred)\n",
    "msle = mean_squared_log_error(y_test, y_pred)\n",
    "r2 = r2_score(y_test, y_pred)\n",
    "var = explained_variance_score(y_test, y_pred)\n",
    "\n",
    "# Imprimir las métricas\n",
    "print(f'Median AE: {medae:.2f}')\n",
    "print(f'MAE: {mae:.2f}')\n",
    "print(f'MSLE: {msle:.4f}')\n",
    "print(f'R2: {r2:.2f}')\n",
    "print(f'Explained Variance: {var:.2f}')"
   ]
  },
  {
   "cell_type": "markdown",
   "id": "dbe9276e-5402-4610-9163-2826c6fa1bdd",
   "metadata": {},
   "source": [
    "### Evaluar la Correlación de Features con clicks"
   ]
  },
  {
   "cell_type": "code",
   "execution_count": 15,
   "id": "ec77cd0d-176f-429d-883d-460d5425457a",
   "metadata": {},
   "outputs": [
    {
     "data": {
      "image/png": "[encoded data removed]",
      "text/plain": [
       "<Figure size 1000x600 with 2 Axes>"
      ]
     },
     "metadata": {},
     "output_type": "display_data"
    }
   ],
   "source": [
    "import seaborn as sns\n",
    "import matplotlib.pyplot as plt\n",
    "\n",
    "# Convertir clicks a escala original para evaluar correlaciones\n",
    "df_final['clicks_original'] = np.expm1(df_final['clicks'])\n",
    "\n",
    "# Calcular la matriz de correlación\n",
    "correlation_matrix = df_final.corr()\n",
    "\n",
    "# Mostrar correlaciones con 'clicks_original'\n",
    "plt.figure(figsize=(10,6))\n",
    "sns.heatmap(correlation_matrix[['clicks_original']].sort_values(by='clicks_original', ascending=False), annot=True, cmap='coolwarm')\n",
    "plt.title('Correlaciones con Clicks')\n",
    "plt.show()"
   ]
  },
  {
   "cell_type": "markdown",
   "id": "af372930-d911-4f1c-82e9-f61304e4e285",
   "metadata": {},
   "source": [
    "### Probar con otros modelos: Random Forest Regressor"
   ]
  },
  {
   "cell_type": "code",
   "execution_count": 16,
   "id": "dc7ba34f-a862-4f99-bfd3-cfa3aec19cac",
   "metadata": {},
   "outputs": [
    {
     "name": "stdout",
     "output_type": "stream",
     "text": [
      "Random Forest Median AE: 1375.74\n",
      "Random Forest MAE: 2446.04\n",
      "Random Forest MSLE: 0.5736\n",
      "Random Forest R2: 0.24\n",
      "Random Forest Explained Variance: 0.29\n"
     ]
    }
   ],
   "source": [
    "from sklearn.ensemble import RandomForestRegressor\n",
    "from sklearn.metrics import median_absolute_error, mean_absolute_error, mean_squared_log_error, r2_score, explained_variance_score\n",
    "\n",
    "# Random Forest Regressor\n",
    "rf_model = RandomForestRegressor(n_estimators=100, max_depth=20, random_state=42)\n",
    "rf_model.fit(X_train, y_train)\n",
    "\n",
    "y_pred_rf = np.expm1(rf_model.predict(X_test))  # Deshacer transformación logarítmica\n",
    "mae_rf = mean_absolute_error(y_test, y_pred_rf)\n",
    "medae_rf = median_absolute_error(y_test, y_pred_rf)\n",
    "msle_rf = mean_squared_log_error(y_test, y_pred_rf)\n",
    "r2_rf = r2_score(y_test, y_pred_rf)\n",
    "var_rf = explained_variance_score(y_test, y_pred_rf)\n",
    "\n",
    "print(f'Random Forest Median AE: {medae_rf:.2f}')\n",
    "print(f'Random Forest MAE: {mae_rf:.2f}')\n",
    "print(f'Random Forest MSLE: {msle_rf:.4f}')\n",
    "print(f'Random Forest R2: {r2_rf:.2f}')\n",
    "print(f'Random Forest Explained Variance: {var_rf:.2f}')"
   ]
  },
  {
   "cell_type": "code",
   "execution_count": 17,
   "id": "a4f328f8-1942-4bc7-938a-1dc2732d61a6",
   "metadata": {},
   "outputs": [
    {
     "name": "stdout",
     "output_type": "stream",
     "text": [
      "Gradient Boosting Median AE: 1511.70\n",
      "Gradient Boosting MAE: 2614.74\n",
      "Gradient Boosting MSLE: 0.6704\n",
      "Gradient Boosting R2: 0.17\n",
      "Gradient Boosting Explained Variance: 0.20\n"
     ]
    }
   ],
   "source": [
    "from sklearn.ensemble import GradientBoostingRegressor\n",
    "\n",
    "# Gradient Boosting Regressor\n",
    "gb_model = GradientBoostingRegressor(n_estimators=100, learning_rate=0.1, max_depth=20, random_state=42)\n",
    "gb_model.fit(X_train, y_train)\n",
    "\n",
    "y_pred_gb = np.expm1(gb_model.predict(X_test))  # Deshacer transformación logarítmica\n",
    "mae_gb = mean_absolute_error(y_test, y_pred_gb)\n",
    "medae_gb = median_absolute_error(y_test, y_pred_gb)\n",
    "msle_gb = mean_squared_log_error(y_test, y_pred_gb)\n",
    "r2_gb = r2_score(y_test, y_pred_gb)\n",
    "var_gb = explained_variance_score(y_test, y_pred_gb)\n",
    "\n",
    "print(f'Gradient Boosting Median AE: {medae_gb:.2f}')\n",
    "print(f'Gradient Boosting MAE: {mae_gb:.2f}')\n",
    "print(f'Gradient Boosting MSLE: {msle_gb:.4f}')\n",
    "print(f'Gradient Boosting R2: {r2_gb:.2f}')\n",
    "print(f'Gradient Boosting Explained Variance: {var_gb:.2f}')"
   ]
  },
  {
   "cell_type": "code",
   "execution_count": 18,
   "id": "d5d783d1-3ff6-4451-b060-fe79630c14cc",
   "metadata": {},
   "outputs": [],
   "source": [
    "# Crear un diccionario con los resultados de los modelos\n",
    "results = {\n",
    "    'Model': ['Linear Regression', 'Random Forest', 'Gradient Boosting'],\n",
    "    'MAE': [mae, mae_rf, mae_gb],\n",
    "    'Median AE': [medae, medae_rf, medae_gb],\n",
    "    'MSLE': [msle, msle_rf, msle_gb],\n",
    "    'R2': [r2, r2_rf, r2_gb],\n",
    "    'Explained Variance': [var, var_rf, var_gb]\n",
    "}\n",
    "\n",
    "results_df = pd.DataFrame(results)"
   ]
  },
  {
   "cell_type": "code",
   "execution_count": 19,
   "id": "5964ede5-99bd-4295-8446-e6f7817fcced",
   "metadata": {},
   "outputs": [
    {
     "data": {
      "text/html": [
       "<div>\n",
       "<style scoped>\n",
       "    .dataframe tbody tr th:only-of-type {\n",
       "        vertical-align: middle;\n",
       "    }\n",
       "\n",
       "    .dataframe tbody tr th {\n",
       "        vertical-align: top;\n",
       "    }\n",
       "\n",
       "    .dataframe thead th {\n",
       "        text-align: right;\n",
       "    }\n",
       "</style>\n",
       "<table border=\"1\" class=\"dataframe\">\n",
       "  <thead>\n",
       "    <tr style=\"text-align: right;\">\n",
       "      <th></th>\n",
       "      <th>Model</th>\n",
       "      <th>MAE</th>\n",
       "      <th>Median AE</th>\n",
       "      <th>MSLE</th>\n",
       "      <th>R2</th>\n",
       "      <th>Explained Variance</th>\n",
       "    </tr>\n",
       "  </thead>\n",
       "  <tbody>\n",
       "    <tr>\n",
       "      <th>0</th>\n",
       "      <td>Linear Regression</td>\n",
       "      <td>2569.147949</td>\n",
       "      <td>1454.972168</td>\n",
       "      <td>0.611352</td>\n",
       "      <td>0.150689</td>\n",
       "      <td>0.218874</td>\n",
       "    </tr>\n",
       "    <tr>\n",
       "      <th>1</th>\n",
       "      <td>Random Forest</td>\n",
       "      <td>2446.039821</td>\n",
       "      <td>1375.742401</td>\n",
       "      <td>0.573580</td>\n",
       "      <td>0.236160</td>\n",
       "      <td>0.286096</td>\n",
       "    </tr>\n",
       "    <tr>\n",
       "      <th>2</th>\n",
       "      <td>Gradient Boosting</td>\n",
       "      <td>2614.735907</td>\n",
       "      <td>1511.700103</td>\n",
       "      <td>0.670375</td>\n",
       "      <td>0.167590</td>\n",
       "      <td>0.201666</td>\n",
       "    </tr>\n",
       "  </tbody>\n",
       "</table>\n",
       "</div>"
      ],
      "text/plain": [
       "               Model          MAE    Median AE      MSLE        R2  \\\n",
       "0  Linear Regression  2569.147949  1454.972168  0.611352  0.150689   \n",
       "1      Random Forest  2446.039821  1375.742401  0.573580  0.236160   \n",
       "2  Gradient Boosting  2614.735907  1511.700103  0.670375  0.167590   \n",
       "\n",
       "   Explained Variance  \n",
       "0            0.218874  \n",
       "1            0.286096  \n",
       "2            0.201666  "
      ]
     },
     "execution_count": 19,
     "metadata": {},
     "output_type": "execute_result"
    }
   ],
   "source": [
    "results_df"
   ]
  },
  {
   "cell_type": "code",
   "execution_count": 21,
   "id": "c845e153-c320-4e37-88e5-b1ce059dabc3",
   "metadata": {},
   "outputs": [],
   "source": [
    "# Guardar el modelo\n",
    "ml_regression_path = \"../00.data/clustering/ml_regression.pkl\"\n",
    "\n",
    "with open(ml_regression_path, \"wb\") as f:\n",
    "    pickle.dump(rf_model, f, protocol=pickle.HIGHEST_PROTOCOL)"
   ]
  },
  {
   "cell_type": "code",
   "execution_count": null,
   "id": "be81d1da-46a7-4767-b2d4-fc8564ed55f0",
   "metadata": {},
   "outputs": [],
   "source": []
  },
  {
   "cell_type": "code",
   "execution_count": null,
   "id": "84acaa04-1505-4630-a7fb-7e2b44245dce",
   "metadata": {},
   "outputs": [],
   "source": []
  },
  {
   "cell_type": "code",
   "execution_count": null,
   "id": "39c52569-1033-46c4-8145-645f915ed756",
   "metadata": {},
   "outputs": [],
   "source": []
  },
  {
   "cell_type": "markdown",
   "id": "c2553e1b-4595-4844-9ee3-a8ffd62586b1",
   "metadata": {},
   "source": [
    "### Feature Engineering"
   ]
  },
  {
   "cell_type": "markdown",
   "id": "155dcba0-cce1-4feb-9fb6-edd66f1e1873",
   "metadata": {
    "jupyter": {
     "source_hidden": true
    }
   },
   "source": [
    "%%time\n",
    "\n",
    "from sklearn.model_selection import GridSearchCV\n",
    "\n",
    "# Definir el modelo Random Forest\n",
    "model = RandomForestRegressor(random_state=42)\n",
    "\n",
    "# Definir los parámetros para GridSearchCV\n",
    "params = {\n",
    "    \"n_estimators\": [100, 150],\n",
    "    \"criterion\": [\"squared_error\", \"absolute_error\"],\n",
    "    \"max_features\": [\"sqrt\", \"log2\"],\n",
    "    \"min_samples_split\": [5, 10],\n",
    "    \"random_state\": [42]\n",
    "}\n",
    "\n",
    "# Definir el GridSearchCV\n",
    "scorers = {\n",
    "    \"MAE\": \"neg_mean_absolute_error\",\n",
    "    \"MedAE\": \"neg_median_absolute_error\",\n",
    "    \"MSLE\": \"neg_mean_squared_log_error\",\n",
    "    \"R2\": \"r2\",\n",
    "    \"EVS\": \"explained_variance\"\n",
    "}\n",
    "\n",
    "grid_solver = GridSearchCV(\n",
    "    estimator=model,\n",
    "    param_grid=params,\n",
    "    scoring=scorers,\n",
    "    cv=5,\n",
    "    refit=\"MAE\",\n",
    "    n_jobs=-1,\n",
    "    verbose=3\n",
    ")\n",
    "\n",
    "# Ajustar el modelo\n",
    "model_result = grid_solver.fit(X_train, y_train)\n",
    "\n",
    "# Mostrar métricas promedio\n",
    "print(\"Mean Test Median Absolute Error:\", model_result.cv_results_[\"mean_test_MedAE\"].mean())\n",
    "print(\"Mean Test Mean Squared Log Error:\", model_result.cv_results_[\"mean_test_MSLE\"].mean())\n",
    "print(\"Mean Test R2 Score:\", model_result.cv_results_[\"mean_test_R2\"].mean())\n",
    "print(\"Mean Test Explained Variance Score:\", model_result.cv_results_[\"mean_test_EVS\"].mean())\n",
    "\n",
    "print(\"*\"*100)\n",
    "\n",
    "# Mostrar los mejores parámetros\n",
    "print(\"Mejor Score (MAE):\", model_result.best_score_)\n",
    "print(\"Mejores Parámetros:\", model_result.best_params_)\n",
    "\n",
    "# Evaluación con los mejores parámetros\n",
    "best_rf_model = model_result.best_estimator_\n",
    "y_pred_rf_best = np.expm1(best_rf_model.predict(X_test))  # Deshacer transformación logarítmica\n",
    "\n",
    "# Calcular métricas con el mejor modelo\n",
    "mae_rf_best = mean_absolute_error(y_test, y_pred_rf_best)\n",
    "medae_rf_best = median_absolute_error(y_test, y_pred_rf_best)\n",
    "msle_rf_best = mean_squared_log_error(y_test, y_pred_rf_best)\n",
    "r2_rf_best = r2_score(y_test, y_pred_rf_best)\n",
    "ev_rf_best = explained_variance_score(y_test, y_pred_rf_best)\n",
    "\n",
    "print(f'Random Forest con GridSearch MAE: {mae_rf_best:.2f}')\n",
    "print(f'Random Forest con GridSearch MedAE: {medae_rf_best:.2f}')\n",
    "print(f'Random Forest con GridSearch MSLE: {msle_rf_best:.4f}')\n",
    "print(f'Random Forest con GridSearch R2 Score: {r2_rf_best:.4f}')\n",
    "print(f'Random Forest con GridSearch Explained Variance Score: {ev_rf_best:.4f}')"
   ]
  }
 ],
 "metadata": {
  "kernelspec": {
   "display_name": "Python 3 (ipykernel)",
   "language": "python",
   "name": "python3"
  },
  "language_info": {
   "codemirror_mode": {
    "name": "ipython",
    "version": 3
   },
   "file_extension": ".py",
   "mimetype": "text/x-python",
   "name": "python",
   "nbconvert_exporter": "python",
   "pygments_lexer": "ipython3",
   "version": "3.12.3"
  }
 },
 "nbformat": 4,
 "nbformat_minor": 5
}
