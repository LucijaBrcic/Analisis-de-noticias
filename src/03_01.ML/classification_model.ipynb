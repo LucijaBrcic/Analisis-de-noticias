{
 "cells": [
  {
   "cell_type": "code",
   "execution_count": 7,
   "id": "ebe264b3-dae9-469f-95b0-d5dfe7ba2097",
   "metadata": {},
   "outputs": [],
   "source": [
    "import os\n",
    "import pickle\n",
    "import pandas as pd\n",
    "import seaborn as sns\n",
    "import matplotlib.pyplot as plt\n",
    "from sklearn.preprocessing import MinMaxScaler, OneHotEncoder\n",
    "from sklearn.model_selection import train_test_split\n",
    "from sklearn.neighbors import NearestCentroid\n",
    "from sklearn.metrics import accuracy_score, classification_report\n",
    "from collections import Counter"
   ]
  },
  {
   "cell_type": "code",
   "execution_count": 8,
   "id": "e5654e9a-2cc3-4476-b843-094f029876df",
   "metadata": {},
   "outputs": [
    {
     "name": "stdout",
     "output_type": "stream",
     "text": [
      "✅ Archivo cargado correctamente: df_clustering_1.pkl\n",
      "✅ Archivo cargado correctamente: df_clustering_2.pkl\n",
      "✅ Archivo cargado correctamente: df_clustering_3.pkl\n",
      "✅ DataFrame final con 287563 filas y 10 columnas\n"
     ]
    }
   ],
   "source": [
    "directorio_base = os.path.abspath(os.path.join(os.getcwd(), \"../..\"))  # Subir dos directorios\n",
    "directorio_pkl = os.path.join(directorio_base, \"src\", \"00.data\", \"clustering\")\n",
    "\n",
    "# Obtener todos los archivos .pkl en el directorio de preprocesado\n",
    "archivos_pkl = [f for f in os.listdir(directorio_pkl) if f.startswith(\"df_clustering_\") and f.endswith(\".pkl\")]\n",
    "\n",
    "# Si no se encuentran archivos .pkl, mostramos un mensaje\n",
    "if not archivos_pkl:\n",
    "    print(\"❌ No se encontraron archivos .pkl en el directorio.\")\n",
    "else:\n",
    "    df_lista = []\n",
    "\n",
    "    # Cargar todos los archivos .pkl\n",
    "    for archivo in archivos_pkl:\n",
    "        ruta_archivo = os.path.join(directorio_pkl, archivo)\n",
    "        try:\n",
    "            with open(ruta_archivo, \"rb\") as f:\n",
    "                df_lista.append(pickle.load(f))\n",
    "                print(f\"✅ Archivo cargado correctamente: {archivo}\")\n",
    "        except FileNotFoundError:\n",
    "            print(f\"❌ No se encontró el archivo: {archivo}\")\n",
    "        except Exception as e:\n",
    "            print(f\"❌ Error al cargar {archivo}: {e}\")\n",
    "\n",
    "    # Concatenar todos los DataFrames en uno solo\n",
    "    if df_lista:\n",
    "        df = pd.concat(df_lista, ignore_index=True)\n",
    "        print(f\"✅ DataFrame final con {df.shape[0]} filas y {df.shape[1]} columnas\")\n",
    "    else:\n",
    "        print(\"❌ No se cargaron DataFrames.\")"
   ]
  },
  {
   "cell_type": "code",
   "execution_count": 9,
   "id": "e3c1c55f-4fca-40d0-bf38-60b0a661c72d",
   "metadata": {},
   "outputs": [
    {
     "data": {
      "text/html": [
       "<div>\n",
       "<style scoped>\n",
       "    .dataframe tbody tr th:only-of-type {\n",
       "        vertical-align: middle;\n",
       "    }\n",
       "\n",
       "    .dataframe tbody tr th {\n",
       "        vertical-align: top;\n",
       "    }\n",
       "\n",
       "    .dataframe thead th {\n",
       "        text-align: right;\n",
       "    }\n",
       "</style>\n",
       "<table border=\"1\" class=\"dataframe\">\n",
       "  <thead>\n",
       "    <tr style=\"text-align: right;\">\n",
       "      <th></th>\n",
       "      <th>news_id</th>\n",
       "      <th>meneos</th>\n",
       "      <th>clicks</th>\n",
       "      <th>karma</th>\n",
       "      <th>positive_votes</th>\n",
       "      <th>negative_votes</th>\n",
       "      <th>anonymous_votes</th>\n",
       "      <th>comments</th>\n",
       "      <th>category</th>\n",
       "      <th>cluster_3</th>\n",
       "    </tr>\n",
       "  </thead>\n",
       "  <tbody>\n",
       "    <tr>\n",
       "      <th>0</th>\n",
       "      <td>4032594</td>\n",
       "      <td>115</td>\n",
       "      <td>651</td>\n",
       "      <td>410</td>\n",
       "      <td>57</td>\n",
       "      <td>1</td>\n",
       "      <td>58</td>\n",
       "      <td>30</td>\n",
       "      <td>Política y Sociedad</td>\n",
       "      <td>1</td>\n",
       "    </tr>\n",
       "    <tr>\n",
       "      <th>1</th>\n",
       "      <td>4032568</td>\n",
       "      <td>77</td>\n",
       "      <td>982</td>\n",
       "      <td>362</td>\n",
       "      <td>50</td>\n",
       "      <td>2</td>\n",
       "      <td>27</td>\n",
       "      <td>24</td>\n",
       "      <td>Entretenimiento y Cultura</td>\n",
       "      <td>1</td>\n",
       "    </tr>\n",
       "    <tr>\n",
       "      <th>2</th>\n",
       "      <td>4032569</td>\n",
       "      <td>97</td>\n",
       "      <td>761</td>\n",
       "      <td>369</td>\n",
       "      <td>50</td>\n",
       "      <td>0</td>\n",
       "      <td>47</td>\n",
       "      <td>70</td>\n",
       "      <td>Política y Sociedad</td>\n",
       "      <td>1</td>\n",
       "    </tr>\n",
       "    <tr>\n",
       "      <th>3</th>\n",
       "      <td>4032482</td>\n",
       "      <td>141</td>\n",
       "      <td>505</td>\n",
       "      <td>352</td>\n",
       "      <td>77</td>\n",
       "      <td>1</td>\n",
       "      <td>64</td>\n",
       "      <td>53</td>\n",
       "      <td>Política y Sociedad</td>\n",
       "      <td>1</td>\n",
       "    </tr>\n",
       "    <tr>\n",
       "      <th>4</th>\n",
       "      <td>4032509</td>\n",
       "      <td>213</td>\n",
       "      <td>335</td>\n",
       "      <td>349</td>\n",
       "      <td>99</td>\n",
       "      <td>1</td>\n",
       "      <td>114</td>\n",
       "      <td>28</td>\n",
       "      <td>Política y Sociedad</td>\n",
       "      <td>1</td>\n",
       "    </tr>\n",
       "  </tbody>\n",
       "</table>\n",
       "</div>"
      ],
      "text/plain": [
       "   news_id  meneos  clicks  karma  positive_votes  negative_votes  \\\n",
       "0  4032594     115     651    410              57               1   \n",
       "1  4032568      77     982    362              50               2   \n",
       "2  4032569      97     761    369              50               0   \n",
       "3  4032482     141     505    352              77               1   \n",
       "4  4032509     213     335    349              99               1   \n",
       "\n",
       "   anonymous_votes  comments                   category  cluster_3  \n",
       "0               58        30        Política y Sociedad          1  \n",
       "1               27        24  Entretenimiento y Cultura          1  \n",
       "2               47        70        Política y Sociedad          1  \n",
       "3               64        53        Política y Sociedad          1  \n",
       "4              114        28        Política y Sociedad          1  "
      ]
     },
     "execution_count": 9,
     "metadata": {},
     "output_type": "execute_result"
    }
   ],
   "source": [
    "df.head()"
   ]
  },
  {
   "cell_type": "code",
   "execution_count": 10,
   "id": "10eff7fc-7c27-4645-85e8-88dcbeb843f1",
   "metadata": {},
   "outputs": [],
   "source": [
    "df_clustering = df.drop(columns=['clicks', 'news_id'])"
   ]
  },
  {
   "cell_type": "code",
   "execution_count": 11,
   "id": "ef377902-5f5f-4b4e-97e7-27e40abb1b9d",
   "metadata": {},
   "outputs": [],
   "source": [
    "# Seleccionar solo las variables numéricas\n",
    "num_features = ['meneos', 'karma', 'positive_votes', 'anonymous_votes', 'negative_votes', 'comments']\n",
    "\n",
    "# Convertir a float32 antes de escalar\n",
    "df_clustering[num_features] = df_clustering[num_features].astype('float32')\n",
    "\n",
    "# Aplicar MinMaxScaler a las variables numéricas\n",
    "scaler = MinMaxScaler()\n",
    "df_clustering[num_features] = scaler.fit_transform(df_clustering[num_features])\n",
    "\n",
    "# Guardar el escalador\n",
    "scaler_path = \"../00.data/clustering/scaler.pkl\"\n",
    "with open(scaler_path, \"wb\") as f:\n",
    "    pickle.dump(scaler, f, protocol=pickle.HIGHEST_PROTOCOL)"
   ]
  },
  {
   "cell_type": "code",
   "execution_count": 12,
   "id": "38caefc3-a9f9-4e26-a578-cb70bba5db4e",
   "metadata": {},
   "outputs": [],
   "source": [
    "# Aplicar OneHotEncoder a la columna 'category'\n",
    "encoder = OneHotEncoder(sparse_output=False, drop='first')\n",
    "encoded_cats = encoder.fit_transform(df_clustering[['category']])\n",
    "\n",
    "# Convertir a DataFrame\n",
    "encoded_df = pd.DataFrame(encoded_cats, columns=encoder.get_feature_names_out(['category']))\n",
    "\n",
    "# Resetear índice para asegurar alineación antes de la concatenación\n",
    "df_clustering = df_clustering.reset_index(drop=True)\n",
    "encoded_df = encoded_df.reset_index(drop=True)\n",
    "\n",
    "# Unir con el dataset original\n",
    "df_clustering = pd.concat([df_clustering, encoded_df], axis=1)\n",
    "\n",
    "# Eliminar la columna categórica original\n",
    "df_clustering.drop(columns=['category'], inplace=True)\n",
    "\n",
    "# Guardar el encoder\n",
    "encoder_path = \"../00.data/clustering/encoder.pkl\"\n",
    "with open(encoder_path, \"wb\") as f:\n",
    "    pickle.dump(encoder, f, protocol=pickle.HIGHEST_PROTOCOL)"
   ]
  },
  {
   "cell_type": "code",
   "execution_count": 13,
   "id": "bf28c8d1-35b0-4383-bd7d-271eef5915cd",
   "metadata": {},
   "outputs": [],
   "source": [
    "# Definir X (features) e y (target)\n",
    "X = df_clustering.drop(columns=['cluster_3'])\n",
    "y = df_clustering['cluster_3']\n",
    "\n",
    "# Dividir en entrenamiento y prueba (80% - 20%)\n",
    "X_train, X_test, y_train, y_test = train_test_split(X, y, test_size=0.2, stratify=y, random_state=42)"
   ]
  },
  {
   "cell_type": "code",
   "execution_count": 14,
   "id": "81a19009-fd85-4fad-8ffa-b51e67309e96",
   "metadata": {},
   "outputs": [],
   "source": [
    "import os\n",
    "os.environ[\"LOKY_MAX_CPU_COUNT\"] = \"4\""
   ]
  },
  {
   "cell_type": "code",
   "execution_count": 15,
   "id": "06b27984-51dd-41f4-9428-18afd34e0d0f",
   "metadata": {},
   "outputs": [
    {
     "name": "stdout",
     "output_type": "stream",
     "text": [
      "Accuracy del modelo: 0.2945\n"
     ]
    }
   ],
   "source": [
    "model = NearestCentroid()\n",
    "model.fit(X_train, y_train)\n",
    "\n",
    "# Evaluar el modelo (opcional)\n",
    "accuracy = model.score(X_test, y_test)\n",
    "print(f\"Accuracy del modelo: {accuracy:.4f}\")"
   ]
  },
  {
   "cell_type": "code",
   "execution_count": 16,
   "id": "afba54f5-39e3-424d-bd49-f0db1db4418d",
   "metadata": {},
   "outputs": [
    {
     "name": "stdout",
     "output_type": "stream",
     "text": [
      "              precision    recall  f1-score   support\n",
      "\n",
      "           0       0.19      0.57      0.28      8868\n",
      "           1       0.93      0.23      0.37     46861\n",
      "           2       0.06      0.62      0.11      1784\n",
      "\n",
      "    accuracy                           0.29     57513\n",
      "   macro avg       0.39      0.47      0.25     57513\n",
      "weighted avg       0.79      0.29      0.35     57513\n",
      "\n"
     ]
    }
   ],
   "source": [
    "from sklearn.metrics import classification_report\n",
    "\n",
    "y_pred = model.predict(X_test)\n",
    "print(classification_report(y_test, y_pred))"
   ]
  }
 ],
 "metadata": {
  "kernelspec": {
   "display_name": "Python 3 (ipykernel)",
   "language": "python",
   "name": "python3"
  },
  "language_info": {
   "codemirror_mode": {
    "name": "ipython",
    "version": 3
   },
   "file_extension": ".py",
   "mimetype": "text/x-python",
   "name": "python",
   "nbconvert_exporter": "python",
   "pygments_lexer": "ipython3",
   "version": "3.12.7"
  }
 },
 "nbformat": 4,
 "nbformat_minor": 5
}
