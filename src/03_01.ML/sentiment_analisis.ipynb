{
 "cells": [
  {
   "cell_type": "code",
   "execution_count": 3,
   "metadata": {},
   "outputs": [
    {
     "name": "stderr",
     "output_type": "stream",
     "text": [
      "[nltk_data] Downloading package vader_lexicon to\n",
      "[nltk_data]     /Users/lucija/nltk_data...\n",
      "[nltk_data]   Package vader_lexicon is already up-to-date!\n"
     ]
    }
   ],
   "source": [
    "import pandas as pd\n",
    "import nltk\n",
    "from vaderSentiment.vaderSentiment import SentimentIntensityAnalyzer\n",
    "import matplotlib.pyplot as plt\n",
    "\n",
    "# Ensure you have the VADER lexicon\n",
    "nltk.download('vader_lexicon')\n",
    "\n",
    "# Sample dataset: Replace with your scraped news data\n",
    "data = {\n",
    "    \"title\": [\n",
    "        \"Stock markets plunge as fears of recession grow\",\n",
    "        \"Tech companies report record profits despite economic uncertainty\",\n",
    "        \"New policies aim to reduce carbon emissions significantly\",\n",
    "        \"Sports team wins championship in thrilling final match\",\n",
    "        \"Scientists discover breakthrough in cancer research\"\n",
    "    ]\n",
    "}\n",
    "\n",
    "# Convert to DataFrame\n",
    "df = pd.DataFrame(data)\n",
    "\n",
    "# Initialize VADER analyzer\n",
    "analyzer = SentimentIntensityAnalyzer()\n",
    "\n",
    "# Apply sentiment analysis\n",
    "df[\"sentiment\"] = df[\"title\"].apply(lambda text: analyzer.polarity_scores(text)['compound'])\n",
    "\n",
    "# Classify as Positive, Neutral, or Negative\n",
    "def classify_sentiment(score):\n",
    "    if score >= 0.05:\n",
    "        return \"Positive\"\n",
    "    elif score <= -0.05:\n",
    "        return \"Negative\"\n",
    "    else:\n",
    "        return \"Neutral\"\n",
    "\n",
    "df[\"sentiment_label\"] = df[\"sentiment\"].apply(classify_sentiment)\n",
    "\n",
    "\n"
   ]
  },
  {
   "cell_type": "code",
   "execution_count": 4,
   "metadata": {},
   "outputs": [
    {
     "data": {
      "text/html": [
       "<div>\n",
       "<style scoped>\n",
       "    .dataframe tbody tr th:only-of-type {\n",
       "        vertical-align: middle;\n",
       "    }\n",
       "\n",
       "    .dataframe tbody tr th {\n",
       "        vertical-align: top;\n",
       "    }\n",
       "\n",
       "    .dataframe thead th {\n",
       "        text-align: right;\n",
       "    }\n",
       "</style>\n",
       "<table border=\"1\" class=\"dataframe\">\n",
       "  <thead>\n",
       "    <tr style=\"text-align: right;\">\n",
       "      <th></th>\n",
       "      <th>title</th>\n",
       "      <th>sentiment</th>\n",
       "      <th>sentiment_label</th>\n",
       "    </tr>\n",
       "  </thead>\n",
       "  <tbody>\n",
       "    <tr>\n",
       "      <th>0</th>\n",
       "      <td>Stock markets plunge as fears of recession grow</td>\n",
       "      <td>-0.6808</td>\n",
       "      <td>Negative</td>\n",
       "    </tr>\n",
       "    <tr>\n",
       "      <th>1</th>\n",
       "      <td>Tech companies report record profits despite e...</td>\n",
       "      <td>0.6041</td>\n",
       "      <td>Positive</td>\n",
       "    </tr>\n",
       "    <tr>\n",
       "      <th>2</th>\n",
       "      <td>New policies aim to reduce carbon emissions si...</td>\n",
       "      <td>0.0000</td>\n",
       "      <td>Neutral</td>\n",
       "    </tr>\n",
       "    <tr>\n",
       "      <th>3</th>\n",
       "      <td>Sports team wins championship in thrilling fin...</td>\n",
       "      <td>0.8658</td>\n",
       "      <td>Positive</td>\n",
       "    </tr>\n",
       "    <tr>\n",
       "      <th>4</th>\n",
       "      <td>Scientists discover breakthrough in cancer res...</td>\n",
       "      <td>-0.6597</td>\n",
       "      <td>Negative</td>\n",
       "    </tr>\n",
       "  </tbody>\n",
       "</table>\n",
       "</div>"
      ],
      "text/plain": [
       "                                               title  sentiment  \\\n",
       "0    Stock markets plunge as fears of recession grow    -0.6808   \n",
       "1  Tech companies report record profits despite e...     0.6041   \n",
       "2  New policies aim to reduce carbon emissions si...     0.0000   \n",
       "3  Sports team wins championship in thrilling fin...     0.8658   \n",
       "4  Scientists discover breakthrough in cancer res...    -0.6597   \n",
       "\n",
       "  sentiment_label  \n",
       "0        Negative  \n",
       "1        Positive  \n",
       "2         Neutral  \n",
       "3        Positive  \n",
       "4        Negative  "
      ]
     },
     "metadata": {},
     "output_type": "display_data"
    },
    {
     "data": {
      "image/png": "[encoded data removed]",
      "text/plain": [
       "<Figure size 600x400 with 1 Axes>"
      ]
     },
     "metadata": {},
     "output_type": "display_data"
    }
   ],
   "source": [
    "# Display results\n",
    "from IPython.display import display\n",
    "display(df)\n",
    "\n",
    "# Plot sentiment distribution\n",
    "plt.figure(figsize=(6,4))\n",
    "df[\"sentiment_label\"].value_counts().plot(kind='bar', title='Sentiment Distribution')\n",
    "plt.xlabel(\"Sentiment\")\n",
    "plt.ylabel(\"Count\")\n",
    "plt.show()"
   ]
  },
  {
   "cell_type": "code",
   "execution_count": null,
   "metadata": {},
   "outputs": [],
   "source": []
  }
 ],
 "metadata": {
  "kernelspec": {
   "display_name": "venv",
   "language": "python",
   "name": "python3"
  },
  "language_info": {
   "codemirror_mode": {
    "name": "ipython",
    "version": 3
   },
   "file_extension": ".py",
   "mimetype": "text/x-python",
   "name": "python",
   "nbconvert_exporter": "python",
   "pygments_lexer": "ipython3",
   "version": "3.12.2"
  }
 },
 "nbformat": 4,
 "nbformat_minor": 2
}
