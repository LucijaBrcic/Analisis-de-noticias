{
 "cells": [
  {
   "cell_type": "code",
   "execution_count": 2,
   "id": "180a763e-6f97-4ebe-970d-ba94fdce0809",
   "metadata": {},
   "outputs": [],
   "source": [
    "import os\n",
    "import pickle\n",
    "import pandas as pd\n",
    "import numpy as np\n",
    "from sqlalchemy import text"
   ]
  },
  {
   "cell_type": "code",
   "execution_count": 3,
   "id": "a2a4b1f6-66c9-4842-b5bf-eee800a5ab20",
   "metadata": {},
   "outputs": [],
   "source": [
    "# Cargar el MinMaxScaler, el OneHotEncoder, y el modelo guardados\n",
    "scaler_path = \"../00.data/clustering/scaler.pkl\"\n",
    "encoder_path = \"../00.data/clustering/encoder.pkl\"\n",
    "ml_clustering_path = \"../00.data/clustering/ml_clustering.pkl\"\n",
    "\n",
    "with open(scaler_path, \"rb\") as f:\n",
    "    scaler = pickle.load(f)\n",
    "\n",
    "with open(encoder_path, \"rb\") as f:\n",
    "    encoder = pickle.load(f)\n",
    "\n",
    "with open(ml_clustering_path, \"rb\") as f:\n",
    "    rf_model = pickle.load(f)"
   ]
  },
  {
   "cell_type": "code",
   "execution_count": 4,
   "id": "f9c60c6f-f493-4a2b-b1d4-2edd4210e482",
   "metadata": {
    "jupyter": {
     "source_hidden": true
    }
   },
   "outputs": [
    {
     "name": "stdout",
     "output_type": "stream",
     "text": [
      "Directorio actual: C:\\Users\\Jordi\\OneDrive - Finergal\\Documentos\\Bootcamp HAB Data Science\\PFB\\Analisis-de-noticias\\src\\03_01.ML\n",
      "Directorio raíz común: C:\\Users\\Jordi\\OneDrive - Finergal\\Documentos\\Bootcamp HAB Data Science\\PFB\\Analisis-de-noticias\n",
      "Ruta de directorio ajustada: C:\\Users\\Jordi\\OneDrive - Finergal\\Documentos\\Bootcamp HAB Data Science\\PFB\\Analisis-de-noticias\\src/00.data/preprocesado/\n",
      "Cargado: meneame_procesado_1.pkl con 100000 filas\n",
      "Cargado: meneame_procesado_2.pkl con 100000 filas\n",
      "Cargado: meneame_procesado_3.pkl con 87802 filas\n",
      "DataFrame final con 287802 filas y 19 columnas\n"
     ]
    }
   ],
   "source": [
    "current_dir = os.path.abspath(os.getcwd())\n",
    "print(f\"Directorio actual: {current_dir}\")\n",
    "\n",
    "# Subir hasta el directorio raíz común (en este caso 'Analisis-de-noticias')\n",
    "root_dir = os.path.abspath(os.path.join(current_dir, \"../..\"))\n",
    "print(f\"Directorio raíz común: {root_dir}\")\n",
    "\n",
    "# Construir la ruta al directorio donde están los archivos pkl\n",
    "directory = os.path.join(root_dir, \"src/00.data/preprocesado/\")\n",
    "print(f\"Ruta de directorio ajustada: {directory}\")\n",
    "\n",
    "# Lista para almacenar los DataFrames\n",
    "df_lista = []\n",
    "\n",
    "# Buscar todos los archivos pkl en el directorio\n",
    "archivos_pkl = [f for f in os.listdir(directory) if f.startswith(\"meneame_procesado_\") and f.endswith(\".pkl\")]\n",
    "\n",
    "# Leer cada archivo .pkl y agregarlo a la lista de DataFrames\n",
    "for archivo in archivos_pkl:\n",
    "    file_path = os.path.join(directory, archivo)\n",
    "    with open(file_path, \"rb\") as f:\n",
    "        df_chunk = pickle.load(f)\n",
    "        df_lista.append(df_chunk)\n",
    "        print(f\"Cargado: {archivo} con {len(df_chunk)} filas\")\n",
    "\n",
    "# Concatenar todos los DataFrames en uno solo\n",
    "df = pd.concat(df_lista, ignore_index=True)\n",
    "\n",
    "# Verificar el tamaño del DataFrame final\n",
    "print(f\"DataFrame final con {df.shape[0]} filas y {df.shape[1]} columnas\")"
   ]
  },
  {
   "cell_type": "code",
   "execution_count": 5,
   "id": "d21b085a-9556-44d8-88ac-1a2eb78112ee",
   "metadata": {},
   "outputs": [
    {
     "data": {
      "text/plain": [
       "(80665, 19)"
      ]
     },
     "execution_count": 5,
     "metadata": {},
     "output_type": "execute_result"
    }
   ],
   "source": [
    "df_nuevo = df[df[\"clicks\"].isna()]\n",
    "df_nuevo.shape"
   ]
  },
  {
   "cell_type": "code",
   "execution_count": 6,
   "id": "3531aeea-68c7-4cea-bacd-26f006893170",
   "metadata": {},
   "outputs": [
    {
     "data": {
      "text/plain": [
       "Index(['news_id', 'title', 'content', 'full_story_link', 'meneos', 'clicks',\n",
       "       'karma', 'positive_votes', 'anonymous_votes', 'negative_votes',\n",
       "       'category', 'comments', 'published_date', 'user', 'source',\n",
       "       'source_link', 'scraped_date', 'provincia', 'comunidad'],\n",
       "      dtype='object')"
      ]
     },
     "execution_count": 6,
     "metadata": {},
     "output_type": "execute_result"
    }
   ],
   "source": [
    "df_nuevo.columns"
   ]
  },
  {
   "cell_type": "code",
   "execution_count": 7,
   "id": "f880a92e-b0a9-4858-b369-826821def545",
   "metadata": {},
   "outputs": [],
   "source": [
    "# **1. Crear una copia sin 'full_story_link' para conservar todas las demás columnas**\n",
    "df_resultado = df_nuevo.drop(columns=['full_story_link'])"
   ]
  },
  {
   "cell_type": "code",
   "execution_count": 8,
   "id": "dce625ff-6065-42f6-8e28-c07e03a0e42c",
   "metadata": {},
   "outputs": [
    {
     "name": "stdout",
     "output_type": "stream",
     "text": [
      "Predicción de clusters completada y guardada.\n"
     ]
    }
   ],
   "source": [
    "features_numericas = ['meneos', 'karma', 'positive_votes', 'anonymous_votes', 'negative_votes', 'comments']\n",
    "feature_categorica = 'category'\n",
    "\n",
    "# Verificar que las columnas existen en el DataFrame\n",
    "if not all(col in df_nuevo.columns for col in features_numericas + [feature_categorica]):\n",
    "    raise ValueError(\"Faltan columnas necesarias en el DataFrame.\")\n",
    "\n",
    "# Escalar las variables numéricas\n",
    "df_scaled = scaler.transform(df_nuevo[features_numericas])\n",
    "\n",
    "# Codificar la variable categórica\n",
    "encoded_categorias = encoder.transform(df_nuevo[[feature_categorica]])\n",
    "encoded_categorias_df = pd.DataFrame(encoded_categorias, columns=encoder.get_feature_names_out([feature_categorica]))\n",
    "\n",
    "# Unir los datos transformados\n",
    "df_final = pd.concat([pd.DataFrame(df_scaled, columns=features_numericas), encoded_categorias_df], axis=1)\n",
    "\n",
    "# Asegurar que las columnas coinciden con las del modelo\n",
    "df_final = df_final.reindex(columns=rf_model.feature_names_in_, fill_value=0)\n",
    "\n",
    "# **3. Predecir los clusters**\n",
    "df_resultado[\"cluster\"] = rf_model.predict(df_final)\n",
    "\n",
    "# **4. Guardar el resultado**\n",
    "df_resultado.to_csv(\"../00.data/clustering/scraped_news_with_clusters.csv\", index=False)\n",
    "\n",
    "print(\"Predicción de clusters completada y guardada.\")"
   ]
  },
  {
   "cell_type": "code",
   "execution_count": 9,
   "id": "31276899-29ac-4d27-9ae6-d1128ad70541",
   "metadata": {},
   "outputs": [
    {
     "data": {
      "text/html": [
       "<div>\n",
       "<style scoped>\n",
       "    .dataframe tbody tr th:only-of-type {\n",
       "        vertical-align: middle;\n",
       "    }\n",
       "\n",
       "    .dataframe tbody tr th {\n",
       "        vertical-align: top;\n",
       "    }\n",
       "\n",
       "    .dataframe thead th {\n",
       "        text-align: right;\n",
       "    }\n",
       "</style>\n",
       "<table border=\"1\" class=\"dataframe\">\n",
       "  <thead>\n",
       "    <tr style=\"text-align: right;\">\n",
       "      <th></th>\n",
       "      <th>news_id</th>\n",
       "      <th>title</th>\n",
       "      <th>content</th>\n",
       "      <th>meneos</th>\n",
       "      <th>clicks</th>\n",
       "      <th>karma</th>\n",
       "      <th>positive_votes</th>\n",
       "      <th>anonymous_votes</th>\n",
       "      <th>negative_votes</th>\n",
       "      <th>category</th>\n",
       "      <th>comments</th>\n",
       "      <th>published_date</th>\n",
       "      <th>user</th>\n",
       "      <th>source</th>\n",
       "      <th>source_link</th>\n",
       "      <th>scraped_date</th>\n",
       "      <th>provincia</th>\n",
       "      <th>comunidad</th>\n",
       "      <th>cluster</th>\n",
       "    </tr>\n",
       "  </thead>\n",
       "  <tbody>\n",
       "    <tr>\n",
       "      <th>150874</th>\n",
       "      <td>1037095</td>\n",
       "      <td>Topless: mirar o no mirar, ésa es la cuestión</td>\n",
       "      <td>Acabo de retornar de un roadtrip veraniego. Bi...</td>\n",
       "      <td>512</td>\n",
       "      <td>NaN</td>\n",
       "      <td>635</td>\n",
       "      <td>217</td>\n",
       "      <td>295</td>\n",
       "      <td>3</td>\n",
       "      <td>Entretenimiento y Cultura</td>\n",
       "      <td>95</td>\n",
       "      <td>2010-08-31 19:00:02</td>\n",
       "      <td>Kfn</td>\n",
       "      <td>elreferente.es</td>\n",
       "      <td>http://www.elreferente.es/polmiraflors/topless...</td>\n",
       "      <td>2025-02-27 11:25:53</td>\n",
       "      <td>NaN</td>\n",
       "      <td>NaN</td>\n",
       "      <td>0</td>\n",
       "    </tr>\n",
       "    <tr>\n",
       "      <th>150875</th>\n",
       "      <td>1034957</td>\n",
       "      <td>Elogio del porno</td>\n",
       "      <td>Saber follar es importante pero hay algo que i...</td>\n",
       "      <td>430</td>\n",
       "      <td>NaN</td>\n",
       "      <td>632</td>\n",
       "      <td>180</td>\n",
       "      <td>250</td>\n",
       "      <td>4</td>\n",
       "      <td>Entretenimiento y Cultura</td>\n",
       "      <td>48</td>\n",
       "      <td>2010-08-28 17:25:03</td>\n",
       "      <td>--98342--</td>\n",
       "      <td>lne.es</td>\n",
       "      <td>http://www.lne.es/gijon/2010/08/27/elogio-porn...</td>\n",
       "      <td>2025-02-27 11:26:04</td>\n",
       "      <td>NaN</td>\n",
       "      <td>NaN</td>\n",
       "      <td>0</td>\n",
       "    </tr>\n",
       "    <tr>\n",
       "      <th>150876</th>\n",
       "      <td>1026190</td>\n",
       "      <td>El 56% de hombres rechaza el topless de sus no...</td>\n",
       "      <td>Un 56% de hombres no está de acuerdo con su pa...</td>\n",
       "      <td>793</td>\n",
       "      <td>NaN</td>\n",
       "      <td>645</td>\n",
       "      <td>269</td>\n",
       "      <td>524</td>\n",
       "      <td>6</td>\n",
       "      <td>Política y Sociedad</td>\n",
       "      <td>100</td>\n",
       "      <td>2010-08-16 00:45:02</td>\n",
       "      <td>cd_autoreverse</td>\n",
       "      <td>noticias24.com</td>\n",
       "      <td>http://www.noticias24.com/gente/noticia/10295/...</td>\n",
       "      <td>2025-02-27 11:26:56</td>\n",
       "      <td>NaN</td>\n",
       "      <td>NaN</td>\n",
       "      <td>0</td>\n",
       "    </tr>\n",
       "  </tbody>\n",
       "</table>\n",
       "</div>"
      ],
      "text/plain": [
       "        news_id                                              title  \\\n",
       "150874  1037095      Topless: mirar o no mirar, ésa es la cuestión   \n",
       "150875  1034957                                   Elogio del porno   \n",
       "150876  1026190  El 56% de hombres rechaza el topless de sus no...   \n",
       "\n",
       "                                                  content  meneos  clicks  \\\n",
       "150874  Acabo de retornar de un roadtrip veraniego. Bi...     512     NaN   \n",
       "150875  Saber follar es importante pero hay algo que i...     430     NaN   \n",
       "150876  Un 56% de hombres no está de acuerdo con su pa...     793     NaN   \n",
       "\n",
       "        karma  positive_votes  anonymous_votes  negative_votes  \\\n",
       "150874    635             217              295               3   \n",
       "150875    632             180              250               4   \n",
       "150876    645             269              524               6   \n",
       "\n",
       "                         category  comments      published_date  \\\n",
       "150874  Entretenimiento y Cultura        95 2010-08-31 19:00:02   \n",
       "150875  Entretenimiento y Cultura        48 2010-08-28 17:25:03   \n",
       "150876        Política y Sociedad       100 2010-08-16 00:45:02   \n",
       "\n",
       "                  user          source  \\\n",
       "150874             Kfn  elreferente.es   \n",
       "150875       --98342--          lne.es   \n",
       "150876  cd_autoreverse  noticias24.com   \n",
       "\n",
       "                                              source_link        scraped_date  \\\n",
       "150874  http://www.elreferente.es/polmiraflors/topless... 2025-02-27 11:25:53   \n",
       "150875  http://www.lne.es/gijon/2010/08/27/elogio-porn... 2025-02-27 11:26:04   \n",
       "150876  http://www.noticias24.com/gente/noticia/10295/... 2025-02-27 11:26:56   \n",
       "\n",
       "       provincia comunidad  cluster  \n",
       "150874       NaN       NaN        0  \n",
       "150875       NaN       NaN        0  \n",
       "150876       NaN       NaN        0  "
      ]
     },
     "execution_count": 9,
     "metadata": {},
     "output_type": "execute_result"
    }
   ],
   "source": [
    "df_resultado.head(3)"
   ]
  },
  {
   "cell_type": "code",
   "execution_count": 10,
   "id": "58f72477-5aca-4a03-afe4-2552a553a126",
   "metadata": {},
   "outputs": [
    {
     "data": {
      "text/plain": [
       "cluster\n",
       "0    73970\n",
       "2     5947\n",
       "1      748\n",
       "Name: count, dtype: int64"
      ]
     },
     "execution_count": 10,
     "metadata": {},
     "output_type": "execute_result"
    }
   ],
   "source": [
    "df_resultado['cluster'].value_counts()"
   ]
  },
  {
   "cell_type": "code",
   "execution_count": 11,
   "id": "97ec6781-a435-45ec-af53-da3550043408",
   "metadata": {},
   "outputs": [],
   "source": [
    "# Guardar el df\n",
    "clustering_path = \"../00.data/clustering/df_clustering_null_clicks.pkl\"\n",
    "\n",
    "with open(clustering_path, \"wb\") as f:\n",
    "    pickle.dump(df_resultado, f, protocol=pickle.HIGHEST_PROTOCOL)"
   ]
  },
  {
   "cell_type": "code",
   "execution_count": null,
   "id": "a2b09f5b-7794-49c3-833d-bb8652335914",
   "metadata": {},
   "outputs": [],
   "source": []
  }
 ],
 "metadata": {
  "kernelspec": {
   "display_name": "Python 3 (ipykernel)",
   "language": "python",
   "name": "python3"
  },
  "language_info": {
   "codemirror_mode": {
    "name": "ipython",
    "version": 3
   },
   "file_extension": ".py",
   "mimetype": "text/x-python",
   "name": "python",
   "nbconvert_exporter": "python",
   "pygments_lexer": "ipython3",
   "version": "3.12.3"
  }
 },
 "nbformat": 4,
 "nbformat_minor": 5
}
